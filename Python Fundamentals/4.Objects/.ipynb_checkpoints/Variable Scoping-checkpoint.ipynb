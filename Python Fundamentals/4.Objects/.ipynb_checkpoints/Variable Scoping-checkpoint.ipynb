{
 "cells": [
  {
   "cell_type": "markdown",
   "metadata": {},
   "source": [
    "# Python Name Scopes:\n",
    "\n",
    "# LEGB:\n",
    "\n",
    "    => Local           - Inside the current function\n",
    "    => Enclosing       - Any and all enclosing function\n",
    "    => Global          - Top level of module\n",
    "    => Built-in        - Provided the builtin module"
   ]
  },
  {
   "cell_type": "code",
   "execution_count": 2,
   "metadata": {},
   "outputs": [
    {
     "name": "stdout",
     "output_type": "stream",
     "text": [
      "<class 'list'>\n",
      "It\n",
      "was\n",
      "the\n",
      "best\n",
      "of\n",
      "times\n",
      "it\n",
      "was\n",
      "the\n",
      "worst\n",
      "of\n",
      "times\n",
      "it\n",
      "was\n",
      "the\n",
      "age\n",
      "of\n",
      "wisdom\n",
      "it\n",
      "was\n",
      "the\n",
      "age\n",
      "of\n",
      "foolishness\n",
      "it\n",
      "was\n",
      "the\n",
      "epoch\n",
      "of\n",
      "belief\n",
      "it\n",
      "was\n",
      "the\n",
      "epoch\n",
      "of\n",
      "incredulity\n",
      "it\n",
      "was\n",
      "the\n",
      "season\n",
      "of\n",
      "Light\n",
      "it\n",
      "was\n",
      "the\n",
      "season\n",
      "of\n",
      "Darkness\n",
      "it\n",
      "was\n",
      "the\n",
      "spring\n",
      "of\n",
      "hope\n",
      "it\n",
      "was\n",
      "the\n",
      "winter\n",
      "of\n",
      "despair\n",
      "we\n",
      "had\n",
      "everything\n",
      "before\n",
      "us\n",
      "we\n",
      "had\n",
      "nothing\n",
      "before\n",
      "us\n",
      "we\n",
      "were\n",
      "all\n",
      "going\n",
      "direct\n",
      "to\n",
      "Heaven\n",
      "we\n",
      "were\n",
      "all\n",
      "going\n",
      "direct\n",
      "the\n",
      "other\n",
      "way\n",
      "in\n",
      "short\n",
      "the\n",
      "period\n",
      "was\n",
      "so\n",
      "far\n",
      "like\n",
      "the\n",
      "present\n",
      "period\n",
      "that\n",
      "some\n",
      "of\n",
      "its\n",
      "noisiest\n",
      "authorities\n",
      "insisted\n",
      "on\n",
      "its\n",
      "being\n",
      "received\n",
      "for\n",
      "good\n",
      "or\n",
      "for\n",
      "evil\n",
      "in\n",
      "the\n",
      "superlative\n",
      "degree\n",
      "of\n",
      "comparison\n",
      "only\n"
     ]
    }
   ],
   "source": [
    "import sys\n",
    "from urllib.request import urlopen\n",
    "\n",
    "# 'http://sixty-north.com/c/t.txt'\n",
    "def fetch_words(url):\n",
    "\tstory_words = []\n",
    "\twith urlopen(url) as story:\n",
    "\t\tfor line in story:\n",
    "\t\t\tline_words = line.decode('utf-8').split()\n",
    "\t\t\tfor word in line_words:\n",
    "\t\t\t\tstory_words.append(word)\n",
    "\treturn story_words\n",
    "\n",
    "def print_words(story_words):\n",
    "\tprint(type(story_words))\n",
    "\tfor word in story_words:\n",
    "\t\tprint(word)\n",
    "\n",
    "def main(url):\n",
    "\tstory_words = fetch_words(url)\n",
    "\tprint_words(story_words)\n",
    "\n",
    "if __name__ == '__main__':\n",
    "\tmain('http://sixty-north.com/c/t.txt')\n",
    "\n"
   ]
  },
  {
   "cell_type": "markdown",
   "metadata": {},
   "source": [
    "# Module Scope Names:\n",
    "    => sys\n",
    "    => urlopen\n",
    "    => fetch_words\n",
    "    => print_words\n",
    "    => main\n",
    "    => __name__"
   ]
  },
  {
   "cell_type": "markdown",
   "metadata": {},
   "source": [
    "# Local Scope Names:\n",
    "\n",
    "    => url\n",
    "    => stro_words\n",
    "    => line\n",
    "    => story\n",
    "    => line_words\n",
    "    => word\n",
    " "
   ]
  },
  {
   "cell_type": "markdown",
   "metadata": {},
   "source": [
    "# Global:"
   ]
  },
  {
   "cell_type": "code",
   "execution_count": 9,
   "metadata": {},
   "outputs": [],
   "source": [
    "count =0\n",
    "\n",
    "def set_count(c):\n",
    "    count = c\n",
    "def get_count():\n",
    "    print('count = %i'%(count))"
   ]
  },
  {
   "cell_type": "code",
   "execution_count": 10,
   "metadata": {},
   "outputs": [
    {
     "name": "stdout",
     "output_type": "stream",
     "text": [
      "count = 0\n"
     ]
    }
   ],
   "source": [
    "get_count()"
   ]
  },
  {
   "cell_type": "code",
   "execution_count": 11,
   "metadata": {},
   "outputs": [
    {
     "name": "stdout",
     "output_type": "stream",
     "text": [
      "count = 0\n"
     ]
    }
   ],
   "source": [
    "set_count(10)\n",
    "get_count()"
   ]
  },
  {
   "cell_type": "code",
   "execution_count": 12,
   "metadata": {},
   "outputs": [],
   "source": [
    "count =0\n",
    "def set_count(c):\n",
    "    global count\n",
    "    count = c\n",
    "\n",
    "def get_count():\n",
    "    print(f'count = {count}')"
   ]
  },
  {
   "cell_type": "code",
   "execution_count": 14,
   "metadata": {},
   "outputs": [
    {
     "name": "stdout",
     "output_type": "stream",
     "text": [
      "count = 0\n"
     ]
    }
   ],
   "source": [
    "get_count()"
   ]
  },
  {
   "cell_type": "code",
   "execution_count": 15,
   "metadata": {},
   "outputs": [
    {
     "name": "stdout",
     "output_type": "stream",
     "text": [
      "count = 100\n"
     ]
    }
   ],
   "source": [
    "set_count(100)\n",
    "get_count()"
   ]
  },
  {
   "cell_type": "code",
   "execution_count": null,
   "metadata": {},
   "outputs": [],
   "source": []
  }
 ],
 "metadata": {
  "kernelspec": {
   "display_name": "Python 3",
   "language": "python",
   "name": "python3"
  },
  "language_info": {
   "codemirror_mode": {
    "name": "ipython",
    "version": 3
   },
   "file_extension": ".py",
   "mimetype": "text/x-python",
   "name": "python",
   "nbconvert_exporter": "python",
   "pygments_lexer": "ipython3",
   "version": "3.7.1"
  }
 },
 "nbformat": 4,
 "nbformat_minor": 2
}
