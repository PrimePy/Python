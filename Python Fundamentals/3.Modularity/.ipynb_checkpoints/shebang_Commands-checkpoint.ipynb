{
 "cells": [
  {
   "cell_type": "code",
   "execution_count": null,
   "metadata": {},
   "outputs": [],
   "source": [
    "#!/usr/bin/env python3\n",
    "\n",
    "\"\"\"\n",
    "This module used to fecth and display the corresponding url data.\n",
    "\n",
    "Author: Optimus prime\n",
    "\n",
    "\"\"\"\n",
    "from urllib.request import urlopen\n",
    "\n",
    "def fetch_words(url):\n",
    "    \"\"\"\n",
    "    fetch_words mwthod used to fetch the data from the corresponding url.\n",
    "    \n",
    "    Args:\n",
    "        url - Unified resource locator\n",
    "    \n",
    "    Returns:\n",
    "        url data in the form list\n",
    "\n",
    "    \"\"\"\n",
    "    story_word = []\n",
    "    with urlopen(url) as story:\n",
    "        for line in story:\n",
    "            line_words = line.decode('utf-8').split()\n",
    "            for words in line_words:\n",
    "                story_word.append(words)\n",
    "    return story_word\n",
    "        \n",
    "\n",
    "\n",
    "def print_words(story_data):\n",
    "    \"\"\"\n",
    "    print_words mwthod used to display the data from the corresponding url.\n",
    "    \n",
    "    Args:\n",
    "        story_data - url data in the form of list\n",
    "\n",
    "    \"\"\" \n",
    "    for word in story_data:\n",
    "        print(word)\n",
    "        \n",
    "def main(url):\n",
    "    \"\"\"\n",
    "    main method used to trigger both fetch_words and print_words methods.\n",
    "    \n",
    "    Args:\n",
    "        url - Unified resoure locator\n",
    "        \n",
    "    \"\"\"\n",
    "    print_words(fetch_words(url))\n",
    "\n",
    "if __name__ == '__main__':\n",
    "    main('http://sixty-north.com/c/t.txt')\n",
    "    "
   ]
  }
 ],
 "metadata": {
  "kernelspec": {
   "display_name": "Python 3",
   "language": "python",
   "name": "python3"
  },
  "language_info": {
   "codemirror_mode": {
    "name": "ipython",
    "version": 3
   },
   "file_extension": ".py",
   "mimetype": "text/x-python",
   "name": "python",
   "nbconvert_exporter": "python",
   "pygments_lexer": "ipython3",
   "version": "3.7.1"
  }
 },
 "nbformat": 4,
 "nbformat_minor": 2
}
