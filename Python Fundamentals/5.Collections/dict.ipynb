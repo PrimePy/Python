{
 "cells": [
  {
   "cell_type": "markdown",
   "metadata": {},
   "source": [
    "# Dict:\n",
    "\n",
    "    => Keys are immutable\n",
    "    => Values are mutable\n"
   ]
  },
  {
   "cell_type": "code",
   "execution_count": 1,
   "metadata": {},
   "outputs": [],
   "source": [
    "urls= {\n",
    "    'Pluralsight' : 'http://pluralsight.com',\n",
    "    'Sixty North' : 'http://sixty-north.com',\n",
    "    'Google'      : 'http://google.com',\n",
    "    'Microsoft'   : 'http://microsoft.com'\n",
    "}"
   ]
  },
  {
   "cell_type": "code",
   "execution_count": 2,
   "metadata": {},
   "outputs": [
    {
     "data": {
      "text/plain": [
       "{'Pluralsight': 'http://pluralsight.com',\n",
       " 'Sixty North': 'http://sixty-north.com',\n",
       " 'Google': 'http://google.com',\n",
       " 'Microsoft': 'http://microsoft.com'}"
      ]
     },
     "execution_count": 2,
     "metadata": {},
     "output_type": "execute_result"
    }
   ],
   "source": [
    "urls"
   ]
  },
  {
   "cell_type": "code",
   "execution_count": 3,
   "metadata": {},
   "outputs": [
    {
     "data": {
      "text/plain": [
       "{'Optimus': 34, 'Prime': 23, 'Saravana': 45}"
      ]
     },
     "execution_count": 3,
     "metadata": {},
     "output_type": "execute_result"
    }
   ],
   "source": [
    "names_ages_list = [('Optimus', 34),('Prime', 23),('Saravana', 45)]\n",
    "name_ages = dict(names_ages_list)\n",
    "name_ages"
   ]
  },
  {
   "cell_type": "code",
   "execution_count": 5,
   "metadata": {},
   "outputs": [
    {
     "data": {
      "text/plain": [
       "{'prime': 'pudukkottai', 'optimus': 'cybetron', 'sskumar': 'trichy'}"
      ]
     },
     "execution_count": 5,
     "metadata": {},
     "output_type": "execute_result"
    }
   ],
   "source": [
    "names_location = dict(prime = 'pudukkottai', optimus = 'cybetron', sskumar = 'trichy')\n",
    "names_location"
   ]
  },
  {
   "cell_type": "code",
   "execution_count": 9,
   "metadata": {},
   "outputs": [
    {
     "data": {
      "text/plain": [
       "{'yellow': 2310930, 'blue': 2310435, 'red': 9904962, 'white': 16777215}"
      ]
     },
     "execution_count": 9,
     "metadata": {},
     "output_type": "execute_result"
    }
   ],
   "source": [
    "colors = dict(yellow = 0x234312, blue = 0x234123, red = 0x972342, white = 0xFFFFFF)\n",
    "colors"
   ]
  },
  {
   "cell_type": "code",
   "execution_count": 10,
   "metadata": {},
   "outputs": [],
   "source": [
    "copy_colors = colors.copy()"
   ]
  },
  {
   "cell_type": "code",
   "execution_count": 11,
   "metadata": {},
   "outputs": [
    {
     "data": {
      "text/plain": [
       "{'yellow': 2310930, 'blue': 2310435, 'red': 9904962, 'white': 16777215}"
      ]
     },
     "execution_count": 11,
     "metadata": {},
     "output_type": "execute_result"
    }
   ],
   "source": [
    "copy_colors"
   ]
  },
  {
   "cell_type": "code",
   "execution_count": 12,
   "metadata": {},
   "outputs": [
    {
     "data": {
      "text/plain": [
       "{'yellow': 2310930, 'blue': 2310435, 'red': 9904962, 'white': 16777215}"
      ]
     },
     "execution_count": 12,
     "metadata": {},
     "output_type": "execute_result"
    }
   ],
   "source": [
    "dict(copy_colors)"
   ]
  },
  {
   "cell_type": "code",
   "execution_count": 16,
   "metadata": {},
   "outputs": [
    {
     "data": {
      "text/plain": [
       "{'yellow': 2310930,\n",
       " 'blue': 2310435,\n",
       " 'red': 9904962,\n",
       " 'white': 16777215,\n",
       " 'orange': 5456434,\n",
       " 'green': 9652956}"
      ]
     },
     "execution_count": 16,
     "metadata": {},
     "output_type": "execute_result"
    }
   ],
   "source": [
    "add_colors = {'orange' : 0x534232, 'green' : 0x934adc}\n",
    "copy_colors.update(add_colors)\n",
    "copy_colors"
   ]
  },
  {
   "cell_type": "code",
   "execution_count": 17,
   "metadata": {},
   "outputs": [
    {
     "name": "stdout",
     "output_type": "stream",
     "text": [
      "color : yellow - color code : 2310930\n",
      "color : blue - color code : 2310435\n",
      "color : red - color code : 9904962\n",
      "color : white - color code : 16777215\n",
      "color : orange - color code : 5456434\n",
      "color : green - color code : 9652956\n"
     ]
    }
   ],
   "source": [
    "for key in copy_colors:\n",
    "    print('color : {key} - color code : {value}'.format(key = key, value = copy_colors[key]))"
   ]
  },
  {
   "cell_type": "code",
   "execution_count": 18,
   "metadata": {},
   "outputs": [
    {
     "name": "stdout",
     "output_type": "stream",
     "text": [
      "2310930\n",
      "2310435\n",
      "9904962\n",
      "16777215\n",
      "5456434\n",
      "9652956\n"
     ]
    }
   ],
   "source": [
    "for val in copy_colors.values():\n",
    "    print(val)"
   ]
  },
  {
   "cell_type": "code",
   "execution_count": 20,
   "metadata": {},
   "outputs": [
    {
     "name": "stdout",
     "output_type": "stream",
     "text": [
      "yellow\n",
      "blue\n",
      "red\n",
      "white\n",
      "orange\n",
      "green\n"
     ]
    }
   ],
   "source": [
    "for key in copy_colors.keys():\n",
    "    print(key)"
   ]
  },
  {
   "cell_type": "code",
   "execution_count": 21,
   "metadata": {},
   "outputs": [
    {
     "name": "stdout",
     "output_type": "stream",
     "text": [
      "yellow 2310930\n",
      "blue 2310435\n",
      "red 9904962\n",
      "white 16777215\n",
      "orange 5456434\n",
      "green 9652956\n"
     ]
    }
   ],
   "source": [
    "for key,val in  copy_colors.items():\n",
    "    print(key, val)"
   ]
  },
  {
   "cell_type": "code",
   "execution_count": 22,
   "metadata": {},
   "outputs": [
    {
     "data": {
      "text/plain": [
       "True"
      ]
     },
     "execution_count": 22,
     "metadata": {},
     "output_type": "execute_result"
    }
   ],
   "source": [
    "'yellow' in copy_colors"
   ]
  },
  {
   "cell_type": "code",
   "execution_count": 23,
   "metadata": {},
   "outputs": [
    {
     "data": {
      "text/plain": [
       "True"
      ]
     },
     "execution_count": 23,
     "metadata": {},
     "output_type": "execute_result"
    }
   ],
   "source": [
    "'skyblue' not in copy_colors"
   ]
  },
  {
   "cell_type": "code",
   "execution_count": 25,
   "metadata": {},
   "outputs": [],
   "source": [
    "del copy_colors['yellow']"
   ]
  },
  {
   "cell_type": "code",
   "execution_count": 26,
   "metadata": {},
   "outputs": [
    {
     "data": {
      "text/plain": [
       "{'blue': 2310435,\n",
       " 'red': 9904962,\n",
       " 'white': 16777215,\n",
       " 'orange': 5456434,\n",
       " 'green': 9652956}"
      ]
     },
     "execution_count": 26,
     "metadata": {},
     "output_type": "execute_result"
    }
   ],
   "source": [
    "copy_colors"
   ]
  },
  {
   "cell_type": "code",
   "execution_count": 27,
   "metadata": {},
   "outputs": [],
   "source": [
    "copy_colors['green']+=0x333333"
   ]
  },
  {
   "cell_type": "code",
   "execution_count": 28,
   "metadata": {},
   "outputs": [
    {
     "data": {
      "text/plain": [
       "{'blue': 2310435,\n",
       " 'red': 9904962,\n",
       " 'white': 16777215,\n",
       " 'orange': 5456434,\n",
       " 'green': 13008399}"
      ]
     },
     "execution_count": 28,
     "metadata": {},
     "output_type": "execute_result"
    }
   ],
   "source": [
    "copy_colors"
   ]
  },
  {
   "cell_type": "code",
   "execution_count": 29,
   "metadata": {},
   "outputs": [],
   "source": [
    "copy_colors['sky_blue'] = 0xaaaaaa"
   ]
  },
  {
   "cell_type": "code",
   "execution_count": 30,
   "metadata": {},
   "outputs": [
    {
     "data": {
      "text/plain": [
       "{'blue': 2310435,\n",
       " 'red': 9904962,\n",
       " 'white': 16777215,\n",
       " 'orange': 5456434,\n",
       " 'green': 13008399,\n",
       " 'sky_blue': 11184810}"
      ]
     },
     "execution_count": 30,
     "metadata": {},
     "output_type": "execute_result"
    }
   ],
   "source": [
    "copy_colors"
   ]
  },
  {
   "cell_type": "code",
   "execution_count": 31,
   "metadata": {},
   "outputs": [],
   "source": [
    "from pprint import pprint as pp"
   ]
  },
  {
   "cell_type": "code",
   "execution_count": 32,
   "metadata": {},
   "outputs": [
    {
     "name": "stdout",
     "output_type": "stream",
     "text": [
      "{'blue': 2310435,\n",
      " 'green': 13008399,\n",
      " 'orange': 5456434,\n",
      " 'red': 9904962,\n",
      " 'sky_blue': 11184810,\n",
      " 'white': 16777215}\n"
     ]
    }
   ],
   "source": [
    "pp(copy_colors)"
   ]
  },
  {
   "cell_type": "code",
   "execution_count": null,
   "metadata": {},
   "outputs": [],
   "source": []
  }
 ],
 "metadata": {
  "kernelspec": {
   "display_name": "Python 3",
   "language": "python",
   "name": "python3"
  },
  "language_info": {
   "codemirror_mode": {
    "name": "ipython",
    "version": 3
   },
   "file_extension": ".py",
   "mimetype": "text/x-python",
   "name": "python",
   "nbconvert_exporter": "python",
   "pygments_lexer": "ipython3",
   "version": "3.7.1"
  }
 },
 "nbformat": 4,
 "nbformat_minor": 2
}
