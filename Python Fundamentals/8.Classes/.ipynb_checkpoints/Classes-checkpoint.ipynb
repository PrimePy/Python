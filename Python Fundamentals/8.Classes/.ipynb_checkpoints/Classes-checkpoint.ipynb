{
 "cells": [
  {
   "cell_type": "code",
   "execution_count": 2,
   "metadata": {},
   "outputs": [
    {
     "data": {
      "text/plain": [
       "__main__.Flight"
      ]
     },
     "execution_count": 2,
     "metadata": {},
     "output_type": "execute_result"
    }
   ],
   "source": [
    "class Flight:\n",
    "    pass\n",
    "Flight"
   ]
  },
  {
   "cell_type": "code",
   "execution_count": 3,
   "metadata": {},
   "outputs": [
    {
     "data": {
      "text/plain": [
       "__main__.Flight"
      ]
     },
     "execution_count": 3,
     "metadata": {},
     "output_type": "execute_result"
    }
   ],
   "source": [
    "f = Flight()\n",
    "type(f)"
   ]
  },
  {
   "cell_type": "code",
   "execution_count": 4,
   "metadata": {},
   "outputs": [],
   "source": [
    "class Flight:\n",
    "    def number(self):\n",
    "        return 'SN100'"
   ]
  },
  {
   "cell_type": "code",
   "execution_count": 5,
   "metadata": {},
   "outputs": [
    {
     "data": {
      "text/plain": [
       "'SN100'"
      ]
     },
     "execution_count": 5,
     "metadata": {},
     "output_type": "execute_result"
    }
   ],
   "source": [
    "f = Flight()\n",
    "f.number()"
   ]
  },
  {
   "cell_type": "code",
   "execution_count": 8,
   "metadata": {},
   "outputs": [
    {
     "data": {
      "text/plain": [
       "'SN100'"
      ]
     },
     "execution_count": 8,
     "metadata": {},
     "output_type": "execute_result"
    }
   ],
   "source": [
    "Flight.number(f)"
   ]
  },
  {
   "cell_type": "code",
   "execution_count": 9,
   "metadata": {},
   "outputs": [],
   "source": [
    "class Flight:\n",
    "    \"\"\"  __init__ is as initializer not an constructor\"\"\"\n",
    "    def __init__(self, number):\n",
    "        \"\"\" _number remove name clases.\"\"\"\n",
    "        self._number = number\n",
    "    \n",
    "    def number(self):\n",
    "        return self._number\n",
    "        "
   ]
  },
  {
   "cell_type": "code",
   "execution_count": 11,
   "metadata": {},
   "outputs": [
    {
     "data": {
      "text/plain": [
       "'SB1001'"
      ]
     },
     "execution_count": 11,
     "metadata": {},
     "output_type": "execute_result"
    }
   ],
   "source": [
    "f = Flight('SB1001')\n",
    "f.number()"
   ]
  },
  {
   "cell_type": "markdown",
   "metadata": {},
   "source": [
    "# Python everything is an public"
   ]
  },
  {
   "cell_type": "code",
   "execution_count": 17,
   "metadata": {},
   "outputs": [],
   "source": [
    "class Flight:\n",
    "    \"\"\"  __init__ is as initializer not an constructor\"\"\"\n",
    "    def __init__(self, number, aircraft):\n",
    "        \"\"\" _number remove name clases.\"\"\"\n",
    "        self._number = number\n",
    "        self._aircraft = aircraft\n",
    "    \n",
    "    def number(self):\n",
    "        return self._number\n",
    "\n",
    "    def airline(self):\n",
    "        return self._number[:2]\n",
    "    \n",
    "    def aircraft_mode(self):\n",
    "        return self._aircraft.model()"
   ]
  },
  {
   "cell_type": "code",
   "execution_count": 13,
   "metadata": {},
   "outputs": [],
   "source": [
    "class AirCraft:\n",
    "    \n",
    "    def __init__(self, registration, model, num_rows, num_seats_per_row):\n",
    "        self._registration = registration\n",
    "        self._model = model\n",
    "        self._num_rows = num_rows\n",
    "        self._num_seats_per_row = num_seats_per_row\n",
    "    \n",
    "    def registration(self):\n",
    "        return self._registration\n",
    "    \n",
    "    def model(self):\n",
    "        return self._model\n",
    "    \n",
    "    def seating_plan(self):\n",
    "        return (range(1, self._num_rows+1),\n",
    "                'ABCDEFGHIJK'[:self._num_seats_per_row])"
   ]
  },
  {
   "cell_type": "code",
   "execution_count": 14,
   "metadata": {},
   "outputs": [
    {
     "data": {
      "text/plain": [
       "(range(1, 11), 'ABCDE')"
      ]
     },
     "execution_count": 14,
     "metadata": {},
     "output_type": "execute_result"
    }
   ],
   "source": [
    "a = AirCraft(1, 'Online', 10, 5)\n",
    "a.seating_plan()"
   ]
  },
  {
   "cell_type": "code",
   "execution_count": 15,
   "metadata": {},
   "outputs": [
    {
     "data": {
      "text/plain": [
       "1"
      ]
     },
     "execution_count": 15,
     "metadata": {},
     "output_type": "execute_result"
    }
   ],
   "source": [
    "a.registration()"
   ]
  },
  {
   "cell_type": "code",
   "execution_count": 16,
   "metadata": {},
   "outputs": [
    {
     "data": {
      "text/plain": [
       "'Online'"
      ]
     },
     "execution_count": 16,
     "metadata": {},
     "output_type": "execute_result"
    }
   ],
   "source": [
    "a.model()"
   ]
  },
  {
   "cell_type": "code",
   "execution_count": 21,
   "metadata": {},
   "outputs": [],
   "source": [
    "f = Flight('AI1000', AirCraft(2, 'Offline', 15,3))"
   ]
  },
  {
   "cell_type": "code",
   "execution_count": 22,
   "metadata": {},
   "outputs": [
    {
     "data": {
      "text/plain": [
       "'Offline'"
      ]
     },
     "execution_count": 22,
     "metadata": {},
     "output_type": "execute_result"
    }
   ],
   "source": [
    "f.aircraft_mode()"
   ]
  },
  {
   "cell_type": "code",
   "execution_count": 23,
   "metadata": {},
   "outputs": [
    {
     "data": {
      "text/plain": [
       "'AI1000'"
      ]
     },
     "execution_count": 23,
     "metadata": {},
     "output_type": "execute_result"
    }
   ],
   "source": [
    "f.number()"
   ]
  },
  {
   "cell_type": "code",
   "execution_count": 24,
   "metadata": {},
   "outputs": [
    {
     "data": {
      "text/plain": [
       "'AI'"
      ]
     },
     "execution_count": 24,
     "metadata": {},
     "output_type": "execute_result"
    }
   ],
   "source": [
    "f.airline()"
   ]
  },
  {
   "cell_type": "code",
   "execution_count": 26,
   "metadata": {},
   "outputs": [],
   "source": [
    "class Flight:\n",
    "    \"\"\"  __init__ is as initializer not an constructor\"\"\"\n",
    "    def __init__(self, number, aircraft):\n",
    "        \"\"\" _number remove name clases.\"\"\"\n",
    "        self._number = number\n",
    "        self._aircraft = aircraft\n",
    "        rows, seats = self._aircraft.seating_plan()\n",
    "        self._seating = [None] + [{letter: None for letter in seats} for _ in rows]\n",
    "    \n",
    "    def number(self):\n",
    "        return self._number\n",
    "\n",
    "    def airline(self):\n",
    "        return self._number[:2]\n",
    "    \n",
    "    def aircraft_mode(self):\n",
    "        return self._aircraft.model()"
   ]
  },
  {
   "cell_type": "code",
   "execution_count": 27,
   "metadata": {},
   "outputs": [
    {
     "name": "stdout",
     "output_type": "stream",
     "text": [
      "[None,\n",
      " {'A': None, 'B': None, 'C': None, 'D': None, 'E': None},\n",
      " {'A': None, 'B': None, 'C': None, 'D': None, 'E': None},\n",
      " {'A': None, 'B': None, 'C': None, 'D': None, 'E': None},\n",
      " {'A': None, 'B': None, 'C': None, 'D': None, 'E': None},\n",
      " {'A': None, 'B': None, 'C': None, 'D': None, 'E': None},\n",
      " {'A': None, 'B': None, 'C': None, 'D': None, 'E': None},\n",
      " {'A': None, 'B': None, 'C': None, 'D': None, 'E': None},\n",
      " {'A': None, 'B': None, 'C': None, 'D': None, 'E': None},\n",
      " {'A': None, 'B': None, 'C': None, 'D': None, 'E': None},\n",
      " {'A': None, 'B': None, 'C': None, 'D': None, 'E': None},\n",
      " {'A': None, 'B': None, 'C': None, 'D': None, 'E': None},\n",
      " {'A': None, 'B': None, 'C': None, 'D': None, 'E': None},\n",
      " {'A': None, 'B': None, 'C': None, 'D': None, 'E': None},\n",
      " {'A': None, 'B': None, 'C': None, 'D': None, 'E': None},\n",
      " {'A': None, 'B': None, 'C': None, 'D': None, 'E': None}]\n"
     ]
    }
   ],
   "source": [
    "from pprint import pprint as pp\n",
    "\n",
    "f = Flight('AI1000', AirCraft(2, 'Offline', 15,5))\n",
    "pp(f._seating)"
   ]
  },
  {
   "cell_type": "code",
   "execution_count": 31,
   "metadata": {},
   "outputs": [],
   "source": [
    "class Flight:\n",
    "    \"\"\"  __init__ is as initializer not an constructor\"\"\"\n",
    "    def __init__(self, number, aircraft):\n",
    "        \"\"\" _number remove name clases.\"\"\"\n",
    "        self._number = number\n",
    "        self._aircraft = aircraft\n",
    "        rows, seats = self._aircraft.seating_plan()\n",
    "        self._seating = [None] + [{letter: None for letter in seats} for _ in rows]\n",
    "    \n",
    "    def number(self):\n",
    "        return self._number\n",
    "\n",
    "    def airline(self):\n",
    "        return self._number[:2]\n",
    "    \n",
    "    def aircraft_mode(self):\n",
    "        return self._aircraft.model()\n",
    "    \n",
    "    def allocate_seat(self, seat, passenger):\n",
    "        rows, seats = self._aircraft.seating_plan()\n",
    "        letter = seat[-1]\n",
    "        if letter not in seats:\n",
    "            raise ValueError('Invalid Seat Letter {}'.format(letter))\n",
    "        row_text = seat[:-1]\n",
    "        try:\n",
    "            row = int(row_text)\n",
    "        except ValueError:\n",
    "            raise ValueError('Invalid seat row {}'.format(row_text))    \n",
    "        if row not in rows:\n",
    "            raise ValueError('Invalid row number {]'.format(row))\n",
    "        if self._seating[row][letter] is not None:\n",
    "            raise ValueError('Seat {} already occupied'.format(seat))\n",
    "        self._seating[row][letter] = passenger\n",
    "        \n"
   ]
  },
  {
   "cell_type": "code",
   "execution_count": 37,
   "metadata": {},
   "outputs": [
    {
     "name": "stdout",
     "output_type": "stream",
     "text": [
      "[None,\n",
      " {'A': 'Saravna', 'B': None, 'C': None, 'D': None, 'E': None},\n",
      " {'A': None, 'B': 'Satheesh', 'C': None, 'D': None, 'E': None},\n",
      " {'A': None, 'B': None, 'C': None, 'D': None, 'E': None},\n",
      " {'A': None, 'B': None, 'C': None, 'D': None, 'E': None},\n",
      " {'A': None, 'B': 'Prime', 'C': 'Optimus', 'D': None, 'E': None},\n",
      " {'A': None, 'B': None, 'C': None, 'D': None, 'E': None},\n",
      " {'A': None, 'B': 'Over', 'C': 'Ranjani', 'D': None, 'E': None},\n",
      " {'A': None, 'B': None, 'C': None, 'D': None, 'E': None},\n",
      " {'A': None, 'B': None, 'C': None, 'D': None, 'E': None},\n",
      " {'A': None, 'B': None, 'C': None, 'D': None, 'E': None},\n",
      " {'A': None, 'B': None, 'C': None, 'D': None, 'E': None},\n",
      " {'A': None, 'B': None, 'C': None, 'D': None, 'E': None},\n",
      " {'A': None, 'B': None, 'C': None, 'D': None, 'E': None},\n",
      " {'A': None, 'B': None, 'C': None, 'D': None, 'E': None},\n",
      " {'A': None, 'B': None, 'C': None, 'D': None, 'E': None}]\n"
     ]
    }
   ],
   "source": [
    "\n",
    "f = Flight('AI1000', AirCraft(2, 'Offline', 15,5))\n",
    "f.allocate_seat('5C', 'Optimus')\n",
    "f.allocate_seat('5B', 'Prime')\n",
    "f.allocate_seat('1A', 'Saravna')\n",
    "f.allocate_seat('2B', 'Satheesh')\n",
    "f.allocate_seat('7C', 'Ranjani')\n",
    "f.allocate_seat('7B', 'Over')\n",
    "pp(f._seating)"
   ]
  },
  {
   "cell_type": "code",
   "execution_count": 38,
   "metadata": {},
   "outputs": [
    {
     "ename": "ValueError",
     "evalue": "Seat 7B already occupied",
     "output_type": "error",
     "traceback": [
      "\u001b[1;31m---------------------------------------------------------------------------\u001b[0m",
      "\u001b[1;31mValueError\u001b[0m                                Traceback (most recent call last)",
      "\u001b[1;32m<ipython-input-38-62c51e864f75>\u001b[0m in \u001b[0;36m<module>\u001b[1;34m\u001b[0m\n\u001b[1;32m----> 1\u001b[1;33m \u001b[0mf\u001b[0m\u001b[1;33m.\u001b[0m\u001b[0mallocate_seat\u001b[0m\u001b[1;33m(\u001b[0m\u001b[1;34m'7B'\u001b[0m\u001b[1;33m,\u001b[0m \u001b[1;34m'Prime'\u001b[0m\u001b[1;33m)\u001b[0m\u001b[1;33m\u001b[0m\u001b[1;33m\u001b[0m\u001b[0m\n\u001b[0m",
      "\u001b[1;32m<ipython-input-31-993b8fb28d7c>\u001b[0m in \u001b[0;36mallocate_seat\u001b[1;34m(self, seat, passenger)\u001b[0m\n\u001b[0;32m     30\u001b[0m             \u001b[1;32mraise\u001b[0m \u001b[0mValueError\u001b[0m\u001b[1;33m(\u001b[0m\u001b[1;34m'Invalid row number {]'\u001b[0m\u001b[1;33m.\u001b[0m\u001b[0mformat\u001b[0m\u001b[1;33m(\u001b[0m\u001b[0mrow\u001b[0m\u001b[1;33m)\u001b[0m\u001b[1;33m)\u001b[0m\u001b[1;33m\u001b[0m\u001b[1;33m\u001b[0m\u001b[0m\n\u001b[0;32m     31\u001b[0m         \u001b[1;32mif\u001b[0m \u001b[0mself\u001b[0m\u001b[1;33m.\u001b[0m\u001b[0m_seating\u001b[0m\u001b[1;33m[\u001b[0m\u001b[0mrow\u001b[0m\u001b[1;33m]\u001b[0m\u001b[1;33m[\u001b[0m\u001b[0mletter\u001b[0m\u001b[1;33m]\u001b[0m \u001b[1;32mis\u001b[0m \u001b[1;32mnot\u001b[0m \u001b[1;32mNone\u001b[0m\u001b[1;33m:\u001b[0m\u001b[1;33m\u001b[0m\u001b[1;33m\u001b[0m\u001b[0m\n\u001b[1;32m---> 32\u001b[1;33m             \u001b[1;32mraise\u001b[0m \u001b[0mValueError\u001b[0m\u001b[1;33m(\u001b[0m\u001b[1;34m'Seat {} already occupied'\u001b[0m\u001b[1;33m.\u001b[0m\u001b[0mformat\u001b[0m\u001b[1;33m(\u001b[0m\u001b[0mseat\u001b[0m\u001b[1;33m)\u001b[0m\u001b[1;33m)\u001b[0m\u001b[1;33m\u001b[0m\u001b[1;33m\u001b[0m\u001b[0m\n\u001b[0m\u001b[0;32m     33\u001b[0m         \u001b[0mself\u001b[0m\u001b[1;33m.\u001b[0m\u001b[0m_seating\u001b[0m\u001b[1;33m[\u001b[0m\u001b[0mrow\u001b[0m\u001b[1;33m]\u001b[0m\u001b[1;33m[\u001b[0m\u001b[0mletter\u001b[0m\u001b[1;33m]\u001b[0m \u001b[1;33m=\u001b[0m \u001b[0mpassenger\u001b[0m\u001b[1;33m\u001b[0m\u001b[1;33m\u001b[0m\u001b[0m\n\u001b[0;32m     34\u001b[0m \u001b[1;33m\u001b[0m\u001b[0m\n",
      "\u001b[1;31mValueError\u001b[0m: Seat 7B already occupied"
     ]
    }
   ],
   "source": [
    "f.allocate_seat('7B', 'Prime')"
   ]
  },
  {
   "cell_type": "code",
   "execution_count": 42,
   "metadata": {},
   "outputs": [],
   "source": [
    "class Flight:\n",
    "    \"\"\"  __init__ is as initializer not an constructor\"\"\"\n",
    "    def __init__(self, number, aircraft):\n",
    "        \"\"\" _number remove name clases.\"\"\"\n",
    "        self._number = number\n",
    "        self._aircraft = aircraft\n",
    "        rows, seats = self._aircraft.seating_plan()\n",
    "        self._seating = [None] + [{letter: None for letter in seats} for _ in rows]\n",
    "    \n",
    "    def number(self):\n",
    "        return self._number\n",
    "\n",
    "    def airline(self):\n",
    "        return self._number[:2]\n",
    "    \n",
    "    def aircraft_mode(self):\n",
    "        return self._aircraft.model()\n",
    "    \n",
    "    def parse_seat(self, seat):\n",
    "        rows, seats = self._aircraft.seating_plan()\n",
    "        letter = seat[-1]\n",
    "        if letter not in seats:\n",
    "            raise ValueError('Invalid Seat Letter {}'.format(letter))\n",
    "        row_text = seat[:-1]\n",
    "        try:\n",
    "            row = int(row_text)\n",
    "        except ValueError:\n",
    "            raise ValueError('Invalid seat row {}'.format(row_text))    \n",
    "        if row not in rows:\n",
    "            raise ValueError('Invalid row number {]'.format(row))\n",
    "        return row, letter\n",
    "    \n",
    "    def allocate_seat(self, seat, passenger):\n",
    "        row, letter = self.parse_seat(seat)\n",
    "        if self._seating[row][letter] is not None:\n",
    "            raise ValueError('Seat {} already occupied'.format(seat))\n",
    "        self._seating[row][letter] = passenger\n",
    "        \n"
   ]
  },
  {
   "cell_type": "code",
   "execution_count": 44,
   "metadata": {},
   "outputs": [
    {
     "name": "stdout",
     "output_type": "stream",
     "text": [
      "[None,\n",
      " {'A': 'Saravna', 'B': None, 'C': None, 'D': None, 'E': None},\n",
      " {'A': None, 'B': 'Satheesh', 'C': None, 'D': None, 'E': None},\n",
      " {'A': None, 'B': None, 'C': None, 'D': None, 'E': None},\n",
      " {'A': None, 'B': None, 'C': None, 'D': None, 'E': None},\n",
      " {'A': None, 'B': 'Prime', 'C': 'Optimus', 'D': None, 'E': None},\n",
      " {'A': None, 'B': None, 'C': None, 'D': None, 'E': None},\n",
      " {'A': None, 'B': None, 'C': None, 'D': 'Ranjani', 'E': 'Optimus Prime'},\n",
      " {'A': None, 'B': None, 'C': None, 'D': None, 'E': None},\n",
      " {'A': None, 'B': None, 'C': None, 'D': None, 'E': None},\n",
      " {'A': None, 'B': None, 'C': None, 'D': None, 'E': None},\n",
      " {'A': None, 'B': None, 'C': None, 'D': None, 'E': None},\n",
      " {'A': None, 'B': None, 'C': None, 'D': None, 'E': None},\n",
      " {'A': None, 'B': None, 'C': None, 'D': None, 'E': None},\n",
      " {'A': None, 'B': None, 'C': None, 'D': None, 'E': None},\n",
      " {'A': None, 'B': None, 'C': None, 'D': None, 'E': None}]\n"
     ]
    }
   ],
   "source": [
    "\n",
    "f = Flight('AI1000', AirCraft(2, 'Offline', 15,5))\n",
    "f.allocate_seat('5C', 'Optimus')\n",
    "f.allocate_seat('5B', 'Prime')\n",
    "f.allocate_seat('1A', 'Saravna')\n",
    "f.allocate_seat('2B', 'Satheesh')\n",
    "f.allocate_seat('7D', 'Ranjani')\n",
    "f.allocate_seat('7E', 'Optimus Prime')\n",
    "pp(f._seating)"
   ]
  },
  {
   "cell_type": "code",
   "execution_count": 49,
   "metadata": {},
   "outputs": [],
   "source": [
    "class Flight:\n",
    "    \"\"\"  __init__ is as initializer not an constructor\"\"\"\n",
    "    def __init__(self, number, aircraft):\n",
    "        \"\"\" _number remove name clases.\"\"\"\n",
    "        self._number = number\n",
    "        self._aircraft = aircraft\n",
    "        rows, seats = self._aircraft.seating_plan()\n",
    "        self._seating = [None] + [{letter: None for letter in seats} for _ in rows]\n",
    "    \n",
    "    def number(self):\n",
    "        return self._number\n",
    "\n",
    "    def airline(self):\n",
    "        return self._number[:2]\n",
    "    \n",
    "    def aircraft_mode(self):\n",
    "        return self._aircraft.model()\n",
    "    \n",
    "    def parse_seat(self, seat):\n",
    "        rows, seats = self._aircraft.seating_plan()\n",
    "        letter = seat[-1]\n",
    "        if letter not in seats:\n",
    "            raise ValueError('Invalid Seat Letter {}'.format(letter))\n",
    "        row_text = seat[:-1]\n",
    "        try:\n",
    "            row = int(row_text)\n",
    "        except ValueError:\n",
    "            raise ValueError('Invalid seat row {}'.format(row_text))    \n",
    "        if row not in rows:\n",
    "            raise ValueError('Invalid row number {]'.format(row))\n",
    "        return row, letter\n",
    "    \n",
    "    def allocate_seat(self, seat, passenger):\n",
    "        row, letter = self.parse_seat(seat)\n",
    "        if self._seating[row][letter] is not None:\n",
    "            raise ValueError('Seat {} already occupied'.format(seat))\n",
    "        self._seating[row][letter] = passenger\n",
    "        \n",
    "    def relocate_seat(self, from_seat, to_seat):\n",
    "        from_row, from_letter = self.parse_seat(from_seat)\n",
    "        if self._seating[from_row][from_letter] is None:\n",
    "            raise ValueError('No passanger to relocate in seat {}'.format(from_seat))\n",
    "        to_row, to_letter = self.parse_seat(to_seat)\n",
    "        if self._seating[to_row][to_letter] is not None:\n",
    "            raise ValueError('Seat {} already occupied'.format(to_seat))\n",
    "        self._seating[to_row][to_letter] = self._seating[from_row][from_letter]\n",
    "        self._seating[from_row][from_letter] = None\n",
    "    \n",
    "def make_flight():\n",
    "    f = Flight('AI1000', AirCraft(2, 'Offline', 15,5))\n",
    "    f.allocate_seat('5C', 'Optimus')\n",
    "    f.allocate_seat('5B', 'Prime')\n",
    "    f.allocate_seat('1A', 'Saravna')\n",
    "    f.allocate_seat('2B', 'Satheesh')\n",
    "    f.allocate_seat('7D', 'Ranjani')\n",
    "    f.allocate_seat('7E', 'Optimus Prime')\n",
    "    return f"
   ]
  },
  {
   "cell_type": "code",
   "execution_count": 53,
   "metadata": {},
   "outputs": [
    {
     "name": "stdout",
     "output_type": "stream",
     "text": [
      "[None,\n",
      " {'A': 'Saravna', 'B': None, 'C': None, 'D': None, 'E': None},\n",
      " {'A': None, 'B': 'Satheesh', 'C': None, 'D': None, 'E': None},\n",
      " {'A': None, 'B': None, 'C': None, 'D': None, 'E': None},\n",
      " {'A': None, 'B': None, 'C': None, 'D': None, 'E': None},\n",
      " {'A': None, 'B': 'Prime', 'C': 'Optimus', 'D': None, 'E': None},\n",
      " {'A': None, 'B': None, 'C': None, 'D': None, 'E': None},\n",
      " {'A': None, 'B': None, 'C': None, 'D': 'Ranjani', 'E': 'Optimus Prime'},\n",
      " {'A': None, 'B': None, 'C': None, 'D': None, 'E': None},\n",
      " {'A': None, 'B': None, 'C': None, 'D': None, 'E': None},\n",
      " {'A': None, 'B': None, 'C': None, 'D': None, 'E': None},\n",
      " {'A': None, 'B': None, 'C': None, 'D': None, 'E': None},\n",
      " {'A': None, 'B': None, 'C': None, 'D': None, 'E': None},\n",
      " {'A': None, 'B': None, 'C': None, 'D': None, 'E': None},\n",
      " {'A': None, 'B': None, 'C': None, 'D': None, 'E': None},\n",
      " {'A': None, 'B': None, 'C': None, 'D': None, 'E': None}]\n"
     ]
    }
   ],
   "source": [
    "f = make_flight()\n",
    "pp(f._seating)"
   ]
  },
  {
   "cell_type": "code",
   "execution_count": 54,
   "metadata": {},
   "outputs": [],
   "source": [
    "f.relocate_seat('7E','7C')"
   ]
  },
  {
   "cell_type": "code",
   "execution_count": 55,
   "metadata": {},
   "outputs": [
    {
     "name": "stdout",
     "output_type": "stream",
     "text": [
      "[None,\n",
      " {'A': 'Saravna', 'B': None, 'C': None, 'D': None, 'E': None},\n",
      " {'A': None, 'B': 'Satheesh', 'C': None, 'D': None, 'E': None},\n",
      " {'A': None, 'B': None, 'C': None, 'D': None, 'E': None},\n",
      " {'A': None, 'B': None, 'C': None, 'D': None, 'E': None},\n",
      " {'A': None, 'B': 'Prime', 'C': 'Optimus', 'D': None, 'E': None},\n",
      " {'A': None, 'B': None, 'C': None, 'D': None, 'E': None},\n",
      " {'A': None, 'B': None, 'C': 'Optimus Prime', 'D': 'Ranjani', 'E': None},\n",
      " {'A': None, 'B': None, 'C': None, 'D': None, 'E': None},\n",
      " {'A': None, 'B': None, 'C': None, 'D': None, 'E': None},\n",
      " {'A': None, 'B': None, 'C': None, 'D': None, 'E': None},\n",
      " {'A': None, 'B': None, 'C': None, 'D': None, 'E': None},\n",
      " {'A': None, 'B': None, 'C': None, 'D': None, 'E': None},\n",
      " {'A': None, 'B': None, 'C': None, 'D': None, 'E': None},\n",
      " {'A': None, 'B': None, 'C': None, 'D': None, 'E': None},\n",
      " {'A': None, 'B': None, 'C': None, 'D': None, 'E': None}]\n"
     ]
    }
   ],
   "source": [
    "pp(f._seating)"
   ]
  },
  {
   "cell_type": "code",
   "execution_count": 79,
   "metadata": {},
   "outputs": [
    {
     "data": {
      "text/plain": [
       "69"
      ]
     },
     "execution_count": 79,
     "metadata": {},
     "output_type": "execute_result"
    }
   ],
   "source": [
    "sum(sum(1 for data in _.values() if data is  None) for _ in f._seating if _ is not None)"
   ]
  },
  {
   "cell_type": "code",
   "execution_count": 81,
   "metadata": {},
   "outputs": [],
   "source": [
    "class AirIndia:\n",
    "    def registration(self):\n",
    "        return '300'\n",
    "    \n",
    "    def model(self):\n",
    "        return 'Ultra AC'\n",
    "    \n",
    "    def seating_plan(self):\n",
    "        return (range(1, 6),\n",
    "                'ABCDEFGHIJK'[:5])"
   ]
  },
  {
   "cell_type": "code",
   "execution_count": 82,
   "metadata": {},
   "outputs": [],
   "source": [
    "class AirAsia:\n",
    "    def registration(self):\n",
    "        return '400'\n",
    "    \n",
    "    def model(self):\n",
    "        return 'AC'\n",
    "    \n",
    "    def seating_plan(self):\n",
    "        return (range(1, 10),\n",
    "                'ABCDEFGHIJK'[:6])"
   ]
  },
  {
   "cell_type": "code",
   "execution_count": 90,
   "metadata": {},
   "outputs": [
    {
     "name": "stdout",
     "output_type": "stream",
     "text": [
      "[None,\n",
      " {'A': None, 'B': None, 'C': None, 'D': None, 'E': None},\n",
      " {'A': None, 'B': None, 'C': None, 'D': None, 'E': None},\n",
      " {'A': None, 'B': None, 'C': None, 'D': None, 'E': None},\n",
      " {'A': None, 'B': None, 'C': None, 'D': None, 'E': None},\n",
      " {'A': None, 'B': None, 'C': None, 'D': None, 'E': None}]\n"
     ]
    }
   ],
   "source": [
    "f,g = Flight('AI100', AirIndia()), Flight('AA200', AirAsia())\n",
    "pp(f._seating)"
   ]
  },
  {
   "cell_type": "code",
   "execution_count": 91,
   "metadata": {},
   "outputs": [
    {
     "name": "stdout",
     "output_type": "stream",
     "text": [
      "[None,\n",
      " {'A': None, 'B': None, 'C': None, 'D': None, 'E': None, 'F': None},\n",
      " {'A': None, 'B': None, 'C': None, 'D': None, 'E': None, 'F': None},\n",
      " {'A': None, 'B': None, 'C': None, 'D': None, 'E': None, 'F': None},\n",
      " {'A': None, 'B': None, 'C': None, 'D': None, 'E': None, 'F': None},\n",
      " {'A': None, 'B': None, 'C': None, 'D': None, 'E': None, 'F': None},\n",
      " {'A': None, 'B': None, 'C': None, 'D': None, 'E': None, 'F': None},\n",
      " {'A': None, 'B': None, 'C': None, 'D': None, 'E': None, 'F': None},\n",
      " {'A': None, 'B': None, 'C': None, 'D': None, 'E': None, 'F': None},\n",
      " {'A': None, 'B': None, 'C': None, 'D': None, 'E': None, 'F': None}]\n"
     ]
    }
   ],
   "source": [
    "pp(g._seating)"
   ]
  },
  {
   "cell_type": "code",
   "execution_count": 92,
   "metadata": {},
   "outputs": [
    {
     "data": {
      "text/plain": [
       "'AI100'"
      ]
     },
     "execution_count": 92,
     "metadata": {},
     "output_type": "execute_result"
    }
   ],
   "source": [
    "f.number()"
   ]
  },
  {
   "cell_type": "code",
   "execution_count": 93,
   "metadata": {},
   "outputs": [
    {
     "data": {
      "text/plain": [
       "'AA200'"
      ]
     },
     "execution_count": 93,
     "metadata": {},
     "output_type": "execute_result"
    }
   ],
   "source": [
    "g.number()"
   ]
  },
  {
   "cell_type": "code",
   "execution_count": 94,
   "metadata": {},
   "outputs": [
    {
     "data": {
      "text/plain": [
       "'AC'"
      ]
     },
     "execution_count": 94,
     "metadata": {},
     "output_type": "execute_result"
    }
   ],
   "source": [
    "g.aircraft_mode()"
   ]
  },
  {
   "cell_type": "code",
   "execution_count": 95,
   "metadata": {},
   "outputs": [
    {
     "data": {
      "text/plain": [
       "'Ultra AC'"
      ]
     },
     "execution_count": 95,
     "metadata": {},
     "output_type": "execute_result"
    }
   ],
   "source": [
    "f.aircraft_mode()"
   ]
  },
  {
   "cell_type": "code",
   "execution_count": null,
   "metadata": {},
   "outputs": [],
   "source": []
  }
 ],
 "metadata": {
  "kernelspec": {
   "display_name": "Python 3",
   "language": "python",
   "name": "python3"
  },
  "language_info": {
   "codemirror_mode": {
    "name": "ipython",
    "version": 3
   },
   "file_extension": ".py",
   "mimetype": "text/x-python",
   "name": "python",
   "nbconvert_exporter": "python",
   "pygments_lexer": "ipython3",
   "version": "3.7.1"
  }
 },
 "nbformat": 4,
 "nbformat_minor": 2
}
