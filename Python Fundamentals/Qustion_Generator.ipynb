{
 "cells": [
  {
   "cell_type": "code",
   "execution_count": null,
   "metadata": {},
   "outputs": [],
   "source": [
    "# import libraries\n",
    "import random\n",
    "import os\n",
    "from pprint import pprint as pp"
   ]
  },
  {
   "cell_type": "code",
   "execution_count": null,
   "metadata": {},
   "outputs": [],
   "source": [
    "#make question File\n",
    "def makeQuestionFile(name, data, numQues):\n",
    "    if not os.path.exists(r'C:\\\\Users\\\\Saravanakumar\\\\Python\\\\Python Fundamentals\\\\Questions'):\n",
    "        os.mkdir('Questions')\n",
    "    os.chdir(r'C:\\\\Users\\\\Saravanakumar\\\\Python\\\\Python Fundamentals\\\\Questions')\n",
    "    print(os.getcwd())\n",
    "    with open('%s.txt'%(name), mode ='wt') as file:\n",
    "        ans = makeQues(file, data, numQues)\n",
    "        file.write('Answer key'.ljust(30)+'\\n')\n",
    "        for key,val in ans.items():\n",
    "            file.write('%i : %s'%(key, val)+'\\n')"
   ]
  },
  {
   "cell_type": "code",
   "execution_count": null,
   "metadata": {},
   "outputs": [],
   "source": [
    "#make question\n",
    "def makeQues(file, data, numQues):\n",
    "    file.write('Name '.ljust(30, ' ')+':\\n')\n",
    "    file.write('Register Number:'.ljust(30, ' ')+':\\n')\n",
    "    ans = {}\n",
    "    states = list(data.keys())\n",
    "    options = list(data.values())\n",
    "    for ques in range(1,numQues+1):\n",
    "        random.shuffle(states)\n",
    "        q = states[ques]\n",
    "        del states[states.index(q)]\n",
    "        a = data[q]\n",
    "        del options[options.index(a)]\n",
    "        random.shuffle(options)\n",
    "        o = [a] + random.sample(options,3)\n",
    "        random.shuffle(o)\n",
    "        file.write('%i. What is the capitals of %s'%(ques,q)+'\\n')\n",
    "        for option in range(4):\n",
    "            file.write('%s. %s'%('ABCD'[option], o[option])+'\\n')\n",
    "        ans[ques] = 'ABCD'[o.index(a)]\n",
    "        file.write('\\n')\n",
    "    return ans"
   ]
  },
  {
   "cell_type": "code",
   "execution_count": null,
   "metadata": {},
   "outputs": [],
   "source": [
    "# sample data\n",
    "capitals = {'Alabama': 'Montgomery', 'Alaska': 'Juneau', 'Arizona': 'Phoenix', 'Arkansas': 'Little Rock', 'California': 'Sacramento', 'Colorado': 'Denver', 'Connecticut': 'Hartford', 'Delaware': 'Dover', 'Florida': 'Tallahassee', 'Georgia': 'Atlanta', 'Hawaii': 'Honolulu', 'Idaho': 'Boise', 'Illinois': 'Springfield', 'Indiana': 'Indianapolis', 'Iowa': 'Des Moines', 'Kansas': 'Topeka', 'Kentucky': 'Frankfort', 'Louisiana': 'Baton Rouge', 'Maine': 'Augusta', 'Maryland': 'Annapolis', 'Massachusetts': 'Boston', 'Michigan': 'Lansing', 'Minnesota': 'Saint Paul', 'Mississippi': 'Jackson', 'Missouri': 'Jefferson City', 'Montana': 'Helena', 'Nebraska': 'Lincoln', 'Nevada': 'Carson City', 'New Hampshire': 'Concord', 'New Jersey': 'Trenton', 'New Mexico': 'Santa Fe', 'New York': 'Albany', 'North Carolina': 'Raleigh', 'North Dakota': 'Bismarck', 'Ohio': 'Columbus', 'Oklahoma': 'Oklahoma City', 'Oregon': 'Salem', 'Pennsylvania': 'Harrisburg', 'Rhode Island': 'Providence', 'South Carolina': 'Columbia', 'South Dakota': 'Pierre', 'Tennessee': 'Nashville', 'Texas': 'Austin', 'Utah': 'Salt Lake City', 'Vermont': 'Montpelier', 'Virginia': 'Richmond', 'Washington': 'Olympia', 'West Virginia': 'Charleston', 'Wisconsin': 'Madison', 'Wyoming': 'Cheyenne'}"
   ]
  },
  {
   "cell_type": "code",
   "execution_count": null,
   "metadata": {},
   "outputs": [],
   "source": [
    "makeQuestionFile('capital_Ques',capitals,20)"
   ]
  },
  {
   "cell_type": "code",
   "execution_count": null,
   "metadata": {},
   "outputs": [],
   "source": []
  }
 ],
 "metadata": {
  "kernelspec": {
   "display_name": "Python 3",
   "language": "python",
   "name": "python3"
  },
  "language_info": {
   "codemirror_mode": {
    "name": "ipython",
    "version": 3
   },
   "file_extension": ".py",
   "mimetype": "text/x-python",
   "name": "python",
   "nbconvert_exporter": "python",
   "pygments_lexer": "ipython3",
   "version": "3.7.1"
  }
 },
 "nbformat": 4,
 "nbformat_minor": 2
}
