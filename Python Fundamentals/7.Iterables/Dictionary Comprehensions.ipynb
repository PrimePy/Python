{
 "cells": [
  {
   "cell_type": "code",
   "execution_count": 1,
   "metadata": {},
   "outputs": [
    {
     "data": {
      "text/plain": [
       "{'UK': 'London', 'Brazil': 'Brazilia', 'India': 'Delhi', 'Moroco': 'Rabat'}"
      ]
     },
     "execution_count": 1,
     "metadata": {},
     "output_type": "execute_result"
    }
   ],
   "source": [
    "from pprint import pprint as pp\n",
    "country_to_capital = {\n",
    "                        'UK':'London',\n",
    "                        'Brazil': 'Brazilia',\n",
    "                        'India': 'Delhi',\n",
    "                        'Moroco': 'Rabat'\n",
    "                     }\n",
    "\n",
    "country_to_capital"
   ]
  },
  {
   "cell_type": "code",
   "execution_count": 2,
   "metadata": {},
   "outputs": [
    {
     "data": {
      "text/plain": [
       "{'London': 'UK', 'Brazilia': 'Brazil', 'Delhi': 'India', 'Rabat': 'Moroco'}"
      ]
     },
     "execution_count": 2,
     "metadata": {},
     "output_type": "execute_result"
    }
   ],
   "source": [
    "{capital : country for country, capital in country_to_capital.items()}"
   ]
  },
  {
   "cell_type": "code",
   "execution_count": 3,
   "metadata": {},
   "outputs": [
    {
     "data": {
      "text/plain": [
       "['I', 'am', 'optimus', 'prime.', 'I', 'am', 'a', 'python', 'developer']"
      ]
     },
     "execution_count": 3,
     "metadata": {},
     "output_type": "execute_result"
    }
   ],
   "source": [
    "words = 'I am optimus prime. I am a python developer'.split()\n",
    "words"
   ]
  },
  {
   "cell_type": "code",
   "execution_count": 4,
   "metadata": {},
   "outputs": [
    {
     "data": {
      "text/plain": [
       "{'I': 'I', 'a': 'a', 'o': 'optimus', 'p': 'python', 'd': 'developer'}"
      ]
     },
     "execution_count": 4,
     "metadata": {},
     "output_type": "execute_result"
    }
   ],
   "source": [
    "{word[0] : word for word in words}"
   ]
  },
  {
   "cell_type": "code",
   "execution_count": 6,
   "metadata": {},
   "outputs": [
    {
     "data": {
      "text/plain": [
       "{'C:\\\\Users\\\\Saravanakumar\\\\Python\\\\Python Fundamentals\\\\7.Iterables\\\\Dictionary Comprehensions.ipynb': 2628,\n",
       " 'C:\\\\Users\\\\Saravanakumar\\\\Python\\\\Python Fundamentals\\\\7.Iterables\\\\List Comprehensions.ipynb': 1776,\n",
       " 'C:\\\\Users\\\\Saravanakumar\\\\Python\\\\Python Fundamentals\\\\7.Iterables\\\\Set Comprehensions.ipynb': 1762}"
      ]
     },
     "execution_count": 6,
     "metadata": {},
     "output_type": "execute_result"
    }
   ],
   "source": [
    "import os\n",
    "import glob\n",
    "\n",
    "file_sizes = { os.path.realpath(p) : os.stat(p).st_size for p in glob.glob('*.ipynb')}\n",
    "file_sizes"
   ]
  },
  {
   "cell_type": "code",
   "execution_count": null,
   "metadata": {},
   "outputs": [],
   "source": []
  }
 ],
 "metadata": {
  "kernelspec": {
   "display_name": "Python 3",
   "language": "python",
   "name": "python3"
  },
  "language_info": {
   "codemirror_mode": {
    "name": "ipython",
    "version": 3
   },
   "file_extension": ".py",
   "mimetype": "text/x-python",
   "name": "python",
   "nbconvert_exporter": "python",
   "pygments_lexer": "ipython3",
   "version": "3.7.1"
  }
 },
 "nbformat": 4,
 "nbformat_minor": 2
}
