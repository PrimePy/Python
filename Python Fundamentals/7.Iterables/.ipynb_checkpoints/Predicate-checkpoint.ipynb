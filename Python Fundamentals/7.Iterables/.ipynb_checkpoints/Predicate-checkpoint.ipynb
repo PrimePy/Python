{
 "cells": [
  {
   "cell_type": "code",
   "execution_count": 3,
   "metadata": {},
   "outputs": [
    {
     "data": {
      "text/plain": [
       "[3,\n",
       " 5,\n",
       " 7,\n",
       " 11,\n",
       " 13,\n",
       " 17,\n",
       " 19,\n",
       " 23,\n",
       " 29,\n",
       " 31,\n",
       " 37,\n",
       " 41,\n",
       " 43,\n",
       " 47,\n",
       " 53,\n",
       " 59,\n",
       " 61,\n",
       " 67,\n",
       " 71,\n",
       " 73,\n",
       " 79,\n",
       " 83,\n",
       " 89,\n",
       " 97]"
      ]
     },
     "execution_count": 3,
     "metadata": {},
     "output_type": "execute_result"
    }
   ],
   "source": [
    "from math import sqrt\n",
    "\n",
    "def is_prime(val):\n",
    "    if val<=2:\n",
    "        return False\n",
    "    for data in range(2, int(sqrt(val))+1):\n",
    "        if val % data == 0:\n",
    "            return False\n",
    "    return True\n",
    "\n",
    "[val for val in range(100) if is_prime(val)]"
   ]
  },
  {
   "cell_type": "code",
   "execution_count": 5,
   "metadata": {},
   "outputs": [
    {
     "data": {
      "text/plain": [
       "{0: (0, 0, 0),\n",
       " 1: (1, 1, 1),\n",
       " 2: (2, 4, 8),\n",
       " 3: (3, 9, 27),\n",
       " 4: (4, 16, 64),\n",
       " 5: (5, 25, 125),\n",
       " 6: (6, 36, 216),\n",
       " 7: (7, 49, 343),\n",
       " 8: (8, 64, 512),\n",
       " 9: (9, 81, 729),\n",
       " 10: (10, 100, 1000),\n",
       " 11: (11, 121, 1331),\n",
       " 12: (12, 144, 1728),\n",
       " 13: (13, 169, 2197),\n",
       " 14: (14, 196, 2744),\n",
       " 15: (15, 225, 3375),\n",
       " 16: (16, 256, 4096),\n",
       " 17: (17, 289, 4913),\n",
       " 18: (18, 324, 5832),\n",
       " 19: (19, 361, 6859)}"
      ]
     },
     "execution_count": 5,
     "metadata": {},
     "output_type": "execute_result"
    }
   ],
   "source": [
    "{val : (val, val**2 , val**3) for val in range(20)}"
   ]
  },
  {
   "cell_type": "code",
   "execution_count": null,
   "metadata": {},
   "outputs": [],
   "source": []
  }
 ],
 "metadata": {
  "kernelspec": {
   "display_name": "Python 3",
   "language": "python",
   "name": "python3"
  },
  "language_info": {
   "codemirror_mode": {
    "name": "ipython",
    "version": 3
   },
   "file_extension": ".py",
   "mimetype": "text/x-python",
   "name": "python",
   "nbconvert_exporter": "python",
   "pygments_lexer": "ipython3",
   "version": "3.7.1"
  }
 },
 "nbformat": 4,
 "nbformat_minor": 2
}
