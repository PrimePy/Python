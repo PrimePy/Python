{
 "cells": [
  {
   "cell_type": "code",
   "execution_count": 5,
   "metadata": {},
   "outputs": [
    {
     "data": {
      "text/plain": [
       "{'saravana': [21, 'saravana@gmail.com', 98000],\n",
       " 'satheesh': [23, 'satheesh@gmail.com', 60000],\n",
       " 'optimus': [19, 'optimus@gmail.com', 65000],\n",
       " 'prime': [20, 'prime@gmail.com', 75000],\n",
       " 'kumar': [24, 'kumar@gmail.com', 50000]}"
      ]
     },
     "execution_count": 5,
     "metadata": {},
     "output_type": "execute_result"
    }
   ],
   "source": [
    "# Python Dictionary\n",
    "empdat={\"saravana\":[21,\"saravana@gmail.com\",98000],\n",
    "        \"satheesh\":[23,\"satheesh@gmail.com\",60000],\n",
    "        \"optimus\":[19,\"optimus@gmail.com\",65000],\n",
    "        \"prime\":[20,\"prime@gmail.com\",75000],\n",
    "        \"kumar\":[24,\"kumar@gmail.com\",50000]}\n",
    "empdat"
   ]
  },
  {
   "cell_type": "code",
   "execution_count": 6,
   "metadata": {},
   "outputs": [
    {
     "data": {
      "text/plain": [
       "dict_keys(['saravana', 'satheesh', 'optimus', 'prime', 'kumar'])"
      ]
     },
     "execution_count": 6,
     "metadata": {},
     "output_type": "execute_result"
    }
   ],
   "source": [
    "empdat.keys()"
   ]
  },
  {
   "cell_type": "code",
   "execution_count": 7,
   "metadata": {},
   "outputs": [
    {
     "data": {
      "text/plain": [
       "dict_values([[21, 'saravana@gmail.com', 98000], [23, 'satheesh@gmail.com', 60000], [19, 'optimus@gmail.com', 65000], [20, 'prime@gmail.com', 75000], [24, 'kumar@gmail.com', 50000]])"
      ]
     },
     "execution_count": 7,
     "metadata": {},
     "output_type": "execute_result"
    }
   ],
   "source": [
    "empdat.values()"
   ]
  },
  {
   "cell_type": "code",
   "execution_count": 9,
   "metadata": {},
   "outputs": [
    {
     "data": {
      "text/plain": [
       "[19, 'optimus@gmail.com', 65000]"
      ]
     },
     "execution_count": 9,
     "metadata": {},
     "output_type": "execute_result"
    }
   ],
   "source": [
    "empdat[\"optimus\"]"
   ]
  },
  {
   "cell_type": "code",
   "execution_count": 11,
   "metadata": {},
   "outputs": [
    {
     "data": {
      "text/plain": [
       "(19, 'optimus@gmail.com', 65000)"
      ]
     },
     "execution_count": 11,
     "metadata": {},
     "output_type": "execute_result"
    }
   ],
   "source": [
    "age,email,salary=empdat[\"optimus\"]\n",
    "age,email,salary"
   ]
  },
  {
   "cell_type": "code",
   "execution_count": 13,
   "metadata": {},
   "outputs": [
    {
     "data": {
      "text/plain": [
       "19"
      ]
     },
     "execution_count": 13,
     "metadata": {},
     "output_type": "execute_result"
    }
   ],
   "source": [
    "empdat[\"optimus\"][0]"
   ]
  },
  {
   "cell_type": "code",
   "execution_count": 14,
   "metadata": {},
   "outputs": [
    {
     "data": {
      "text/plain": [
       "[19, 'optimus@gmail.com']"
      ]
     },
     "execution_count": 14,
     "metadata": {},
     "output_type": "execute_result"
    }
   ],
   "source": [
    "empdat[\"optimus\"][:-1]"
   ]
  },
  {
   "cell_type": "code",
   "execution_count": 15,
   "metadata": {},
   "outputs": [
    {
     "data": {
      "text/plain": [
       "[19, 65000]"
      ]
     },
     "execution_count": 15,
     "metadata": {},
     "output_type": "execute_result"
    }
   ],
   "source": [
    "empdat[\"optimus\"][0::2]"
   ]
  },
  {
   "cell_type": "code",
   "execution_count": 16,
   "metadata": {},
   "outputs": [
    {
     "data": {
      "text/plain": [
       "[19, 'optimus@gmail.com', 150000]"
      ]
     },
     "execution_count": 16,
     "metadata": {},
     "output_type": "execute_result"
    }
   ],
   "source": [
    "empdat[\"optimus\"][2]=150000\n",
    "empdat[\"optimus\"]"
   ]
  },
  {
   "cell_type": "code",
   "execution_count": 17,
   "metadata": {},
   "outputs": [],
   "source": [
    "del empdat[\"kumar\"]"
   ]
  },
  {
   "cell_type": "code",
   "execution_count": 18,
   "metadata": {},
   "outputs": [
    {
     "data": {
      "text/plain": [
       "{'saravana': [21, 'saravana@gmail.com', 98000],\n",
       " 'satheesh': [23, 'satheesh@gmail.com', 60000],\n",
       " 'optimus': [19, 'optimus@gmail.com', 150000],\n",
       " 'prime': [20, 'prime@gmail.com', 75000]}"
      ]
     },
     "execution_count": 18,
     "metadata": {},
     "output_type": "execute_result"
    }
   ],
   "source": [
    "empdat"
   ]
  },
  {
   "cell_type": "code",
   "execution_count": 19,
   "metadata": {},
   "outputs": [],
   "source": [
    "empdat[\"kani\"]=[23,\"kani@gmail.com\",200000]"
   ]
  },
  {
   "cell_type": "code",
   "execution_count": 20,
   "metadata": {},
   "outputs": [
    {
     "data": {
      "text/plain": [
       "{'saravana': [21, 'saravana@gmail.com', 98000],\n",
       " 'satheesh': [23, 'satheesh@gmail.com', 60000],\n",
       " 'optimus': [19, 'optimus@gmail.com', 150000],\n",
       " 'prime': [20, 'prime@gmail.com', 75000],\n",
       " 'kani': [23, 'kani@gmail.com', 200000]}"
      ]
     },
     "execution_count": 20,
     "metadata": {},
     "output_type": "execute_result"
    }
   ],
   "source": [
    "empdat"
   ]
  },
  {
   "cell_type": "code",
   "execution_count": 19,
   "metadata": {},
   "outputs": [
    {
     "data": {
      "text/plain": [
       "{'Student': {'name': 'optimus', 'Gender': 'Male', 'Age': 21},\n",
       " 'Employee': {'name': 'prime', 'Gender': 'Male', 'Salary': 50000},\n",
       " 'Developer': {'name': 'Optimus prime',\n",
       "  'Technology': 'Python',\n",
       "  'Experience': 5}}"
      ]
     },
     "execution_count": 19,
     "metadata": {},
     "output_type": "execute_result"
    }
   ],
   "source": [
    "# Nested Dictionary\n",
    "\n",
    "data={\"Student\":{\"name\":\"optimus\",\"Gender\":\"Male\",\"Age\":21},\"Employee\":{\"name\":\"prime\",\"Gender\":\"Male\",\"Salary\":50000},\"Developer\":{\"name\":\"Optimus prime\",\"Technology\":\"Python\",\"Experience\":5}}\n",
    "data"
   ]
  },
  {
   "cell_type": "code",
   "execution_count": 20,
   "metadata": {},
   "outputs": [
    {
     "data": {
      "text/plain": [
       "'Male'"
      ]
     },
     "execution_count": 20,
     "metadata": {},
     "output_type": "execute_result"
    }
   ],
   "source": [
    "data[\"Student\"][\"Gender\"]"
   ]
  },
  {
   "cell_type": "code",
   "execution_count": 21,
   "metadata": {},
   "outputs": [
    {
     "data": {
      "text/plain": [
       "{'name': 'Kani', 'Gender': 'Female', 'Salary': 50000}"
      ]
     },
     "execution_count": 21,
     "metadata": {},
     "output_type": "execute_result"
    }
   ],
   "source": [
    "data[\"Employee\"][\"name\"],data[\"Employee\"][\"Gender\"]=\"Kani\",\"Female\"\n",
    "data[\"Employee\"]"
   ]
  },
  {
   "cell_type": "code",
   "execution_count": 22,
   "metadata": {},
   "outputs": [],
   "source": [
    "del data[\"Employee\"][\"Salary\"]"
   ]
  },
  {
   "cell_type": "code",
   "execution_count": 23,
   "metadata": {},
   "outputs": [
    {
     "data": {
      "text/plain": [
       "{'name': 'Kani', 'Gender': 'Female'}"
      ]
     },
     "execution_count": 23,
     "metadata": {},
     "output_type": "execute_result"
    }
   ],
   "source": [
    "data[\"Employee\"]"
   ]
  },
  {
   "cell_type": "code",
   "execution_count": 28,
   "metadata": {},
   "outputs": [
    {
     "data": {
      "text/plain": [
       "{'Student': {'name': 'optimus', 'Gender': 'Male', 'Age': 21},\n",
       " 'Employee': {'name': 'Kani', 'Gender': 'Female'},\n",
       " 'Developer': {'name': 'Optimus prime',\n",
       "  'Technology': 'Python',\n",
       "  'Experience': 5}}"
      ]
     },
     "execution_count": 28,
     "metadata": {},
     "output_type": "execute_result"
    }
   ],
   "source": [
    "data"
   ]
  },
  {
   "cell_type": "code",
   "execution_count": 30,
   "metadata": {},
   "outputs": [
    {
     "name": "stdout",
     "output_type": "stream",
     "text": [
      "Student\n",
      "name :  optimus\n",
      "Gender :  Male\n",
      "Age :  21\n",
      "Employee\n",
      "name :  Kani\n",
      "Gender :  Female\n",
      "Developer\n",
      "name :  Optimus prime\n",
      "Technology :  Python\n",
      "Experience :  5\n"
     ]
    }
   ],
   "source": [
    "# Iterating Nested Dictionary\n",
    "for position,person_info in data.items():\n",
    "    print(position)\n",
    "    for info in person_info:\n",
    "        print(info +\" : \",person_info[info])"
   ]
  },
  {
   "cell_type": "code",
   "execution_count": 12,
   "metadata": {},
   "outputs": [
    {
     "data": {
      "text/plain": [
       "{0: 0, 1: 1, 2: 4, 3: 9, 4: 16, 5: 25, 6: 36, 7: 49, 8: 64, 9: 81}"
      ]
     },
     "execution_count": 12,
     "metadata": {},
     "output_type": "execute_result"
    }
   ],
   "source": [
    "# Dictionary  Comprehension\n",
    "\n",
    "data=dict({x:x*x for x in range(10)})\n",
    "data"
   ]
  },
  {
   "cell_type": "code",
   "execution_count": 15,
   "metadata": {},
   "outputs": [
    {
     "data": {
      "text/plain": [
       "{1: 1, 3: 9, 5: 25, 7: 49, 9: 81, 11: 121, 13: 169, 15: 225, 17: 289, 19: 361}"
      ]
     },
     "execution_count": 15,
     "metadata": {},
     "output_type": "execute_result"
    }
   ],
   "source": [
    "data={x:x*x for x in range(20) if x%2==1}\n",
    "data"
   ]
  },
  {
   "cell_type": "code",
   "execution_count": null,
   "metadata": {},
   "outputs": [],
   "source": []
  }
 ],
 "metadata": {
  "kernelspec": {
   "display_name": "Python 3",
   "language": "python",
   "name": "python3"
  },
  "language_info": {
   "codemirror_mode": {
    "name": "ipython",
    "version": 3
   },
   "file_extension": ".py",
   "mimetype": "text/x-python",
   "name": "python",
   "nbconvert_exporter": "python",
   "pygments_lexer": "ipython3",
   "version": "3.7.0"
  }
 },
 "nbformat": 4,
 "nbformat_minor": 2
}
