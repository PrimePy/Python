{
 "cells": [
  {
   "cell_type": "code",
   "execution_count": 1,
   "metadata": {},
   "outputs": [
    {
     "name": "stdout",
     "output_type": "stream",
     "text": [
      "1\n"
     ]
    }
   ],
   "source": [
    "#Advance OOPS Concepts\n",
    "\n",
    "# Iterators\n",
    "\n",
    "data=[1,2,3,4,5,6,7,8]\n",
    "dataItr=iter(data)\n",
    "print(next(dataItr))"
   ]
  },
  {
   "cell_type": "code",
   "execution_count": 2,
   "metadata": {},
   "outputs": [
    {
     "name": "stdout",
     "output_type": "stream",
     "text": [
      "2\n"
     ]
    }
   ],
   "source": [
    "print(dataItr.__next__())"
   ]
  },
  {
   "cell_type": "code",
   "execution_count": 7,
   "metadata": {},
   "outputs": [
    {
     "name": "stdout",
     "output_type": "stream",
     "text": [
      "1\n"
     ]
    }
   ],
   "source": [
    "# User Defined Finite Iterator\n",
    "\n",
    "class PowOfTo:\n",
    "    def __init__(self,max=0):\n",
    "        self.max=max\n",
    "    \n",
    "    def __iter__(self):\n",
    "        self.n=0\n",
    "        return self\n",
    "    def __next__(self):\n",
    "        if self.n<=self.max:\n",
    "            result = 2 ** self.n\n",
    "            self.n+=1\n",
    "            return result\n",
    "        else:\n",
    "            raise StopIteration\n",
    "\n",
    "powOfTo=PowOfTo(3)\n",
    "dataPowTo=iter(powOfTo)\n",
    "print(next(dataPowTo))"
   ]
  },
  {
   "cell_type": "code",
   "execution_count": 8,
   "metadata": {},
   "outputs": [
    {
     "name": "stdout",
     "output_type": "stream",
     "text": [
      "2\n"
     ]
    }
   ],
   "source": [
    "print(next(dataPowTo))"
   ]
  },
  {
   "cell_type": "code",
   "execution_count": 5,
   "metadata": {},
   "outputs": [
    {
     "name": "stdout",
     "output_type": "stream",
     "text": [
      "4\n"
     ]
    }
   ],
   "source": [
    "print(next(dataPowTo))"
   ]
  },
  {
   "cell_type": "code",
   "execution_count": 6,
   "metadata": {},
   "outputs": [
    {
     "name": "stdout",
     "output_type": "stream",
     "text": [
      "0\n",
      "2\n",
      "4\n",
      "6\n",
      "8\n",
      "10\n",
      "12\n",
      "14\n",
      "16\n",
      "18\n"
     ]
    }
   ],
   "source": [
    "# User defined infinite iterator\n",
    "\n",
    "class SumOfTwoInfiniteItr:\n",
    "    def __init__(self):\n",
    "        pass\n",
    "    \n",
    "    def __iter__(self):\n",
    "        self.n=0\n",
    "        return self\n",
    "    \n",
    "    def __next__(self):\n",
    "        n=self.n\n",
    "        self.n+=2\n",
    "        return n\n",
    "obj=SumOfTwoInfiniteItr()\n",
    "dataItr=iter(obj)\n",
    "for i in range(10):\n",
    "    print(next(dataItr))"
   ]
  },
  {
   "cell_type": "code",
   "execution_count": 12,
   "metadata": {},
   "outputs": [
    {
     "name": "stdout",
     "output_type": "stream",
     "text": [
      "Sqaure of 1\n"
     ]
    },
    {
     "data": {
      "text/plain": [
       "1"
      ]
     },
     "execution_count": 12,
     "metadata": {},
     "output_type": "execute_result"
    }
   ],
   "source": [
    "# Generators\n",
    "\n",
    "def powOfTwo():\n",
    "    n=1\n",
    "    print(\"Sqaure of 1\")\n",
    "    yield n ** 2\n",
    "    \n",
    "    n+=1\n",
    "    print(\"Sqaure of 2\")\n",
    "    yield n ** 2\n",
    "    \n",
    "    n+=1\n",
    "    print(\"Sqaure of 3\")\n",
    "    yield n ** 2\n",
    "\n",
    "obj=powOfTwo()\n",
    "next(obj)"
   ]
  },
  {
   "cell_type": "code",
   "execution_count": 13,
   "metadata": {},
   "outputs": [
    {
     "name": "stdout",
     "output_type": "stream",
     "text": [
      "Sqaure of 2\n"
     ]
    },
    {
     "data": {
      "text/plain": [
       "4"
      ]
     },
     "execution_count": 13,
     "metadata": {},
     "output_type": "execute_result"
    }
   ],
   "source": [
    "next(obj)"
   ]
  },
  {
   "cell_type": "code",
   "execution_count": 14,
   "metadata": {},
   "outputs": [
    {
     "name": "stdout",
     "output_type": "stream",
     "text": [
      "Sqaure of 3\n"
     ]
    },
    {
     "data": {
      "text/plain": [
       "9"
      ]
     },
     "execution_count": 14,
     "metadata": {},
     "output_type": "execute_result"
    }
   ],
   "source": [
    "next(obj)"
   ]
  },
  {
   "cell_type": "code",
   "execution_count": 16,
   "metadata": {},
   "outputs": [
    {
     "name": "stdout",
     "output_type": "stream",
     "text": [
      "Sqaure of 1\n",
      "1\n",
      "Sqaure of 2\n",
      "4\n",
      "Sqaure of 3\n",
      "9\n"
     ]
    }
   ],
   "source": [
    "# Iterting Generator\n",
    "\n",
    "for item in powOfTwo():\n",
    "    print(item)"
   ]
  },
  {
   "cell_type": "code",
   "execution_count": 17,
   "metadata": {},
   "outputs": [
    {
     "name": "stdout",
     "output_type": "stream",
     "text": [
      "O\n",
      "p\n",
      "t\n",
      "i\n",
      "m\n",
      "u\n",
      "s\n"
     ]
    }
   ],
   "source": [
    "def printChar(my_str):\n",
    "    for i in my_str:\n",
    "        yield i\n",
    "for char in printChar(\"Optimus\"):\n",
    "    print(char)\n",
    "    "
   ]
  },
  {
   "cell_type": "code",
   "execution_count": 20,
   "metadata": {},
   "outputs": [
    {
     "data": {
      "text/plain": [
       "[4,\n",
       " 9,\n",
       " 16,\n",
       " 25,\n",
       " 36,\n",
       " 49,\n",
       " 64,\n",
       " 81,\n",
       " 100,\n",
       " 121,\n",
       " 144,\n",
       " 169,\n",
       " 196,\n",
       " 225,\n",
       " 256,\n",
       " 289,\n",
       " 324,\n",
       " 361]"
      ]
     },
     "execution_count": 20,
     "metadata": {},
     "output_type": "execute_result"
    }
   ],
   "source": [
    "# Example of Generator\n",
    "list=[x*x for x in range(2,20)]\n",
    "list"
   ]
  },
  {
   "cell_type": "code",
   "execution_count": 21,
   "metadata": {},
   "outputs": [
    {
     "name": "stdout",
     "output_type": "stream",
     "text": [
      "27\n",
      "15\n",
      "30\n"
     ]
    }
   ],
   "source": [
    "# Closure\n",
    "def make_multiplier_of(n):\n",
    "    def multiplier(x):\n",
    "        return x * n\n",
    "    return multiplier\n",
    "\n",
    "# Multiplier of 3\n",
    "times3 = make_multiplier_of(3)\n",
    "\n",
    "# Multiplier of 5\n",
    "times5 = make_multiplier_of(5)\n",
    "\n",
    "# Output: 27\n",
    "print(times3(9))\n",
    "\n",
    "# Output: 15\n",
    "print(times5(3))\n",
    "\n",
    "# Output: 30\n",
    "print(times5(times3(2)))"
   ]
  },
  {
   "cell_type": "code",
   "execution_count": 2,
   "metadata": {},
   "outputs": [
    {
     "name": "stdout",
     "output_type": "stream",
     "text": [
      "6\n"
     ]
    }
   ],
   "source": [
    "# Decorator \n",
    "\n",
    "def inc(x):\n",
    "    return x+1\n",
    "\n",
    "def dec(x):\n",
    "    return x-1\n",
    "\n",
    "def operate(func,x):\n",
    "    return func(x)\n",
    "\n",
    "print(operate(inc,5))"
   ]
  },
  {
   "cell_type": "code",
   "execution_count": 4,
   "metadata": {},
   "outputs": [
    {
     "name": "stdout",
     "output_type": "stream",
     "text": [
      "Hi ... \n",
      "Kumar\n"
     ]
    }
   ],
   "source": [
    "def printName(func):\n",
    "    def printHi():\n",
    "        print(\"Hi ... \")\n",
    "        func()\n",
    "    return printHi\n",
    "\n",
    "def printOptimus():\n",
    "    print(\"Optimus\")\n",
    "\n",
    "def printPrime():\n",
    "    print(\"Prime\")\n",
    "\n",
    "def printKumar():\n",
    "    print(\"Kumar\")\n",
    "    \n",
    "call=printName(printKumar)\n",
    "call()"
   ]
  },
  {
   "cell_type": "code",
   "execution_count": 5,
   "metadata": {},
   "outputs": [
    {
     "name": "stdout",
     "output_type": "stream",
     "text": [
      "Hi ... \n",
      "Optimus\n"
     ]
    }
   ],
   "source": [
    "call=printName(printOptimus)\n",
    "call()"
   ]
  },
  {
   "cell_type": "code",
   "execution_count": 11,
   "metadata": {},
   "outputs": [
    {
     "name": "stdout",
     "output_type": "stream",
     "text": [
      "Hi ... \n",
      "Kumar\n",
      "Prime\n",
      "Hi ... \n",
      "Optimus\n"
     ]
    }
   ],
   "source": [
    "def printName(func):\n",
    "    def printHi():\n",
    "        print(\"Hi ... \")\n",
    "        func()\n",
    "    return printHi\n",
    "\n",
    "@printName\n",
    "def printOptimus():\n",
    "    print(\"Optimus\")\n",
    "\n",
    "def printPrime():\n",
    "    print(\"Prime\")\n",
    "@printName\n",
    "def printKumar():\n",
    "    print(\"Kumar\")\n",
    "\n",
    "printKumar() \n",
    "printPrime()\n",
    "printOptimus()"
   ]
  },
  {
   "cell_type": "code",
   "execution_count": 22,
   "metadata": {},
   "outputs": [
    {
     "name": "stdout",
     "output_type": "stream",
     "text": [
      "Hi..Hi..Hi..\n",
      "optimus\n",
      "Bye..Bye..\n",
      "Hi..Hi..Hi..\n",
      "Prime\n",
      "Bye..Bye..\n"
     ]
    }
   ],
   "source": [
    "def starting(func):\n",
    "    def printHi(name):\n",
    "        print(\"Hi..\"*3)\n",
    "        func(name)\n",
    "    return printHi\n",
    "    \n",
    "def ending(func):\n",
    "    def printBye(name):\n",
    "        func(name)\n",
    "        print(\"Bye..\"*2)\n",
    "    return printBye\n",
    "\n",
    "@starting\n",
    "@ending\n",
    "def printName(name):\n",
    "    print(name)\n",
    "\n",
    "printName(\"optimus\")\n",
    "printName(\"Prime\")"
   ]
  },
  {
   "cell_type": "code",
   "execution_count": 23,
   "metadata": {},
   "outputs": [
    {
     "name": "stdout",
     "output_type": "stream",
     "text": [
      "Hi..Hi..Hi..\n",
      "optimus\n",
      "Bye..Bye..\n",
      "Hi..Hi..Hi..\n",
      "Prime\n",
      "Bye..Bye..\n"
     ]
    }
   ],
   "source": [
    "def starting(func):\n",
    "    def printHi(name):\n",
    "        print(\"Hi..\"*3)\n",
    "        func(name)\n",
    "    return printHi\n",
    "    \n",
    "def ending(func):\n",
    "    def printBye(name):\n",
    "        func(name)\n",
    "        print(\"Bye..\"*2)\n",
    "    return printBye\n",
    "\n",
    "@ending\n",
    "@starting\n",
    "def printName(name):\n",
    "    print(name)\n",
    "\n",
    "printName(\"optimus\")\n",
    "printName(\"Prime\")"
   ]
  },
  {
   "cell_type": "code",
   "execution_count": 24,
   "metadata": {},
   "outputs": [
    {
     "name": "stdout",
     "output_type": "stream",
     "text": [
      "Bye..Bye..\n",
      "Hi..Hi..Hi..\n",
      "optimus\n",
      "Bye..Bye..\n",
      "Hi..Hi..Hi..\n",
      "Prime\n"
     ]
    }
   ],
   "source": [
    "def starting(func):\n",
    "    def printHi(name):\n",
    "        print(\"Hi..\"*3)\n",
    "        func(name)\n",
    "    return printHi\n",
    "    \n",
    "def ending(func):\n",
    "    def printBye(name):\n",
    "        print(\"Bye..\"*2)\n",
    "        func(name)\n",
    "    return printBye\n",
    "\n",
    "@ending\n",
    "@starting\n",
    "def printName(name):\n",
    "    print(name)\n",
    "\n",
    "printName(\"optimus\")\n",
    "printName(\"Prime\")"
   ]
  },
  {
   "cell_type": "code",
   "execution_count": 35,
   "metadata": {},
   "outputs": [
    {
     "name": "stdout",
     "output_type": "stream",
     "text": [
      "Setting Name\n",
      "Getting Name\n",
      "Default\n",
      "Setting Name\n",
      "Getting Name\n",
      "optimus\n",
      "Getting Name\n",
      "Hi optimus\n"
     ]
    }
   ],
   "source": [
    "# @property\n",
    "# First Type\n",
    "\n",
    "class PropertyDemo:\n",
    "    def __init__(self,name=\"Default\"):\n",
    "        self.name=name\n",
    "    \n",
    "    def displayName(self):\n",
    "        return \"Hi \"+self.name\n",
    "    \n",
    "    def setName(self,name):\n",
    "        print(\"Setting Name\")\n",
    "        self._name=name     # Provide _name\n",
    "    \n",
    "    def getName(self):\n",
    "        print(\"Getting Name\")\n",
    "        return self._name   # Provide _name\n",
    "    name=property(getName,setName)\n",
    "    \n",
    "propertyDemoObj=PropertyDemo()\n",
    "print(propertyDemoObj.name)\n",
    "propertyDemoObj.name=\"optimus\"\n",
    "print(propertyDemoObj.name)\n",
    "print(propertyDemoObj.displayName())"
   ]
  },
  {
   "cell_type": "code",
   "execution_count": 36,
   "metadata": {},
   "outputs": [
    {
     "name": "stdout",
     "output_type": "stream",
     "text": [
      "Setting Name\n",
      "Getting Name\n",
      "Default\n",
      "Setting Name\n",
      "Getting Name\n",
      "optimus\n",
      "Getting Name\n",
      "Hi optimus\n"
     ]
    }
   ],
   "source": [
    "# Second Type\n",
    "\n",
    "class PropertyDemo:\n",
    "    def __init__(self,name=\"Default\"):\n",
    "        self.name=name\n",
    "    \n",
    "    def displayName(self):\n",
    "        return \"Hi \"+self.name\n",
    "    \n",
    "    def setName(self,name):\n",
    "        print(\"Setting Name\")\n",
    "        self._name=name     # Provide _name\n",
    "    \n",
    "    def getName(self):\n",
    "        print(\"Getting Name\")\n",
    "        return self._name   # Provide _name\n",
    "    name=property()\n",
    "    name=name.getter(getName)\n",
    "    name=name.setter(setName)\n",
    "    \n",
    "propertyDemoObj=PropertyDemo()\n",
    "print(propertyDemoObj.name)\n",
    "propertyDemoObj.name=\"optimus\"\n",
    "print(propertyDemoObj.name)\n",
    "print(propertyDemoObj.displayName())"
   ]
  },
  {
   "cell_type": "code",
   "execution_count": 42,
   "metadata": {},
   "outputs": [
    {
     "name": "stdout",
     "output_type": "stream",
     "text": [
      "Setting Name\n",
      "Getting Name\n",
      "Default\n",
      "Setting Name\n",
      "Getting Name\n",
      "prime\n",
      "Getting Name\n",
      "Hi prime\n"
     ]
    }
   ],
   "source": [
    "# Third Type\n",
    "\n",
    "class PropertyDemo:\n",
    "    def __init__(self,name=\"Default\"):\n",
    "        self.name=name\n",
    "    \n",
    "    def displayName(self):\n",
    "        return \"Hi \"+self.name\n",
    "    \n",
    "    @property    # Define getter then setter\n",
    "    def name(self):\n",
    "        print(\"Getting Name\")\n",
    "        return self._name   # Provide _name\n",
    "    \n",
    "    @name.setter\n",
    "    def name(self,name):\n",
    "        print(\"Setting Name\")\n",
    "        self._name=name     # Provide _name\n",
    "    \n",
    "propertyDemoObj=PropertyDemo()\n",
    "print(propertyDemoObj.name)\n",
    "propertyDemoObj.name=\"prime\"\n",
    "print(propertyDemoObj.name)\n",
    "print(propertyDemoObj.displayName())"
   ]
  },
  {
   "cell_type": "code",
   "execution_count": 45,
   "metadata": {},
   "outputs": [
    {
     "name": "stdout",
     "output_type": "stream",
     "text": [
      "{'name': 'optimus', 'age': 21, 'position': 'Developer'}\n",
      "{'name': 'optimus', 'age': 21, 'position': 'Developer'}\n"
     ]
    }
   ],
   "source": [
    "# Shallow Copy vs Deep Copy\n",
    "\n",
    "import copy\n",
    "\n",
    "oldEmpDict={\"name\":\"optimus\",\"age\":21,\"position\":\"Developer\"}\n",
    "newEmpDict=copy.copy(oldEmpDict)\n",
    "print(oldEmpDict)\n",
    "print(newEmpDict)"
   ]
  },
  {
   "cell_type": "code",
   "execution_count": 57,
   "metadata": {},
   "outputs": [
    {
     "name": "stdout",
     "output_type": "stream",
     "text": [
      "{'name': 'optimus', 'age': 21, 'position': 'Developer', 'Salary': 60000}\n",
      "{'name': 'optimus', 'age': 21, 'position': 'Developer'}\n"
     ]
    }
   ],
   "source": [
    "# Shallow Copy  in Dictionay\n",
    "\n",
    "import copy\n",
    "\n",
    "oldEmpDict={\"name\":\"optimus\",\"age\":21,\"position\":\"Developer\"}\n",
    "newEmpDict=copy.copy(oldEmpDict)\n",
    "oldEmpDict.update({\"Salary\":60000})\n",
    "print(oldEmpDict)\n",
    "print(newEmpDict)"
   ]
  },
  {
   "cell_type": "code",
   "execution_count": 58,
   "metadata": {},
   "outputs": [
    {
     "name": "stdout",
     "output_type": "stream",
     "text": [
      "{'name': 'optimus', 'age': 21, 'position': {'Py': 'PythonDeveloper', 'java': 'JavaDeveloper'}}\n",
      "{'name': 'optimus', 'age': 21, 'position': {'Py': 'PythonDeveloper', 'java': 'JavaDeveloper'}}\n"
     ]
    }
   ],
   "source": [
    "import copy\n",
    "\n",
    "oldEmpDict={\"name\":\"optimus\",\"age\":21,\"position\":{\"Py\":\"PyDeveloper\",\"java\":\"JavaDeveloper\"}}\n",
    "newEmpDict=copy.copy(oldEmpDict)\n",
    "oldEmpDict[\"position\"][\"Py\"]=\"PythonDeveloper\"\n",
    "print(oldEmpDict)\n",
    "print(newEmpDict)"
   ]
  },
  {
   "cell_type": "code",
   "execution_count": 56,
   "metadata": {},
   "outputs": [
    {
     "name": "stdout",
     "output_type": "stream",
     "text": [
      "[[1, 2, 3], 5, [3, 4, 5]]\n",
      "[[1, 2, 3], [2, 3, 4], [3, 4, 5]]\n"
     ]
    }
   ],
   "source": [
    "# Shallow Copy  in List\n",
    "\n",
    "import copy\n",
    "\n",
    "oldList=[[1,2,3],[2,3,4],[3,4,5]]\n",
    "newList=copy.copy(oldList)\n",
    "oldList[1][1]=5 # Edited list within a list content reflacted in shallow copy\n",
    "print(oldList)\n",
    "print(newList)"
   ]
  },
  {
   "cell_type": "code",
   "execution_count": 55,
   "metadata": {},
   "outputs": [
    {
     "name": "stdout",
     "output_type": "stream",
     "text": [
      "[[1, 2, 3], [2, 3, 4], [3, 4, 5], [3, 3, 3]]\n",
      "[[1, 2, 3], [2, 3, 4], [3, 4, 5]]\n"
     ]
    }
   ],
   "source": [
    "# Shallow Copy  in List\n",
    "\n",
    "import copy\n",
    "\n",
    "oldList=[[1,2,3],[2,3,4],[3,4,5]]\n",
    "newList=copy.copy(oldList)\n",
    "oldList.append([3,3,3]) # Newly added content doesn't reflacted in shallow copy\n",
    "print(oldList)\n",
    "print(newList)"
   ]
  },
  {
   "cell_type": "code",
   "execution_count": 59,
   "metadata": {},
   "outputs": [
    {
     "name": "stdout",
     "output_type": "stream",
     "text": [
      "{'name': 'optimus', 'age': 21, 'position': 'Developer'}\n",
      "{'name': 'optimus', 'age': 21, 'position': 'Developer'}\n"
     ]
    }
   ],
   "source": [
    "# Deep Copy\n",
    "\n",
    "import copy\n",
    "\n",
    "oldEmpDict={\"name\":\"optimus\",\"age\":21,\"position\":\"Developer\"}\n",
    "newEmpDict=copy.deepcopy(oldEmpDict)\n",
    "print(oldEmpDict)\n",
    "print(newEmpDict)"
   ]
  },
  {
   "cell_type": "code",
   "execution_count": 60,
   "metadata": {},
   "outputs": [
    {
     "name": "stdout",
     "output_type": "stream",
     "text": [
      "{'name': 'optimus', 'age': 21, 'position': {'Py': 'PythonDeveloper', 'java': 'JavaDeveloper'}}\n",
      "{'name': 'optimus', 'age': 21, 'position': {'Py': 'PyDeveloper', 'java': 'JavaDeveloper'}}\n"
     ]
    }
   ],
   "source": [
    "import copy\n",
    "\n",
    "oldEmpDict={\"name\":\"optimus\",\"age\":21,\"position\":{\"Py\":\"PyDeveloper\",\"java\":\"JavaDeveloper\"}}\n",
    "newEmpDict=copy.deepcopy(oldEmpDict) # In deep copy concept old and new dictionary are independ.\n",
    "oldEmpDict[\"position\"][\"Py\"]=\"PythonDeveloper\"\n",
    "print(oldEmpDict)\n",
    "print(newEmpDict)"
   ]
  },
  {
   "cell_type": "code",
   "execution_count": 71,
   "metadata": {},
   "outputs": [
    {
     "name": "stdout",
     "output_type": "stream",
     "text": [
      "3  is a positive number\n"
     ]
    }
   ],
   "source": [
    "# Assertion\n",
    "\n",
    "def checkPositive(num):\n",
    "    assert num>=1,\"Number Negative\"\n",
    "    print(num,\" is a positive number\")\n",
    "\n",
    "checkPositive(3)"
   ]
  },
  {
   "cell_type": "code",
   "execution_count": 72,
   "metadata": {},
   "outputs": [
    {
     "ename": "AssertionError",
     "evalue": "Number Negative",
     "output_type": "error",
     "traceback": [
      "\u001b[1;31m---------------------------------------------------------------------------\u001b[0m",
      "\u001b[1;31mAssertionError\u001b[0m                            Traceback (most recent call last)",
      "\u001b[1;32m<ipython-input-72-3b43f27900d8>\u001b[0m in \u001b[0;36m<module>\u001b[1;34m()\u001b[0m\n\u001b[1;32m----> 1\u001b[1;33m \u001b[0mcheckPositive\u001b[0m\u001b[1;33m(\u001b[0m\u001b[1;33m-\u001b[0m\u001b[1;36m2\u001b[0m\u001b[1;33m)\u001b[0m\u001b[1;33m\u001b[0m\u001b[0m\n\u001b[0m",
      "\u001b[1;32m<ipython-input-71-dbce9255a68f>\u001b[0m in \u001b[0;36mcheckPositive\u001b[1;34m(num)\u001b[0m\n\u001b[0;32m      2\u001b[0m \u001b[1;33m\u001b[0m\u001b[0m\n\u001b[0;32m      3\u001b[0m \u001b[1;32mdef\u001b[0m \u001b[0mcheckPositive\u001b[0m\u001b[1;33m(\u001b[0m\u001b[0mnum\u001b[0m\u001b[1;33m)\u001b[0m\u001b[1;33m:\u001b[0m\u001b[1;33m\u001b[0m\u001b[0m\n\u001b[1;32m----> 4\u001b[1;33m     \u001b[1;32massert\u001b[0m \u001b[0mnum\u001b[0m\u001b[1;33m>=\u001b[0m\u001b[1;36m1\u001b[0m\u001b[1;33m,\u001b[0m\u001b[1;34m\"Number Negative\"\u001b[0m\u001b[1;33m\u001b[0m\u001b[0m\n\u001b[0m\u001b[0;32m      5\u001b[0m     \u001b[0mprint\u001b[0m\u001b[1;33m(\u001b[0m\u001b[0mnum\u001b[0m\u001b[1;33m,\u001b[0m\u001b[1;34m\" is a positive number\"\u001b[0m\u001b[1;33m)\u001b[0m\u001b[1;33m\u001b[0m\u001b[0m\n\u001b[0;32m      6\u001b[0m \u001b[1;33m\u001b[0m\u001b[0m\n",
      "\u001b[1;31mAssertionError\u001b[0m: Number Negative"
     ]
    }
   ],
   "source": [
    "checkPositive(-2)"
   ]
  },
  {
   "cell_type": "code",
   "execution_count": null,
   "metadata": {},
   "outputs": [],
   "source": []
  }
 ],
 "metadata": {
  "kernelspec": {
   "display_name": "Python 3",
   "language": "python",
   "name": "python3"
  },
  "language_info": {
   "codemirror_mode": {
    "name": "ipython",
    "version": 3
   },
   "file_extension": ".py",
   "mimetype": "text/x-python",
   "name": "python",
   "nbconvert_exporter": "python",
   "pygments_lexer": "ipython3",
   "version": "3.7.0"
  }
 },
 "nbformat": 4,
 "nbformat_minor": 2
}
