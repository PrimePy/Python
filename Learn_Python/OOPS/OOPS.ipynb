{
 "cells": [
  {
   "cell_type": "code",
   "execution_count": 15,
   "metadata": {},
   "outputs": [
    {
     "name": "stdout",
     "output_type": "stream",
     "text": [
      "optimus\n",
      "developer\n",
      "50000\n",
      "prime\n",
      "tester\n",
      "30000\n",
      "saravana\n",
      "manager\n",
      "100000\n",
      "kumar\n",
      "leader\n",
      "75000\n",
      "satheesh\n",
      "designer\n",
      "60000\n"
     ]
    }
   ],
   "source": [
    "# Init method\n",
    "\n",
    "class Employee:\n",
    "    def __init__(self,name,position,salary):\n",
    "        self.name=name\n",
    "        self.position=position\n",
    "        self.salary=salary\n",
    "employee=[]\n",
    "employee.append(Employee(\"optimus\",\"developer\",50000))\n",
    "employee.append(Employee(\"prime\",\"tester\",30000))\n",
    "employee.append(Employee(\"saravana\",\"manager\",100000))\n",
    "employee.append(Employee(\"kumar\",\"leader\",75000))\n",
    "employee.append(Employee(\"satheesh\",\"designer\",60000))\n",
    "\n",
    "for obj in employee:\n",
    "    print(obj.name)\n",
    "    print(obj.position)\n",
    "    print(obj.salary)"
   ]
  },
  {
   "cell_type": "code",
   "execution_count": 16,
   "metadata": {},
   "outputs": [
    {
     "name": "stdout",
     "output_type": "stream",
     "text": [
      "optimus\n",
      "5000\n",
      "dhoni\n",
      "10000\n",
      "kholi\n",
      "10500\n",
      "rohit\n",
      "10400\n"
     ]
    }
   ],
   "source": [
    "# Class vs instance variables\n",
    "class Cricketer:\n",
    "    def __init__(self,name,score):\n",
    "        self.name=name\n",
    "        self.score=score\n",
    "    def display(self):\n",
    "        print(self.name)\n",
    "        print(self.score)\n",
    "        \n",
    "cricketer1=Cricketer(\"optimus\",5000)\n",
    "cricketer1.display()\n",
    "cricketer2=Cricketer(\"dhoni\",10000)\n",
    "cricketer2.display()\n",
    "cricketer3=Cricketer(\"kholi\",10500)\n",
    "cricketer3.display()\n",
    "cricketer4=Cricketer(\"rohit\",10400)\n",
    "cricketer4.display()\n"
   ]
  },
  {
   "cell_type": "code",
   "execution_count": 7,
   "metadata": {},
   "outputs": [
    {
     "name": "stdout",
     "output_type": "stream",
     "text": [
      "optimus\n",
      "Cricket\n",
      "Cricket\n",
      "prime\n",
      "Cricket\n",
      "Cricket\n"
     ]
    }
   ],
   "source": [
    "# Class vs Instance Variables\n",
    "class Player:\n",
    "    gameName=\"Cricket\"\n",
    "    \n",
    "    def __init__(self,name):\n",
    "        self.name=name\n",
    "    \n",
    "player1=Player(\"optimus\")\n",
    "print(player1.name)     # Instance Method\n",
    "print(player1.gameName) # Instance Variable\n",
    "print(Player.gameName)  # Class Variable\n",
    "\n",
    "player2=Player(\"prime\")\n",
    "print(player2.name)     # Instance Method\n",
    "print(player2.gameName) # Instance Variable\n",
    "print(Player.gameName)  # Class Variable\n"
   ]
  },
  {
   "cell_type": "code",
   "execution_count": 13,
   "metadata": {},
   "outputs": [
    {
     "name": "stdout",
     "output_type": "stream",
     "text": [
      "10\n",
      "8\n",
      "7\n",
      "3\n",
      "2\n",
      "0\n"
     ]
    }
   ],
   "source": [
    "# Methods\n",
    "class Developer:\n",
    "    def __init__(self,name,technology,techExperience,devExperience):\n",
    "        self.name=name\n",
    "        self.technology=technology\n",
    "        self.techExperience=techExperience\n",
    "        self.devExperience=devExperience\n",
    "    \n",
    "    def findExpDifference(self,otherDeveloper):\n",
    "        otherDeveloper.devExperience=otherDeveloper.devExperience-self.techExperience\n",
    "        \n",
    "python=Developer(\"optimus prime\",\"Python\",3,10)\n",
    "java=Developer(\"saravanakumar\",\"Java\",5,8)\n",
    "\n",
    "print(python.devExperience)\n",
    "print(java.devExperience)\n",
    "\n",
    "python.findExpDifference(python)\n",
    "java.findExpDifference(java)\n",
    "\n",
    "print(python.devExperience) # 10 - 3 = 7\n",
    "print(java.devExperience) # 8 - 5 = 3\n",
    "\n",
    "python.findExpDifference(java)\n",
    "java.findExpDifference(python)\n",
    "\n",
    "print(python.devExperience) # 7 - 5  = 2\n",
    "print(java.devExperience) # 3 - 3 = 0\n"
   ]
  },
  {
   "cell_type": "code",
   "execution_count": 17,
   "metadata": {},
   "outputs": [
    {
     "name": "stdout",
     "output_type": "stream",
     "text": [
      "optimus prime : 10\n",
      "saravanakumar : 8\n",
      "saravanakumar techexperience affect optimus prime Devexperience\n",
      "saravanakumar loses 3 Devexperience\n"
     ]
    }
   ],
   "source": [
    "# String Representation\n",
    "class Developer:\n",
    "    def __init__(self,name,technology,techExperience,devExperience):\n",
    "        self.name=name\n",
    "        self.technology=technology\n",
    "        self.techExperience=techExperience\n",
    "        self.devExperience=devExperience\n",
    "    \n",
    "    def findExpDifference(self,otherDeveloper):\n",
    "        otherDeveloper.devExperience=otherDeveloper.devExperience-self.techExperience\n",
    "        print(\"{} techexperience affect {} Devexperience\".format(otherDeveloper.name,self.name))\n",
    "        print(\"{} loses {} Devexperience\".format(otherDeveloper.name,self.techExperience))\n",
    "    \n",
    "    def __str__(self):\n",
    "        return \"{} : {}\".format(self.name,self.devExperience);\n",
    "        \n",
    "python=Developer(\"optimus prime\",\"Python\",3,10)\n",
    "java=Developer(\"saravanakumar\",\"Java\",5,8)\n",
    "\n",
    "print(python)\n",
    "print(java)\n",
    "\n",
    "python.findExpDifference(java)\n"
   ]
  },
  {
   "cell_type": "code",
   "execution_count": 29,
   "metadata": {},
   "outputs": [
    {
     "name": "stdout",
     "output_type": "stream",
     "text": [
      "name :Maven version :4.5\n",
      "name :Maven version :4.5\n"
     ]
    },
    {
     "data": {
      "text/plain": [
       "'class :Tools name:Maven version:4.5'"
      ]
     },
     "execution_count": 29,
     "metadata": {},
     "output_type": "execute_result"
    }
   ],
   "source": [
    "# __repr__ vs __str__\n",
    "\n",
    "class Tools:\n",
    "    def __init__(self,name,version):\n",
    "        self.name=name\n",
    "        self.version=version\n",
    "        \n",
    "    def __repr__(self): # Developer Debugging Purpose\n",
    "        return \"class :{} name:{} version:{}\".format(self.__class__.__name__,self.name,self.version)\n",
    "    \n",
    "    def __str__(self):  # User Understanding Purpose\n",
    "        return \"name :{} version :{}\".format(self.name,self.version)\n",
    "    \n",
    "maven=Tools(\"Maven\",4.5)\n",
    "jenkins=Tools(\"Jenkins\",11.9)\n",
    "git=Tools(\"Git\",3.8)\n",
    "\n",
    "print(maven)\n",
    "print(str(maven))\n",
    "repr(maven)"
   ]
  },
  {
   "cell_type": "code",
   "execution_count": null,
   "metadata": {},
   "outputs": [],
   "source": []
  }
 ],
 "metadata": {
  "kernelspec": {
   "display_name": "Python 3",
   "language": "python",
   "name": "python3"
  },
  "language_info": {
   "codemirror_mode": {
    "name": "ipython",
    "version": 3
   },
   "file_extension": ".py",
   "mimetype": "text/x-python",
   "name": "python",
   "nbconvert_exporter": "python",
   "pygments_lexer": "ipython3",
   "version": "3.7.0"
  }
 },
 "nbformat": 4,
 "nbformat_minor": 2
}
