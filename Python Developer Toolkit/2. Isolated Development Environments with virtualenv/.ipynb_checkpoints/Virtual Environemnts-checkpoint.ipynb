{
 "cells": [
  {
   "cell_type": "markdown",
   "metadata": {},
   "source": [
    "# Why we need virtualenv\n",
    "\n",
    "**So far, all our installs are system wide**\n",
    "\n",
    "**Shortcomings**\n",
    "\n",
    "    => Multiple projects with conflicting dependencies\n",
    "    => Conflicts with system dependencies\n",
    "    => Multi-user systems\n",
    "    => Testing code against different python and library versions"
   ]
  },
  {
   "cell_type": "markdown",
   "metadata": {},
   "source": [
    "# Virtualenv\n",
    "\n",
    "**Create isolated Python environments**\n",
    "\n",
    "    => Isolate project dependecies\n",
    "    \n",
    "**Don't install python package globally**\n",
    "    \n",
    "    => Work inside virtualenv\n",
    "    \n",
    "**Projects with conflicting dependencies can coexist peacefully**\n",
    "    \n",
    "    => If they live inside their own virtualenv"
   ]
  },
  {
   "cell_type": "markdown",
   "metadata": {},
   "source": [
    "# Virtual Environments \n",
    "\n",
    "**Virtualenv myproject**\n",
    "\n",
    "**On windows**\n",
    "\n",
    "    => Path\\To\\Python\\Scripts\\virtualenv\\myproject\n",
    "    \n",
    "**Activate the virtualenv**\n",
    "\n",
    "    => myproject/bin/activate\n",
    "    => Windows: myproject\\Scripts\\activate\n",
    "        \n",
    "**The shell prompt shows the name of the active virtualenv**\n",
    "\n",
    "**Deactivate**"
   ]
  },
  {
   "cell_type": "markdown",
   "metadata": {},
   "source": [
    "# Virtualenv vs Projects\n",
    "\n",
    "**Keep your virtual environments seperate from your projects**\n",
    "\n",
    "**Projects**\n",
    "\n",
    "    => Contain your source code\n",
    "    => Under version control\n",
    "    \n",
    "**Virtual environemnts**\n",
    "\n",
    "    => Contain libraries, tools, python interpreter etc.\n",
    "    => Keep them in a directory like ~/.virtualenvs"
   ]
  },
  {
   "cell_type": "markdown",
   "metadata": {},
   "source": [
    "# Virtualenvwrapper\n",
    "\n",
    "**A user friendly wrpper around vitualenv**\n",
    "\n",
    "**Workon**\n",
    "\n",
    "    => Lists environments\n",
    "    \n",
    "**Workon projectname**\n",
    "    \n",
    "    => Activate environemnt , switch to project\n",
    "    \n",
    "**Mkvirtualenv, rmvirtualenv**\n",
    "\n",
    "    => Create, remove virtualenv"
   ]
  },
  {
   "cell_type": "markdown",
   "metadata": {},
   "source": [
    "# Installing Virtualenvwrapper\n",
    "\n",
    "**System wide install**\n",
    "\n",
    "**Windows**\n",
    "\n",
    "    => pip install virtualenvwrapper-win\n",
    "    => Default virtualenv location: %USERPROFILE%\\Envs\n",
    "        \n",
    "**Mac, Linux**:\n",
    "\n",
    "    => (sudo) pip install virtualenvwrapper\n",
    "    => edit~/.profile\n",
    "    => Default virtualenv location: ~/.virtualenvs"
   ]
  },
  {
   "cell_type": "markdown",
   "metadata": {},
   "source": [
    "# Binding Virtualenvs to Projects\n",
    "\n",
    "**For windows users (virtualenvwrapper-win)**\n",
    "\n",
    "**Setprojectdir**\n",
    "\n",
    "    => Bind an existing project to a virtualenv\n",
    "    \n",
    "**No mkproject command**\n",
    "    \n",
    "    => Create projects and bind them to virtualenvs yourself"
   ]
  },
  {
   "cell_type": "code",
   "execution_count": null,
   "metadata": {},
   "outputs": [],
   "source": []
  }
 ],
 "metadata": {
  "kernelspec": {
   "display_name": "Python 3",
   "language": "python",
   "name": "python3"
  },
  "language_info": {
   "codemirror_mode": {
    "name": "ipython",
    "version": 3
   },
   "file_extension": ".py",
   "mimetype": "text/x-python",
   "name": "python",
   "nbconvert_exporter": "python",
   "pygments_lexer": "ipython3",
   "version": "3.7.3"
  }
 },
 "nbformat": 4,
 "nbformat_minor": 2
}
