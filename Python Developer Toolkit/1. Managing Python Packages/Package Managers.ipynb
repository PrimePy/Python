{
 "cells": [
  {
   "cell_type": "markdown",
   "metadata": {},
   "source": [
    "# How an installed Package is Found:\n",
    "\n",
    "\n",
    "# sys.path:\n",
    "   \n",
    "   => **List of directories searched for packages**\n",
    "   \n",
    "   => **First item : current directory(.)**\n",
    "   \n",
    "   => **Last item : site-packages**\n",
    "    \n",
    "# site-packages:\n",
    "\n",
    "   => **Third party packages are installed here**\n",
    "   \n",
    "   => **Location depends on OS, Python version and installation procedure**\n",
    "   \n",
    "   => **Will be somewhere inside your python installation**\n",
    "   \n",
    "   => **MAy not even be called sitepackages (dict-packages)**\n",
    "   "
   ]
  },
  {
   "cell_type": "markdown",
   "metadata": {},
   "source": [
    "# Preferred Tools:\n",
    "\n",
    "**Python Packaging Authority (PyPA)**\n",
    "\n",
    "**Creating and distributong packages**\n",
    "\n",
    "    => use setuptools\n",
    "    => For disutils : discountinued, merged into setuptools\n",
    "    => Easy_install is included in setuptools\n",
    "    \n",
    "**Installing Packages**\n",
    "\n",
    "    => use pip\n",
    "    => with virtualenv"
   ]
  },
  {
   "cell_type": "markdown",
   "metadata": {},
   "source": [
    "# Installing Pip:\n",
    "\n",
    "**Starting with Python 3.4, pip comes pe-installed**\n",
    "\n",
    "**Python 2 or Python 3<3.4**\n",
    "    \n",
    "    => Follow instructions at http://www.pip-installer.org/\n",
    "    => Download and run get_pip.py\n",
    "    => Linux/Mac users may need to use sudo\n",
    "    \n",
    "**Mac users using Homebrew**:\n",
    "\n",
    "    => Homebrew installs pip with Python\n",
    "    \n",
    "**Windows users**:\n",
    "\n",
    "    => pip will be in the Scripts directory of the Python installation\n",
    "    => Add C:PythonXX\\Scripts to your Path"
   ]
  },
  {
   "cell_type": "markdown",
   "metadata": {},
   "source": [
    "# Installing Packages with Pip\n",
    "\n",
    "**Installing a package**\n",
    "\n",
    "    => pip install requests\n",
    "    => pip install requests==1.0\n",
    "    => pip install 'requests>=2.1'\n",
    "    => Use quotes t oprevent redirection with '>' and '<'\n",
    "    \n",
    "**Removing a package**\n",
    "\n",
    "    => pip uninstall requests\n",
    "    \n",
    "**Be careful**\n",
    "\n",
    "    => Don't start installing lots of packages\n",
    "    => First learn about virtualenv"
   ]
  },
  {
   "cell_type": "markdown",
   "metadata": {},
   "source": [
    "# Inspecting Packages with Pip\n",
    "\n",
    "**List all installed packages**\n",
    "\n",
    "    => pip list\n",
    "    \n",
    "**Get info on a specific package**\n",
    "    \n",
    "    => pip show requests\n",
    "    \n",
    "**Search for a package**\n",
    "    \n",
    "    => pip search query\n",
    "    \n",
    "** Cheese Shop: http://pypi.python.org/**"
   ]
  },
  {
   "cell_type": "markdown",
   "metadata": {},
   "source": [
    "# Requirements Files:\n",
    "\n",
    "**pip freeze>requirements.txt**\n",
    "\n",
    "    => Save your projects dependencies in requirements.txt\n",
    "    => Including correct versions\n",
    "    \n",
    "**pip install -r requirements.txt**\n",
    "\n",
    "    => install all packages listed in requirements.txt"
   ]
  },
  {
   "cell_type": "code",
   "execution_count": null,
   "metadata": {},
   "outputs": [],
   "source": []
  }
 ],
 "metadata": {
  "kernelspec": {
   "display_name": "Python 3",
   "language": "python",
   "name": "python3"
  },
  "language_info": {
   "codemirror_mode": {
    "name": "ipython",
    "version": 3
   },
   "file_extension": ".py",
   "mimetype": "text/x-python",
   "name": "python",
   "nbconvert_exporter": "python",
   "pygments_lexer": "ipython3",
   "version": "3.7.3"
  }
 },
 "nbformat": 4,
 "nbformat_minor": 2
}
