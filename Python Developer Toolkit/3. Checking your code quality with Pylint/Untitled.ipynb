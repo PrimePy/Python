{
 "cells": [
  {
   "cell_type": "markdown",
   "metadata": {},
   "source": [
    "# PEP8: Style Guide for Python Code\n",
    "\n",
    "**PEP: Python Enhancement Proposel**\n",
    "    \n",
    "    => Provide information to the Python community\n",
    "    => Describe a new feature for Python\n",
    "    \n",
    "**PEP8: Style Guide for Python Code**\n",
    "    \n",
    "    => Code Layout\n",
    "    => Whitespace\n",
    "    => Comments\n",
    "    => Naming Conversations"
   ]
  },
  {
   "cell_type": "markdown",
   "metadata": {},
   "source": [
    "# Layout:\n",
    "\n",
    "**It's about readability**\n",
    "\n",
    "**Indentation: 4 spaces per level**\n",
    "    \n",
    "**Line length max: 79 characters**\n",
    "    \n",
    "**Blank lines:**\n",
    "    \n",
    "    => 2 lines between top level functions and classes\n",
    "    => 1 line between methods inside class\n",
    "    \n",
    "**Imports**\n",
    "\n",
    "**Use of spaces in expressions**\n",
    "\n",
    "**If you don't know the rules, your tools will tell you(mostly)**"
   ]
  },
  {
   "cell_type": "markdown",
   "metadata": {},
   "source": [
    "# Documentation and Naming:\n",
    "\n",
    "**DocStrings for all public modules, functions, classes and methods**\n",
    "\n",
    "**Naming**\n",
    "\n",
    "    => Modules: short, lowercase names\n",
    "    => Classes: CapitalizedNaming\n",
    "    => Fucntions and methods: lowercase_with_underscores\n",
    "    => Constants:ALL_CAPs\n",
    "    => Non Public names start with underscore\n",
    "    \n",
    "**Programming Recommendations**\n",
    "\n",
    "    => ... and more"
   ]
  },
  {
   "cell_type": "code",
   "execution_count": null,
   "metadata": {},
   "outputs": [],
   "source": [
    " "
   ]
  }
 ],
 "metadata": {
  "kernelspec": {
   "display_name": "Python 3",
   "language": "python",
   "name": "python3"
  },
  "language_info": {
   "codemirror_mode": {
    "name": "ipython",
    "version": 3
   },
   "file_extension": ".py",
   "mimetype": "text/x-python",
   "name": "python",
   "nbconvert_exporter": "python",
   "pygments_lexer": "ipython3",
   "version": "3.7.3"
  }
 },
 "nbformat": 4,
 "nbformat_minor": 2
}
