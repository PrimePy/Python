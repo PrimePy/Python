{
 "cells": [
  {
   "cell_type": "markdown",
   "metadata": {},
   "source": [
    "# UnPythinic vs Pythonic __dict__:"
   ]
  },
  {
   "cell_type": "code",
   "execution_count": 5,
   "metadata": {},
   "outputs": [],
   "source": [
    " class Vector:\n",
    "    \n",
    "    def __init__(self, **coords):\n",
    "        private_coords = {'_'+ k: v for k,v in coords.items()}\n",
    "        self.__dict__.update(private_coords)\n",
    "        \n",
    "    def __getattr__(self, name):\n",
    "        private_name = '_'+name\n",
    "        try:\n",
    "            return self.__dict__[private_name]\n",
    "        except keyError:\n",
    "            return '{} - Attribute not availabe in {}'.format(name, self.__class__.__name__) \n",
    "        print('Name = {}'.format(getattr(self,private_name)))\n",
    "    \n",
    "    def __setattr__(self, name, value):\n",
    "        raise AttributeError(\"Don't set attribute {}\".format(name))\n",
    "        \n",
    "    def __delattr__(self, name):\n",
    "        raise AttributeError(\"Don't delete attribute {}\".format(name))\n",
    "        \n",
    "    def __repr__(self):\n",
    "        return '{} - ({})'.format(\n",
    "        self.__class__.__name__, ','.join('{k}={v}'.format(\n",
    "            k = k[1:],\n",
    "            v = self.__dict__[k])\n",
    "            for k in sorted(self.__dict__.keys())))\n"
   ]
  },
  {
   "cell_type": "code",
   "execution_count": 6,
   "metadata": {},
   "outputs": [],
   "source": [
    " class ColoredVector(Vector):\n",
    "    \n",
    "    COLOR_INDEX = ('red', 'green', 'blue')\n",
    "    \n",
    "    def __init__(self, red, green , blue, **coords):\n",
    "        super().__init__(**coords)\n",
    "        self.__dict__['color'] = [red, green, blue]\n",
    "        \n",
    "    def __getattr__(self, name):\n",
    "        try:\n",
    "            channel = ColoredVector.COLOR_INDEX.index(name)\n",
    "        except ValueError:\n",
    "            return super().__getattr__(name)\n",
    "        else:\n",
    "            return self.__dict__['color'][channel]\n",
    "            \n",
    "    def __setattr__(self, name, value):\n",
    "        try:\n",
    "            channel = ColoredVector.COLOR_INDEX.index(name)\n",
    "        except ValueError:\n",
    "            super().__setattr__(name, value)\n",
    "        else:\n",
    "            self.__dict__['color'][channel] = value\n",
    "            \n",
    "    def __repr__(self):\n",
    "        keys = set((self.__dict__.keys()))\n",
    "        keys.discard('color')\n",
    "        coords = ','.join('{k}: {v}'.format(\n",
    "            k = k[1:],\n",
    "            v = self.__dict__[k])\n",
    "            for k in sorted(keys))\n",
    "        return '{cls} ({red}, {green}, {blue}, {coords})'.format(\n",
    "            cls = self.__class__.__name__,\n",
    "            red = self.red,\n",
    "            green = self.green,\n",
    "            blue = self.blue,\n",
    "            coords = coords\n",
    "        )"
   ]
  },
  {
   "cell_type": "code",
   "execution_count": 7,
   "metadata": {},
   "outputs": [],
   "source": [
    "cv = ColoredVector(red =10, green = 20, blue = 30, p=23, q =23)"
   ]
  },
  {
   "cell_type": "code",
   "execution_count": 9,
   "metadata": {},
   "outputs": [
    {
     "data": {
      "text/plain": [
       "{'_p': 23, '_q': 23, 'color': [10, 20, 30]}"
      ]
     },
     "execution_count": 9,
     "metadata": {},
     "output_type": "execute_result"
    }
   ],
   "source": [
    "# Pythonic\n",
    "vars(cv)"
   ]
  },
  {
   "cell_type": "code",
   "execution_count": 13,
   "metadata": {},
   "outputs": [
    {
     "data": {
      "text/plain": [
       "{'_p': 23, '_q': 23, 'color': [10, 20, 30]}"
      ]
     },
     "execution_count": 13,
     "metadata": {},
     "output_type": "execute_result"
    }
   ],
   "source": [
    "# UnPythonic\n",
    "cv.__dict__"
   ]
  },
  {
   "cell_type": "code",
   "execution_count": 15,
   "metadata": {},
   "outputs": [
    {
     "data": {
      "text/plain": [
       "3"
      ]
     },
     "execution_count": 15,
     "metadata": {},
     "output_type": "execute_result"
    }
   ],
   "source": [
    "# Pythonic\n",
    "len(vars(cv)['color'])"
   ]
  },
  {
   "cell_type": "code",
   "execution_count": 16,
   "metadata": {},
   "outputs": [
    {
     "data": {
      "text/plain": [
       "3"
      ]
     },
     "execution_count": 16,
     "metadata": {},
     "output_type": "execute_result"
    }
   ],
   "source": [
    "# UnPythonic\n",
    "cv.__dict__['color'].__len__()"
   ]
  },
  {
   "cell_type": "code",
   "execution_count": 17,
   "metadata": {},
   "outputs": [],
   "source": [
    "# Pythonic:\n",
    "vars(cv)['color'] = [23,23,23]"
   ]
  },
  {
   "cell_type": "code",
   "execution_count": 18,
   "metadata": {},
   "outputs": [],
   "source": [
    "# UnPythonic:\n",
    "cv.__dict__['color'] = [23,32,32]"
   ]
  },
  {
   "cell_type": "markdown",
   "metadata": {},
   "source": [
    "# getattribute:"
   ]
  },
  {
   "cell_type": "code",
   "execution_count": 23,
   "metadata": {},
   "outputs": [],
   "source": [
    "class LoggingProxy:\n",
    "    \n",
    "    def __init__(self, target):\n",
    "        super().__setattr__('target', target)\n",
    "        \n",
    "    def __getattribute__(self, name):\n",
    "        target = super().__getattribute__('target')\n",
    "        \n",
    "        try:\n",
    "            value = getattr(target, name)\n",
    "        except AttributeError as e:\n",
    "            raise AttributeError('{} could not forward {} to {}'.format(\n",
    "                super().__getattribute__('__class__').__name__,\n",
    "                name,\n",
    "                target\n",
    "            ))\n",
    "        print('Retrived Attribute {} = {} from {}'.format(name, value, target))\n",
    "        return value"
   ]
  },
  {
   "cell_type": "code",
   "execution_count": 24,
   "metadata": {},
   "outputs": [],
   "source": [
    "cv = ColoredVector(red =10, green = 20, blue = 30, p=23, q =23)\n"
   ]
  },
  {
   "cell_type": "code",
   "execution_count": 25,
   "metadata": {},
   "outputs": [],
   "source": [
    "cw = LoggingProxy(cv)"
   ]
  },
  {
   "cell_type": "code",
   "execution_count": 26,
   "metadata": {},
   "outputs": [
    {
     "name": "stdout",
     "output_type": "stream",
     "text": [
      "Retrived Attribute p = 23 from ColoredVector (10, 20, 30, p: 23,q: 23)\n"
     ]
    },
    {
     "data": {
      "text/plain": [
       "23"
      ]
     },
     "execution_count": 26,
     "metadata": {},
     "output_type": "execute_result"
    }
   ],
   "source": [
    "cw.p"
   ]
  },
  {
   "cell_type": "code",
   "execution_count": 27,
   "metadata": {},
   "outputs": [
    {
     "name": "stdout",
     "output_type": "stream",
     "text": [
      "Retrived Attribute q = 23 from ColoredVector (10, 20, 30, p: 23,q: 23)\n"
     ]
    },
    {
     "data": {
      "text/plain": [
       "23"
      ]
     },
     "execution_count": 27,
     "metadata": {},
     "output_type": "execute_result"
    }
   ],
   "source": [
    "cw.q"
   ]
  },
  {
   "cell_type": "code",
   "execution_count": 28,
   "metadata": {},
   "outputs": [
    {
     "name": "stdout",
     "output_type": "stream",
     "text": [
      "Retrived Attribute green = 20 from ColoredVector (10, 20, 30, p: 23,q: 23)\n"
     ]
    },
    {
     "data": {
      "text/plain": [
       "20"
      ]
     },
     "execution_count": 28,
     "metadata": {},
     "output_type": "execute_result"
    }
   ],
   "source": [
    "cw.green"
   ]
  },
  {
   "cell_type": "code",
   "execution_count": 39,
   "metadata": {},
   "outputs": [],
   "source": [
    "class LoggingProxy:\n",
    "    \n",
    "    def __init__(self, target):\n",
    "        super().__setattr__('target', target)\n",
    "        \n",
    "    def __getattribute__(self, name):\n",
    "        target = super().__getattribute__('target')\n",
    "        \n",
    "        try:\n",
    "            value = getattr(target, name)\n",
    "        except AttributeError as e:\n",
    "            raise AttributeError('{} could not forward {} to {}'.format(\n",
    "                super().__getattribute__('__class__').__name__,\n",
    "                name,\n",
    "                target\n",
    "            ))\n",
    "        print('Retrived Attribute {} = {} from {}'.format(name, value, target))\n",
    "        return value\n",
    "    \n",
    "    def __setattr__(self, name, value):\n",
    "        target = super().__getattribute__('target')\n",
    "        \n",
    "        try:\n",
    "            setattr(target, name, value)\n",
    "        except AttributeError as e:\n",
    "            raise AttributeError('{} could not forward {} to {}'.format(\n",
    "                super().__getattribute__('__class__').__name__,\n",
    "                name,\n",
    "                target\n",
    "            ))\n",
    "        print('Set Attribute {} = {} from {}'.format(name, value, target))"
   ]
  },
  {
   "cell_type": "code",
   "execution_count": 40,
   "metadata": {},
   "outputs": [],
   "source": [
    "cv = ColoredVector(red =10, green = 20, blue = 30, p=23, q =23)\n"
   ]
  },
  {
   "cell_type": "code",
   "execution_count": 41,
   "metadata": {},
   "outputs": [
    {
     "name": "stdout",
     "output_type": "stream",
     "text": [
      "Retrived Attribute __class__ = <class '__main__.ColoredVector'> from ColoredVector (10, 20, 30, p: 23,q: 23)\n",
      "Retrived Attribute __class__ = <class '__main__.ColoredVector'> from ColoredVector (10, 20, 30, p: 23,q: 23)\n",
      "Retrived Attribute __class__ = <class '__main__.ColoredVector'> from ColoredVector (10, 20, 30, p: 23,q: 23)\n",
      "Retrived Attribute __class__ = <class '__main__.ColoredVector'> from ColoredVector (10, 20, 30, p: 23,q: 23)\n",
      "Retrived Attribute __class__ = <class '__main__.ColoredVector'> from ColoredVector (10, 20, 30, p: 23,q: 23)\n",
      "Retrived Attribute __class__ = <class '__main__.ColoredVector'> from ColoredVector (10, 20, 30, p: 23,q: 23)\n"
     ]
    }
   ],
   "source": [
    "cw = LoggingProxy(cv)"
   ]
  },
  {
   "cell_type": "code",
   "execution_count": 42,
   "metadata": {},
   "outputs": [
    {
     "name": "stdout",
     "output_type": "stream",
     "text": [
      "Set Attribute red = 23 from ColoredVector (23, 20, 30, p: 23,q: 23)\n"
     ]
    }
   ],
   "source": [
    "cw.red =23"
   ]
  },
  {
   "cell_type": "code",
   "execution_count": 43,
   "metadata": {},
   "outputs": [
    {
     "name": "stdout",
     "output_type": "stream",
     "text": [
      "Retrived Attribute red = 23 from ColoredVector (23, 20, 30, p: 23,q: 23)\n"
     ]
    },
    {
     "data": {
      "text/plain": [
       "23"
      ]
     },
     "execution_count": 43,
     "metadata": {},
     "output_type": "execute_result"
    }
   ],
   "source": [
    "cw.red"
   ]
  },
  {
   "cell_type": "code",
   "execution_count": 44,
   "metadata": {},
   "outputs": [
    {
     "ename": "AttributeError",
     "evalue": "LoggingProxy could not forward p to ColoredVector (23, 20, 30, p: 23,q: 23)",
     "output_type": "error",
     "traceback": [
      "\u001b[1;31m---------------------------------------------------------------------------\u001b[0m",
      "\u001b[1;31mValueError\u001b[0m                                Traceback (most recent call last)",
      "\u001b[1;32m<ipython-input-6-505c8add4dc7>\u001b[0m in \u001b[0;36m__setattr__\u001b[1;34m(self, name, value)\u001b[0m\n\u001b[0;32m     18\u001b[0m        \u001b[1;32mtry\u001b[0m\u001b[1;33m:\u001b[0m\u001b[1;33m\u001b[0m\u001b[1;33m\u001b[0m\u001b[0m\n\u001b[1;32m---> 19\u001b[1;33m            \u001b[0mchannel\u001b[0m \u001b[1;33m=\u001b[0m \u001b[0mColoredVector\u001b[0m\u001b[1;33m.\u001b[0m\u001b[0mCOLOR_INDEX\u001b[0m\u001b[1;33m.\u001b[0m\u001b[0mindex\u001b[0m\u001b[1;33m(\u001b[0m\u001b[0mname\u001b[0m\u001b[1;33m)\u001b[0m\u001b[1;33m\u001b[0m\u001b[1;33m\u001b[0m\u001b[0m\n\u001b[0m\u001b[0;32m     20\u001b[0m        \u001b[1;32mexcept\u001b[0m \u001b[0mValueError\u001b[0m\u001b[1;33m:\u001b[0m\u001b[1;33m\u001b[0m\u001b[1;33m\u001b[0m\u001b[0m\n",
      "\u001b[1;31mValueError\u001b[0m: tuple.index(x): x not in tuple",
      "\nDuring handling of the above exception, another exception occurred:\n",
      "\u001b[1;31mAttributeError\u001b[0m                            Traceback (most recent call last)",
      "\u001b[1;32m<ipython-input-39-46954a84ef4b>\u001b[0m in \u001b[0;36m__setattr__\u001b[1;34m(self, name, value)\u001b[0m\n\u001b[0;32m     23\u001b[0m         \u001b[1;32mtry\u001b[0m\u001b[1;33m:\u001b[0m\u001b[1;33m\u001b[0m\u001b[1;33m\u001b[0m\u001b[0m\n\u001b[1;32m---> 24\u001b[1;33m             \u001b[0msetattr\u001b[0m\u001b[1;33m(\u001b[0m\u001b[0mtarget\u001b[0m\u001b[1;33m,\u001b[0m \u001b[0mname\u001b[0m\u001b[1;33m,\u001b[0m \u001b[0mvalue\u001b[0m\u001b[1;33m)\u001b[0m\u001b[1;33m\u001b[0m\u001b[1;33m\u001b[0m\u001b[0m\n\u001b[0m\u001b[0;32m     25\u001b[0m         \u001b[1;32mexcept\u001b[0m \u001b[0mAttributeError\u001b[0m \u001b[1;32mas\u001b[0m \u001b[0me\u001b[0m\u001b[1;33m:\u001b[0m\u001b[1;33m\u001b[0m\u001b[1;33m\u001b[0m\u001b[0m\n",
      "\u001b[1;32m<ipython-input-6-505c8add4dc7>\u001b[0m in \u001b[0;36m__setattr__\u001b[1;34m(self, name, value)\u001b[0m\n\u001b[0;32m     20\u001b[0m        \u001b[1;32mexcept\u001b[0m \u001b[0mValueError\u001b[0m\u001b[1;33m:\u001b[0m\u001b[1;33m\u001b[0m\u001b[1;33m\u001b[0m\u001b[0m\n\u001b[1;32m---> 21\u001b[1;33m            \u001b[0msuper\u001b[0m\u001b[1;33m(\u001b[0m\u001b[1;33m)\u001b[0m\u001b[1;33m.\u001b[0m\u001b[0m__setattr__\u001b[0m\u001b[1;33m(\u001b[0m\u001b[0mname\u001b[0m\u001b[1;33m,\u001b[0m \u001b[0mvalue\u001b[0m\u001b[1;33m)\u001b[0m\u001b[1;33m\u001b[0m\u001b[1;33m\u001b[0m\u001b[0m\n\u001b[0m\u001b[0;32m     22\u001b[0m        \u001b[1;32melse\u001b[0m\u001b[1;33m:\u001b[0m\u001b[1;33m\u001b[0m\u001b[1;33m\u001b[0m\u001b[0m\n",
      "\u001b[1;32m<ipython-input-5-dc6aa7427d27>\u001b[0m in \u001b[0;36m__setattr__\u001b[1;34m(self, name, value)\u001b[0m\n\u001b[0;32m     15\u001b[0m    \u001b[1;32mdef\u001b[0m \u001b[0m__setattr__\u001b[0m\u001b[1;33m(\u001b[0m\u001b[0mself\u001b[0m\u001b[1;33m,\u001b[0m \u001b[0mname\u001b[0m\u001b[1;33m,\u001b[0m \u001b[0mvalue\u001b[0m\u001b[1;33m)\u001b[0m\u001b[1;33m:\u001b[0m\u001b[1;33m\u001b[0m\u001b[1;33m\u001b[0m\u001b[0m\n\u001b[1;32m---> 16\u001b[1;33m        \u001b[1;32mraise\u001b[0m \u001b[0mAttributeError\u001b[0m\u001b[1;33m(\u001b[0m\u001b[1;34m\"Don't set attribute {}\"\u001b[0m\u001b[1;33m.\u001b[0m\u001b[0mformat\u001b[0m\u001b[1;33m(\u001b[0m\u001b[0mname\u001b[0m\u001b[1;33m)\u001b[0m\u001b[1;33m)\u001b[0m\u001b[1;33m\u001b[0m\u001b[1;33m\u001b[0m\u001b[0m\n\u001b[0m\u001b[0;32m     17\u001b[0m \u001b[1;33m\u001b[0m\u001b[0m\n",
      "\u001b[1;31mAttributeError\u001b[0m: Don't set attribute p",
      "\nDuring handling of the above exception, another exception occurred:\n",
      "\u001b[1;31mAttributeError\u001b[0m                            Traceback (most recent call last)",
      "\u001b[1;32m<ipython-input-44-3f6b0f156401>\u001b[0m in \u001b[0;36m<module>\u001b[1;34m\u001b[0m\n\u001b[1;32m----> 1\u001b[1;33m \u001b[0mcw\u001b[0m\u001b[1;33m.\u001b[0m\u001b[0mp\u001b[0m \u001b[1;33m=\u001b[0m\u001b[1;36m2332\u001b[0m\u001b[1;33m\u001b[0m\u001b[1;33m\u001b[0m\u001b[0m\n\u001b[0m",
      "\u001b[1;32m<ipython-input-39-46954a84ef4b>\u001b[0m in \u001b[0;36m__setattr__\u001b[1;34m(self, name, value)\u001b[0m\n\u001b[0;32m     27\u001b[0m                 \u001b[0msuper\u001b[0m\u001b[1;33m(\u001b[0m\u001b[1;33m)\u001b[0m\u001b[1;33m.\u001b[0m\u001b[0m__getattribute__\u001b[0m\u001b[1;33m(\u001b[0m\u001b[1;34m'__class__'\u001b[0m\u001b[1;33m)\u001b[0m\u001b[1;33m.\u001b[0m\u001b[0m__name__\u001b[0m\u001b[1;33m,\u001b[0m\u001b[1;33m\u001b[0m\u001b[1;33m\u001b[0m\u001b[0m\n\u001b[0;32m     28\u001b[0m                 \u001b[0mname\u001b[0m\u001b[1;33m,\u001b[0m\u001b[1;33m\u001b[0m\u001b[1;33m\u001b[0m\u001b[0m\n\u001b[1;32m---> 29\u001b[1;33m                 \u001b[0mtarget\u001b[0m\u001b[1;33m\u001b[0m\u001b[1;33m\u001b[0m\u001b[0m\n\u001b[0m\u001b[0;32m     30\u001b[0m             ))\n\u001b[0;32m     31\u001b[0m         \u001b[0mprint\u001b[0m\u001b[1;33m(\u001b[0m\u001b[1;34m'Set Attribute {} = {} from {}'\u001b[0m\u001b[1;33m.\u001b[0m\u001b[0mformat\u001b[0m\u001b[1;33m(\u001b[0m\u001b[0mname\u001b[0m\u001b[1;33m,\u001b[0m \u001b[0mvalue\u001b[0m\u001b[1;33m,\u001b[0m \u001b[0mtarget\u001b[0m\u001b[1;33m)\u001b[0m\u001b[1;33m)\u001b[0m\u001b[1;33m\u001b[0m\u001b[1;33m\u001b[0m\u001b[0m\n",
      "\u001b[1;31mAttributeError\u001b[0m: LoggingProxy could not forward p to ColoredVector (23, 20, 30, p: 23,q: 23)"
     ]
    }
   ],
   "source": [
    "cw.p =2332"
   ]
  },
  {
   "cell_type": "markdown",
   "metadata": {},
   "source": [
    "# Attribute Special Methods:"
   ]
  },
  {
   "cell_type": "code",
   "execution_count": 45,
   "metadata": {},
   "outputs": [
    {
     "name": "stdout",
     "output_type": "stream",
     "text": [
      "Retrived Attribute __class__ = <class '__main__.ColoredVector'> from ColoredVector (23, 20, 30, p: 23,q: 23)\n",
      "Retrived Attribute __class__ = <class '__main__.ColoredVector'> from ColoredVector (23, 20, 30, p: 23,q: 23)\n",
      "Retrived Attribute __class__ = <class '__main__.ColoredVector'> from ColoredVector (23, 20, 30, p: 23,q: 23)\n",
      "Retrived Attribute __class__ = <class '__main__.ColoredVector'> from ColoredVector (23, 20, 30, p: 23,q: 23)\n",
      "Retrived Attribute __class__ = <class '__main__.ColoredVector'> from ColoredVector (23, 20, 30, p: 23,q: 23)\n",
      "Retrived Attribute __class__ = <class '__main__.ColoredVector'> from ColoredVector (23, 20, 30, p: 23,q: 23)\n",
      "Retrived Attribute __class__ = <class '__main__.ColoredVector'> from ColoredVector (23, 20, 30, p: 23,q: 23)\n",
      "Retrived Attribute __class__ = <class '__main__.ColoredVector'> from ColoredVector (23, 20, 30, p: 23,q: 23)\n",
      "Retrived Attribute __class__ = <class '__main__.ColoredVector'> from ColoredVector (23, 20, 30, p: 23,q: 23)\n",
      "Retrived Attribute __class__ = <class '__main__.ColoredVector'> from ColoredVector (23, 20, 30, p: 23,q: 23)\n",
      "Retrived Attribute __class__ = <class '__main__.ColoredVector'> from ColoredVector (23, 20, 30, p: 23,q: 23)\n",
      "Retrived Attribute __class__ = <class '__main__.ColoredVector'> from ColoredVector (23, 20, 30, p: 23,q: 23)\n",
      "Retrived Attribute __class__ = <class '__main__.ColoredVector'> from ColoredVector (23, 20, 30, p: 23,q: 23)\n",
      "Retrived Attribute __class__ = <class '__main__.ColoredVector'> from ColoredVector (23, 20, 30, p: 23,q: 23)\n",
      "Retrived Attribute __class__ = <class '__main__.ColoredVector'> from ColoredVector (23, 20, 30, p: 23,q: 23)\n",
      "Retrived Attribute __class__ = <class '__main__.ColoredVector'> from ColoredVector (23, 20, 30, p: 23,q: 23)\n",
      "Retrived Attribute __class__ = <class '__main__.ColoredVector'> from ColoredVector (23, 20, 30, p: 23,q: 23)\n",
      "Retrived Attribute __class__ = <class '__main__.ColoredVector'> from ColoredVector (23, 20, 30, p: 23,q: 23)\n"
     ]
    },
    {
     "data": {
      "text/plain": [
       "<__main__.LoggingProxy object at 0x000000764B5DC438>"
      ]
     },
     "execution_count": 45,
     "metadata": {},
     "output_type": "execute_result"
    }
   ],
   "source": [
    "cw"
   ]
  },
  {
   "cell_type": "code",
   "execution_count": 49,
   "metadata": {},
   "outputs": [
    {
     "name": "stdout",
     "output_type": "stream",
     "text": [
      "Retrived Attribute __repr__ = <bound method ColoredVector.__repr__ of ColoredVector (23, 20, 30, p: 23,q: 23)> from ColoredVector (23, 20, 30, p: 23,q: 23)\n"
     ]
    },
    {
     "data": {
      "text/plain": [
       "'ColoredVector (23, 20, 30, p: 23,q: 23)'"
      ]
     },
     "execution_count": 49,
     "metadata": {},
     "output_type": "execute_result"
    }
   ],
   "source": [
    "cw.__repr__()"
   ]
  },
  {
   "cell_type": "code",
   "execution_count": 47,
   "metadata": {},
   "outputs": [
    {
     "data": {
      "text/plain": [
       "'<__main__.LoggingProxy object at 0x000000764B5DC438>'"
      ]
     },
     "execution_count": 47,
     "metadata": {},
     "output_type": "execute_result"
    }
   ],
   "source": [
    "repr(cw)"
   ]
  },
  {
   "cell_type": "code",
   "execution_count": 54,
   "metadata": {},
   "outputs": [],
   "source": [
    "class LoggingProxy:\n",
    "    \n",
    "    def __init__(self, target):\n",
    "        super().__setattr__('target', target)\n",
    "        \n",
    "    def __getattribute__(self, name):\n",
    "        target = super().__getattribute__('target')\n",
    "        \n",
    "        try:\n",
    "            value = getattr(target, name)\n",
    "        except AttributeError as e:\n",
    "            raise AttributeError('{} could not forward {} to {}'.format(\n",
    "                super().__getattribute__('__class__').__name__,\n",
    "                name,\n",
    "                target\n",
    "            ))\n",
    "        print('Retrived Attribute {} = {} from {}'.format(name, value, target))\n",
    "        return value\n",
    "    \n",
    "    def __setattr__(self, name, value):\n",
    "        target = super().__getattribute__('target')\n",
    "        \n",
    "        try:\n",
    "            setattr(target, name, value)\n",
    "        except AttributeError as e:\n",
    "            raise AttributeError('{} could not forward {} to {}'.format(\n",
    "                super().__getattribute__('__class__').__name__,\n",
    "                name,\n",
    "                target\n",
    "            ))\n",
    "        print('Set Attribute {} = {} from {}'.format(name, value, target))\n",
    "        \n",
    "    def repr(self):\n",
    "        target = super().__getattribute__('target')\n",
    "        repr_callable = getattr(target, '__repr__')\n",
    "        return repr_callable()"
   ]
  },
  {
   "cell_type": "code",
   "execution_count": 55,
   "metadata": {},
   "outputs": [],
   "source": [
    "cv = ColoredVector(red =10, green = 20, blue = 30, p=23, q =23)\n",
    "cw = LoggingProxy(cv)"
   ]
  },
  {
   "cell_type": "code",
   "execution_count": 56,
   "metadata": {},
   "outputs": [
    {
     "data": {
      "text/plain": [
       "'ColoredVector (10, 20, 30, p: 23,q: 23)'"
      ]
     },
     "execution_count": 56,
     "metadata": {},
     "output_type": "execute_result"
    }
   ],
   "source": [
    "repr(cv)"
   ]
  },
  {
   "cell_type": "code",
   "execution_count": 57,
   "metadata": {},
   "outputs": [
    {
     "data": {
      "text/plain": [
       "'ColoredVector (10, 20, 30, p: 23,q: 23)'"
      ]
     },
     "execution_count": 57,
     "metadata": {},
     "output_type": "execute_result"
    }
   ],
   "source": [
    "cv.__repr__()"
   ]
  },
  {
   "cell_type": "markdown",
   "metadata": {},
   "source": [
    "# Where are the Methods:"
   ]
  },
  {
   "cell_type": "code",
   "execution_count": 58,
   "metadata": {},
   "outputs": [],
   "source": [
    "v = Vector(x =2, y=23)"
   ]
  },
  {
   "cell_type": "code",
   "execution_count": 59,
   "metadata": {},
   "outputs": [
    {
     "data": {
      "text/plain": [
       "{'_x': 2, '_y': 23}"
      ]
     },
     "execution_count": 59,
     "metadata": {},
     "output_type": "execute_result"
    }
   ],
   "source": [
    "v.__dict__"
   ]
  },
  {
   "cell_type": "code",
   "execution_count": 60,
   "metadata": {},
   "outputs": [
    {
     "data": {
      "text/plain": [
       "__main__.Vector"
      ]
     },
     "execution_count": 60,
     "metadata": {},
     "output_type": "execute_result"
    }
   ],
   "source": [
    "v.__class__"
   ]
  },
  {
   "cell_type": "code",
   "execution_count": 61,
   "metadata": {},
   "outputs": [
    {
     "data": {
      "text/plain": [
       "mappingproxy({'__module__': '__main__',\n",
       "              '__init__': <function __main__.Vector.__init__(self, **coords)>,\n",
       "              '__getattr__': <function __main__.Vector.__getattr__(self, name)>,\n",
       "              '__setattr__': <function __main__.Vector.__setattr__(self, name, value)>,\n",
       "              '__delattr__': <function __main__.Vector.__delattr__(self, name)>,\n",
       "              '__repr__': <function __main__.Vector.__repr__(self)>,\n",
       "              '__dict__': <attribute '__dict__' of 'Vector' objects>,\n",
       "              '__weakref__': <attribute '__weakref__' of 'Vector' objects>,\n",
       "              '__doc__': None})"
      ]
     },
     "execution_count": 61,
     "metadata": {},
     "output_type": "execute_result"
    }
   ],
   "source": [
    "v.__class__.__dict__"
   ]
  },
  {
   "cell_type": "code",
   "execution_count": 63,
   "metadata": {},
   "outputs": [
    {
     "data": {
      "text/plain": [
       "'Vector - (x=2,y=23)'"
      ]
     },
     "execution_count": 63,
     "metadata": {},
     "output_type": "execute_result"
    }
   ],
   "source": [
    "v.__class__.__dict__['__repr__'](v)"
   ]
  },
  {
   "cell_type": "code",
   "execution_count": 64,
   "metadata": {},
   "outputs": [
    {
     "ename": "TypeError",
     "evalue": "'mappingproxy' object does not support item assignment",
     "output_type": "error",
     "traceback": [
      "\u001b[1;31m---------------------------------------------------------------------------\u001b[0m",
      "\u001b[1;31mTypeError\u001b[0m                                 Traceback (most recent call last)",
      "\u001b[1;32m<ipython-input-64-64b2a61d7457>\u001b[0m in \u001b[0;36m<module>\u001b[1;34m\u001b[0m\n\u001b[1;32m----> 1\u001b[1;33m \u001b[0mv\u001b[0m\u001b[1;33m.\u001b[0m\u001b[0m__class__\u001b[0m\u001b[1;33m.\u001b[0m\u001b[0m__dict__\u001b[0m\u001b[1;33m[\u001b[0m\u001b[1;34m'name'\u001b[0m\u001b[1;33m]\u001b[0m \u001b[1;33m=\u001b[0m \u001b[1;34m'optimus'\u001b[0m\u001b[1;33m\u001b[0m\u001b[1;33m\u001b[0m\u001b[0m\n\u001b[0m",
      "\u001b[1;31mTypeError\u001b[0m: 'mappingproxy' object does not support item assignment"
     ]
    }
   ],
   "source": [
    "v.__class__.__dict__['name'] = 'optimus'"
   ]
  },
  {
   "cell_type": "code",
   "execution_count": 65,
   "metadata": {},
   "outputs": [],
   "source": [
    "setattr(v.__class__, 'name', 'optimus')"
   ]
  },
  {
   "cell_type": "code",
   "execution_count": 66,
   "metadata": {},
   "outputs": [
    {
     "data": {
      "text/plain": [
       "'optimus'"
      ]
     },
     "execution_count": 66,
     "metadata": {},
     "output_type": "execute_result"
    }
   ],
   "source": [
    "Vector.name"
   ]
  },
  {
   "cell_type": "markdown",
   "metadata": {},
   "source": [
    "# slot:"
   ]
  },
  {
   "cell_type": "code",
   "execution_count": 67,
   "metadata": {},
   "outputs": [
    {
     "data": {
      "text/plain": [
       "240"
      ]
     },
     "execution_count": 67,
     "metadata": {},
     "output_type": "execute_result"
    }
   ],
   "source": [
    "import sys\n",
    "d = {}\n",
    "sys.getsizeof(d)"
   ]
  },
  {
   "cell_type": "code",
   "execution_count": 68,
   "metadata": {},
   "outputs": [],
   "source": [
    "class Resistor:\n",
    "    \n",
    "    def __init__(self, resistance_ohm, tolerance_percent, power_watts):\n",
    "        self.resistance_ohm = resistance_ohm\n",
    "        self.tolerance_percent = tolerance_percent\n",
    "        self.power_watts = power_watts\n",
    "        \n",
    "    "
   ]
  },
  {
   "cell_type": "code",
   "execution_count": 76,
   "metadata": {},
   "outputs": [],
   "source": [
    "r = Resistor(10, 5,8.25)"
   ]
  },
  {
   "cell_type": "code",
   "execution_count": 77,
   "metadata": {},
   "outputs": [
    {
     "data": {
      "text/plain": [
       "168"
      ]
     },
     "execution_count": 77,
     "metadata": {},
     "output_type": "execute_result"
    }
   ],
   "source": [
    "sys.getsizeof(r)+sys.getsizeof(r.__dict__)"
   ]
  },
  {
   "cell_type": "code",
   "execution_count": 80,
   "metadata": {},
   "outputs": [],
   "source": [
    "r.cost_dollers = 203"
   ]
  },
  {
   "cell_type": "code",
   "execution_count": 81,
   "metadata": {},
   "outputs": [
    {
     "data": {
      "text/plain": [
       "168"
      ]
     },
     "execution_count": 81,
     "metadata": {},
     "output_type": "execute_result"
    }
   ],
   "source": [
    "sys.getsizeof(r)+sys.getsizeof(r.__dict__)"
   ]
  },
  {
   "cell_type": "code",
   "execution_count": 85,
   "metadata": {},
   "outputs": [
    {
     "data": {
      "text/plain": [
       "112"
      ]
     },
     "execution_count": 85,
     "metadata": {},
     "output_type": "execute_result"
    }
   ],
   "source": [
    "sys.getsizeof(r.__dict__)"
   ]
  },
  {
   "cell_type": "code",
   "execution_count": 86,
   "metadata": {},
   "outputs": [],
   "source": [
    "class Resistor:\n",
    "    \n",
    "    __slots__ = ['resistance_ohm', 'tolerance_percent', 'power_watts']\n",
    "    \n",
    "    def __init__(self, resistance_ohm, tolerance_percent, power_watts):\n",
    "        self.resistance_ohm = resistance_ohm\n",
    "        self.tolerance_percent = tolerance_percent\n",
    "        self.power_watts = power_watts\n",
    "        \n",
    "    "
   ]
  },
  {
   "cell_type": "code",
   "execution_count": 87,
   "metadata": {},
   "outputs": [],
   "source": [
    "r = Resistor(10, 5,8.25)"
   ]
  },
  {
   "cell_type": "code",
   "execution_count": 88,
   "metadata": {},
   "outputs": [
    {
     "data": {
      "text/plain": [
       "10"
      ]
     },
     "execution_count": 88,
     "metadata": {},
     "output_type": "execute_result"
    }
   ],
   "source": [
    "r.resistance_ohm"
   ]
  },
  {
   "cell_type": "code",
   "execution_count": 89,
   "metadata": {},
   "outputs": [
    {
     "ename": "AttributeError",
     "evalue": "'Resistor' object has no attribute 'cost'",
     "output_type": "error",
     "traceback": [
      "\u001b[1;31m---------------------------------------------------------------------------\u001b[0m",
      "\u001b[1;31mAttributeError\u001b[0m                            Traceback (most recent call last)",
      "\u001b[1;32m<ipython-input-89-9e97ee2d9bd3>\u001b[0m in \u001b[0;36m<module>\u001b[1;34m\u001b[0m\n\u001b[1;32m----> 1\u001b[1;33m \u001b[0mr\u001b[0m\u001b[1;33m.\u001b[0m\u001b[0mcost\u001b[0m \u001b[1;33m=\u001b[0m\u001b[1;36m32\u001b[0m\u001b[1;33m\u001b[0m\u001b[1;33m\u001b[0m\u001b[0m\n\u001b[0m",
      "\u001b[1;31mAttributeError\u001b[0m: 'Resistor' object has no attribute 'cost'"
     ]
    }
   ],
   "source": [
    "r.cost =32"
   ]
  },
  {
   "cell_type": "code",
   "execution_count": 90,
   "metadata": {},
   "outputs": [
    {
     "ename": "AttributeError",
     "evalue": "'Resistor' object has no attribute '__dict__'",
     "output_type": "error",
     "traceback": [
      "\u001b[1;31m---------------------------------------------------------------------------\u001b[0m",
      "\u001b[1;31mAttributeError\u001b[0m                            Traceback (most recent call last)",
      "\u001b[1;32m<ipython-input-90-c2295653bdcc>\u001b[0m in \u001b[0;36m<module>\u001b[1;34m\u001b[0m\n\u001b[1;32m----> 1\u001b[1;33m \u001b[0mr\u001b[0m\u001b[1;33m.\u001b[0m\u001b[0m__dict__\u001b[0m\u001b[1;33m\u001b[0m\u001b[1;33m\u001b[0m\u001b[0m\n\u001b[0m",
      "\u001b[1;31mAttributeError\u001b[0m: 'Resistor' object has no attribute '__dict__'"
     ]
    }
   ],
   "source": [
    "r.__dict__"
   ]
  },
  {
   "cell_type": "code",
   "execution_count": 91,
   "metadata": {},
   "outputs": [
    {
     "data": {
      "text/plain": [
       "<method-wrapper '__repr__' of Resistor object at 0x000000764B5FA688>"
      ]
     },
     "execution_count": 91,
     "metadata": {},
     "output_type": "execute_result"
    }
   ],
   "source": [
    "r.__repr__"
   ]
  },
  {
   "cell_type": "code",
   "execution_count": 92,
   "metadata": {},
   "outputs": [
    {
     "data": {
      "text/plain": [
       "__main__.Resistor"
      ]
     },
     "execution_count": 92,
     "metadata": {},
     "output_type": "execute_result"
    }
   ],
   "source": [
    "r.__class__"
   ]
  },
  {
   "cell_type": "code",
   "execution_count": 93,
   "metadata": {},
   "outputs": [],
   "source": [
    "r.tolerance_percent =23"
   ]
  },
  {
   "cell_type": "code",
   "execution_count": 94,
   "metadata": {},
   "outputs": [
    {
     "ename": "AttributeError",
     "evalue": "'Resistor' object has no attribute 'name'",
     "output_type": "error",
     "traceback": [
      "\u001b[1;31m---------------------------------------------------------------------------\u001b[0m",
      "\u001b[1;31mAttributeError\u001b[0m                            Traceback (most recent call last)",
      "\u001b[1;32m<ipython-input-94-bcf3c10bc8ff>\u001b[0m in \u001b[0;36m<module>\u001b[1;34m\u001b[0m\n\u001b[1;32m----> 1\u001b[1;33m \u001b[0mr\u001b[0m\u001b[1;33m.\u001b[0m\u001b[0mname\u001b[0m \u001b[1;33m=\u001b[0m\u001b[1;36m23\u001b[0m\u001b[1;33m\u001b[0m\u001b[1;33m\u001b[0m\u001b[0m\n\u001b[0m",
      "\u001b[1;31mAttributeError\u001b[0m: 'Resistor' object has no attribute 'name'"
     ]
    }
   ],
   "source": [
    "r.name =23"
   ]
  },
  {
   "cell_type": "code",
   "execution_count": null,
   "metadata": {},
   "outputs": [],
   "source": []
  }
 ],
 "metadata": {
  "kernelspec": {
   "display_name": "Python 3",
   "language": "python",
   "name": "python3"
  },
  "language_info": {
   "codemirror_mode": {
    "name": "ipython",
    "version": 3
   },
   "file_extension": ".py",
   "mimetype": "text/x-python",
   "name": "python",
   "nbconvert_exporter": "python",
   "pygments_lexer": "ipython3",
   "version": "3.7.3"
  }
 },
 "nbformat": 4,
 "nbformat_minor": 2
}
