{
 "cells": [
  {
   "cell_type": "markdown",
   "metadata": {},
   "source": [
    "# Abstract Base Classess:"
   ]
  },
  {
   "cell_type": "markdown",
   "metadata": {},
   "source": [
    "# Motivations for Abstarct Base Classes:\n",
    "\n",
    "    => Specification:\n",
    "            => ABCs are effective for specifying interface protocols\n",
    "            \n",
    "    => Detection:\n",
    "            => ABCs used to detect the conforming object\n",
    "        "
   ]
  },
  {
   "cell_type": "code",
   "execution_count": 2,
   "metadata": {},
   "outputs": [],
   "source": [
    "from collections.abc import MutableSequence"
   ]
  },
  {
   "cell_type": "code",
   "execution_count": 3,
   "metadata": {},
   "outputs": [
    {
     "data": {
      "text/plain": [
       "True"
      ]
     },
     "execution_count": 3,
     "metadata": {},
     "output_type": "execute_result"
    }
   ],
   "source": [
    "issubclass(list, MutableSequence)"
   ]
  },
  {
   "cell_type": "code",
   "execution_count": 4,
   "metadata": {},
   "outputs": [
    {
     "data": {
      "text/plain": [
       "(list, object)"
      ]
     },
     "execution_count": 4,
     "metadata": {},
     "output_type": "execute_result"
    }
   ],
   "source": [
    "list.__mro__"
   ]
  },
  {
   "cell_type": "code",
   "execution_count": 9,
   "metadata": {},
   "outputs": [
    {
     "ename": "TypeError",
     "evalue": "Can't instantiate abstract class MutableSequence with abstract methods __delitem__, __getitem__, __len__, __setitem__, insert",
     "output_type": "error",
     "traceback": [
      "\u001b[1;31m---------------------------------------------------------------------------\u001b[0m",
      "\u001b[1;31mTypeError\u001b[0m                                 Traceback (most recent call last)",
      "\u001b[1;32m<ipython-input-9-84e0426b64b4>\u001b[0m in \u001b[0;36m<module>\u001b[1;34m\u001b[0m\n\u001b[1;32m----> 1\u001b[1;33m \u001b[0mms\u001b[0m \u001b[1;33m=\u001b[0m \u001b[0mMutableSequence\u001b[0m\u001b[1;33m(\u001b[0m\u001b[1;33m)\u001b[0m\u001b[1;33m\u001b[0m\u001b[1;33m\u001b[0m\u001b[0m\n\u001b[0m",
      "\u001b[1;31mTypeError\u001b[0m: Can't instantiate abstract class MutableSequence with abstract methods __delitem__, __getitem__, __len__, __setitem__, insert"
     ]
    }
   ],
   "source": [
    "ms = MutableSequence()"
   ]
  },
  {
   "cell_type": "code",
   "execution_count": 10,
   "metadata": {},
   "outputs": [
    {
     "name": "stdout",
     "output_type": "stream",
     "text": [
      "True\n"
     ]
    }
   ],
   "source": [
    "# -*- coding: utf-8 -*-\n",
    "\"\"\"\n",
    "Created on Thu Aug 15 13:33:56 2019\n",
    "\n",
    "@author: Saravanakumar\n",
    "\"\"\"\n",
    "\n",
    "class SwordMetal(type):\n",
    "    \n",
    "    def __instancecheck__(cls, instance):\n",
    "        return cls.__subclasscheck__(type(instance))\n",
    "    \n",
    "    def __subclasscheck__(cls, sub):\n",
    "        return (hasattr(sub, 'swipe') and callable(sub.swipe) \n",
    "                and \n",
    "                hasattr(sub, 'sharpen') and callable(sub.sharpen))\n",
    "    \n",
    "class Sword(metaclass = SwordMetal):\n",
    "    pass\n",
    "\n",
    "class BroadSword:\n",
    "    def swipe(self):\n",
    "        print('swipe')\n",
    "        \n",
    "    def sharpen(self):\n",
    "        print('sharpen')\n",
    "    \n",
    "\n",
    "class SamuraiSword:\n",
    "    def swipe(self):\n",
    "        print('swipe')\n",
    "        \n",
    "    def sharpen(self):\n",
    "        print('sharpen')\n",
    "        \n",
    "class Riffle:\n",
    "    \n",
    "    def fire():\n",
    "        print('fire')\n",
    "        \n",
    "        \n",
    "b = BroadSword()\n",
    "print(isinstance(b, Sword))"
   ]
  },
  {
   "cell_type": "markdown",
   "metadata": {},
   "source": [
    "# ABCMeta:\n",
    "\n",
    "    => Relaible Implementation:\n",
    "        => __subclasscheck__()\n",
    "        => __instancecheck__()\n",
    "        \n",
    "        in term of \n",
    "        __subclasshook__()"
   ]
  },
  {
   "cell_type": "code",
   "execution_count": 12,
   "metadata": {},
   "outputs": [
    {
     "name": "stdout",
     "output_type": "stream",
     "text": [
      "True\n"
     ]
    }
   ],
   "source": [
    "# -*- coding: utf-8 -*-\n",
    "\"\"\"\n",
    "Created on Thu Aug 15 13:33:56 2019\n",
    "\n",
    "@author: Saravanakumar\n",
    "\"\"\"\n",
    "\n",
    "from abc import ABCMeta\n",
    "    \n",
    "class Sword(metaclass = ABCMeta):\n",
    "    \n",
    "    @classmethod\n",
    "    def __subclasshook__(cls, sub):\n",
    "        return (hasattr(sub, 'swipe') and callable(sub.swipe) \n",
    "                and \n",
    "                hasattr(sub, 'sharpen') and callable(sub.sharpen))\n",
    "    \n",
    "    def thrust(self):\n",
    "        print('thrust')\n",
    "\n",
    "class BroadSword:\n",
    "    def swipe(self):\n",
    "        print('swipe')\n",
    "        \n",
    "    def sharpen(self):\n",
    "        print('sharpen')\n",
    "    \n",
    "\n",
    "class SamuraiSword:\n",
    "    def swipe(self):\n",
    "        print('swipe')\n",
    "        \n",
    "    def sharpen(self):\n",
    "        print('sharpen')\n",
    "        \n",
    "class Riffle:\n",
    "    \n",
    "    def fire():\n",
    "        print('fire')\n",
    "        \n",
    "        \n",
    "b = BroadSword()\n",
    "print(isinstance(b, Sword))"
   ]
  },
  {
   "cell_type": "code",
   "execution_count": 13,
   "metadata": {},
   "outputs": [
    {
     "data": {
      "text/plain": [
       "True"
      ]
     },
     "execution_count": 13,
     "metadata": {},
     "output_type": "execute_result"
    }
   ],
   "source": [
    "issubclass(BroadSword, Sword)"
   ]
  },
  {
   "cell_type": "code",
   "execution_count": 18,
   "metadata": {},
   "outputs": [
    {
     "data": {
      "text/plain": [
       "[__main__.BroadSword, object]"
      ]
     },
     "execution_count": 18,
     "metadata": {},
     "output_type": "execute_result"
    }
   ],
   "source": [
    "BroadSword.mro()"
   ]
  },
  {
   "cell_type": "markdown",
   "metadata": {},
   "source": [
    "# Virtual Subclass Registration:"
   ]
  },
  {
   "cell_type": "code",
   "execution_count": 19,
   "metadata": {},
   "outputs": [],
   "source": [
    "class Text(metaclass = ABCMeta):\n",
    "    pass"
   ]
  },
  {
   "cell_type": "code",
   "execution_count": 20,
   "metadata": {},
   "outputs": [
    {
     "data": {
      "text/plain": [
       "str"
      ]
     },
     "execution_count": 20,
     "metadata": {},
     "output_type": "execute_result"
    }
   ],
   "source": [
    "Text.register(str\n",
    "             )"
   ]
  },
  {
   "cell_type": "code",
   "execution_count": 21,
   "metadata": {},
   "outputs": [
    {
     "data": {
      "text/plain": [
       "True"
      ]
     },
     "execution_count": 21,
     "metadata": {},
     "output_type": "execute_result"
    }
   ],
   "source": [
    "issubclass(str, Text)"
   ]
  },
  {
   "cell_type": "code",
   "execution_count": 23,
   "metadata": {},
   "outputs": [
    {
     "data": {
      "text/plain": [
       "True"
      ]
     },
     "execution_count": 23,
     "metadata": {},
     "output_type": "execute_result"
    }
   ],
   "source": [
    "isinstance('sdfsd', Text)"
   ]
  },
  {
   "cell_type": "code",
   "execution_count": 24,
   "metadata": {},
   "outputs": [],
   "source": [
    "@Text.register\n",
    "class Demo:\n",
    "    pass\n"
   ]
  },
  {
   "cell_type": "code",
   "execution_count": 25,
   "metadata": {},
   "outputs": [
    {
     "data": {
      "text/plain": [
       "True"
      ]
     },
     "execution_count": 25,
     "metadata": {},
     "output_type": "execute_result"
    }
   ],
   "source": [
    "issubclass(Demo, Text)"
   ]
  },
  {
   "cell_type": "markdown",
   "metadata": {},
   "source": [
    "# Combining Subclass Detection and Registration:\n",
    "\n",
    "    => You can use both subclass register() and __subclasshook__()\n",
    "    => __subclasshook__() must return NotImplemented to trigger lookup of registered subclasses"
   ]
  },
  {
   "cell_type": "code",
   "execution_count": 28,
   "metadata": {},
   "outputs": [
    {
     "name": "stdout",
     "output_type": "stream",
     "text": [
      "True\n"
     ]
    }
   ],
   "source": [
    "# -*- coding: utf-8 -*-\n",
    "\"\"\"\n",
    "Created on Thu Aug 15 13:33:56 2019\n",
    "\n",
    "@author: Saravanakumar\n",
    "\"\"\"\n",
    "\n",
    "from abc import ABCMeta\n",
    "    \n",
    "class Sword(metaclass = ABCMeta):\n",
    "    \n",
    "    @classmethod\n",
    "    def __subclasshook__(cls, sub):\n",
    "        return (hasattr(sub, 'swipe') and callable(sub.swipe) \n",
    "                and \n",
    "                hasattr(sub, 'sharpen') and callable(sub.sharpen)\n",
    "                or NotImplemented)\n",
    "    \n",
    "    def thrust(self):\n",
    "        print('thrust')\n",
    "\n",
    "class BroadSword:\n",
    "    def swipe(self):\n",
    "        print('swipe')\n",
    "        \n",
    "    def sharpen(self):\n",
    "        print('sharpen')\n",
    "\n",
    "@Sword.register\n",
    "class LightSabar:\n",
    "    def swipe(self):\n",
    "        print('swipe')\n",
    "\n",
    "class SamuraiSword:\n",
    "    def swipe(self):\n",
    "        print('swipe')\n",
    "        \n",
    "    def sharpen(self):\n",
    "        print('sharpen')\n",
    "        \n",
    "class Riffle:\n",
    "    \n",
    "    def fire():\n",
    "        print('fire')\n",
    "        \n",
    "        \n",
    "b = BroadSword()\n",
    "print(isinstance(b, Sword))"
   ]
  },
  {
   "cell_type": "code",
   "execution_count": 29,
   "metadata": {},
   "outputs": [
    {
     "data": {
      "text/plain": [
       "True"
      ]
     },
     "execution_count": 29,
     "metadata": {},
     "output_type": "execute_result"
    }
   ],
   "source": [
    "issubclass(LightSabar, Sword)"
   ]
  },
  {
   "cell_type": "code",
   "execution_count": 30,
   "metadata": {},
   "outputs": [
    {
     "name": "stdout",
     "output_type": "stream",
     "text": [
      "True\n"
     ]
    }
   ],
   "source": [
    "# -*- coding: utf-8 -*-\n",
    "\"\"\"\n",
    "Created on Thu Aug 15 13:33:56 2019\n",
    "\n",
    "@author: Saravanakumar\n",
    "\"\"\"\n",
    "\n",
    "from abc import ABC\n",
    "    \n",
    "class Sword(ABC):\n",
    "    \n",
    "    @classmethod\n",
    "    def __subclasshook__(cls, sub):\n",
    "        return (hasattr(sub, 'swipe') and callable(sub.swipe) \n",
    "                and \n",
    "                hasattr(sub, 'sharpen') and callable(sub.sharpen)\n",
    "                or NotImplemented)\n",
    "    \n",
    "    def thrust(self):\n",
    "        print('thrust')\n",
    "\n",
    "class BroadSword:\n",
    "    def swipe(self):\n",
    "        print('swipe')\n",
    "        \n",
    "    def sharpen(self):\n",
    "        print('sharpen')\n",
    "\n",
    "@Sword.register\n",
    "class LightSabar:\n",
    "    def swipe(self):\n",
    "        print('swipe')\n",
    "\n",
    "class SamuraiSword:\n",
    "    def swipe(self):\n",
    "        print('swipe')\n",
    "        \n",
    "    def sharpen(self):\n",
    "        print('sharpen')\n",
    "        \n",
    "class Riffle:\n",
    "    \n",
    "    def fire():\n",
    "        print('fire')\n",
    "        \n",
    "        \n",
    "b = BroadSword()\n",
    "print(isinstance(b, Sword))"
   ]
  },
  {
   "cell_type": "code",
   "execution_count": 31,
   "metadata": {},
   "outputs": [
    {
     "data": {
      "text/plain": [
       "True"
      ]
     },
     "execution_count": 31,
     "metadata": {},
     "output_type": "execute_result"
    }
   ],
   "source": [
    "issubclass(LightSabar, Sword)"
   ]
  },
  {
   "cell_type": "markdown",
   "metadata": {},
   "source": [
    "# Abstarct Methods:\n",
    "\n",
    "    => Declared in Abstract Base Classes (@abstractmethod)\n",
    "    => Useful Defination Not Required\n",
    "    => Must be Overridden Concreate Classes"
   ]
  },
  {
   "cell_type": "code",
   "execution_count": 37,
   "metadata": {},
   "outputs": [],
   "source": [
    "# -*- coding: utf-8 -*-\n",
    "\"\"\"\n",
    "Created on Thu Aug 15 13:33:56 2019\n",
    "\n",
    "@author: Saravanakumar\n",
    "\"\"\"\n",
    "\n",
    "from abc import ABC, abstractmethod\n",
    "    \n",
    "class Sword(ABC):\n",
    "    \n",
    "    @classmethod\n",
    "    def __subclasshook__(cls, sub):\n",
    "        return (hasattr(sub, 'swipe') and callable(sub.swipe) \n",
    "                and \n",
    "                hasattr(sub, 'thrust') and callable(sub.thrust)\n",
    "                and\n",
    "                hasattr(sub, 'parry') and callable(sub.parry)\n",
    "                or\n",
    "                NotImplemented)\n",
    "    \n",
    "    @abstractmethod\n",
    "    def thrust(self):\n",
    "        print('thrust')\n",
    "        \n",
    "    @abstractmethod\n",
    "    def swipe(self):\n",
    "        raise NotImplementedError\n",
    "        \n",
    "    @abstractmethod\n",
    "    def parry(self):\n",
    "        raise NotImplementedError\n",
    "\n",
    "class BroadSword(Sword):\n",
    "    def swipe(self):\n",
    "        print('swipe')\n",
    "        \n",
    "    def sharpen(self):\n",
    "        print('sharpen')\n",
    "        \n",
    "    def thrust(self):\n",
    "        super().thrust()\n",
    "        \n",
    "    def parry(self):\n",
    "        super().parry()\n",
    "\n",
    "@Sword.register\n",
    "class LightSabar:\n",
    "    def swipe(self):\n",
    "        print('swipe')\n",
    "\n",
    "class SamuraiSword:\n",
    "    def swipe(self):\n",
    "        print('swipe')\n",
    "        \n",
    "    def sharpen(self):\n",
    "        print('sharpen')\n",
    "        \n",
    "class Riffle:\n",
    "    \n",
    "    def fire():\n",
    "        print('fire')\n",
    "        "
   ]
  },
  {
   "cell_type": "code",
   "execution_count": 38,
   "metadata": {},
   "outputs": [],
   "source": [
    "b = BroadSword()"
   ]
  },
  {
   "cell_type": "code",
   "execution_count": 39,
   "metadata": {},
   "outputs": [
    {
     "name": "stdout",
     "output_type": "stream",
     "text": [
      "swipe\n"
     ]
    }
   ],
   "source": [
    "b.swipe()"
   ]
  },
  {
   "cell_type": "code",
   "execution_count": 40,
   "metadata": {},
   "outputs": [
    {
     "name": "stdout",
     "output_type": "stream",
     "text": [
      "thrust\n"
     ]
    }
   ],
   "source": [
    "b.thrust()"
   ]
  },
  {
   "cell_type": "code",
   "execution_count": 41,
   "metadata": {},
   "outputs": [
    {
     "ename": "NotImplementedError",
     "evalue": "",
     "output_type": "error",
     "traceback": [
      "\u001b[1;31m---------------------------------------------------------------------------\u001b[0m",
      "\u001b[1;31mNotImplementedError\u001b[0m                       Traceback (most recent call last)",
      "\u001b[1;32m<ipython-input-41-95999e844bae>\u001b[0m in \u001b[0;36m<module>\u001b[1;34m\u001b[0m\n\u001b[1;32m----> 1\u001b[1;33m \u001b[0mb\u001b[0m\u001b[1;33m.\u001b[0m\u001b[0mparry\u001b[0m\u001b[1;33m(\u001b[0m\u001b[1;33m)\u001b[0m\u001b[1;33m\u001b[0m\u001b[1;33m\u001b[0m\u001b[0m\n\u001b[0m",
      "\u001b[1;32m<ipython-input-37-3ec92c67a465>\u001b[0m in \u001b[0;36mparry\u001b[1;34m(self)\u001b[0m\n\u001b[0;32m     43\u001b[0m \u001b[1;33m\u001b[0m\u001b[0m\n\u001b[0;32m     44\u001b[0m     \u001b[1;32mdef\u001b[0m \u001b[0mparry\u001b[0m\u001b[1;33m(\u001b[0m\u001b[0mself\u001b[0m\u001b[1;33m)\u001b[0m\u001b[1;33m:\u001b[0m\u001b[1;33m\u001b[0m\u001b[1;33m\u001b[0m\u001b[0m\n\u001b[1;32m---> 45\u001b[1;33m         \u001b[0msuper\u001b[0m\u001b[1;33m(\u001b[0m\u001b[1;33m)\u001b[0m\u001b[1;33m.\u001b[0m\u001b[0mparry\u001b[0m\u001b[1;33m(\u001b[0m\u001b[1;33m)\u001b[0m\u001b[1;33m\u001b[0m\u001b[1;33m\u001b[0m\u001b[0m\n\u001b[0m\u001b[0;32m     46\u001b[0m \u001b[1;33m\u001b[0m\u001b[0m\n\u001b[0;32m     47\u001b[0m \u001b[1;33m@\u001b[0m\u001b[0mSword\u001b[0m\u001b[1;33m.\u001b[0m\u001b[0mregister\u001b[0m\u001b[1;33m\u001b[0m\u001b[1;33m\u001b[0m\u001b[0m\n",
      "\u001b[1;32m<ipython-input-37-3ec92c67a465>\u001b[0m in \u001b[0;36mparry\u001b[1;34m(self)\u001b[0m\n\u001b[0;32m     30\u001b[0m     \u001b[1;33m@\u001b[0m\u001b[0mabstractmethod\u001b[0m\u001b[1;33m\u001b[0m\u001b[1;33m\u001b[0m\u001b[0m\n\u001b[0;32m     31\u001b[0m     \u001b[1;32mdef\u001b[0m \u001b[0mparry\u001b[0m\u001b[1;33m(\u001b[0m\u001b[0mself\u001b[0m\u001b[1;33m)\u001b[0m\u001b[1;33m:\u001b[0m\u001b[1;33m\u001b[0m\u001b[1;33m\u001b[0m\u001b[0m\n\u001b[1;32m---> 32\u001b[1;33m         \u001b[1;32mraise\u001b[0m \u001b[0mNotImplementedError\u001b[0m\u001b[1;33m\u001b[0m\u001b[1;33m\u001b[0m\u001b[0m\n\u001b[0m\u001b[0;32m     33\u001b[0m \u001b[1;33m\u001b[0m\u001b[0m\n\u001b[0;32m     34\u001b[0m \u001b[1;32mclass\u001b[0m \u001b[0mBroadSword\u001b[0m\u001b[1;33m(\u001b[0m\u001b[0mSword\u001b[0m\u001b[1;33m)\u001b[0m\u001b[1;33m:\u001b[0m\u001b[1;33m\u001b[0m\u001b[1;33m\u001b[0m\u001b[0m\n",
      "\u001b[1;31mNotImplementedError\u001b[0m: "
     ]
    }
   ],
   "source": [
    "b.parry()"
   ]
  },
  {
   "cell_type": "markdown",
   "metadata": {},
   "source": [
    "# Combining Method Decorator:"
   ]
  },
  {
   "cell_type": "markdown",
   "metadata": {},
   "source": [
    "# Type 1:\n",
    "    \n",
    "    @staticmethod\n",
    "    @abstractmethod\n",
    "    def abstract_static_method():\n",
    "        raise Not ImplementedError\n",
    "        \n",
    "# Type 2:\n",
    "    \n",
    "    @classmethod\n",
    "    @abstractmethod\n",
    "    def abstract_class_method():\n",
    "        raise Not ImplementedError\n",
    "        \n",
    "# Type 3:\n",
    "    \n",
    "    @property\n",
    "    @abstractmethod\n",
    "    def abstract_property_method():\n",
    "        raise Not ImplementedError\n",
    "        \n",
    "# Type 4:\n",
    "    \n",
    "    @abstract_property_method.setter()\n",
    "    @abstractmethod\n",
    "    def abstract_static_method():\n",
    "        raise Not ImplementedError"
   ]
  },
  {
   "cell_type": "code",
   "execution_count": null,
   "metadata": {},
   "outputs": [],
   "source": []
  }
 ],
 "metadata": {
  "kernelspec": {
   "display_name": "Python 3",
   "language": "python",
   "name": "python3"
  },
  "language_info": {
   "codemirror_mode": {
    "name": "ipython",
    "version": 3
   },
   "file_extension": ".py",
   "mimetype": "text/x-python",
   "name": "python",
   "nbconvert_exporter": "python",
   "pygments_lexer": "ipython3",
   "version": "3.7.3"
  }
 },
 "nbformat": 4,
 "nbformat_minor": 2
}
