{
 "cells": [
  {
   "cell_type": "code",
   "execution_count": 1,
   "metadata": {},
   "outputs": [],
   "source": [
    "class Widget:\n",
    "    pass"
   ]
  },
  {
   "cell_type": "code",
   "execution_count": 2,
   "metadata": {},
   "outputs": [
    {
     "data": {
      "text/plain": [
       "type"
      ]
     },
     "execution_count": 2,
     "metadata": {},
     "output_type": "execute_result"
    }
   ],
   "source": [
    "type(Widget)"
   ]
  },
  {
   "cell_type": "code",
   "execution_count": 3,
   "metadata": {},
   "outputs": [
    {
     "data": {
      "text/plain": [
       "__main__.Widget"
      ]
     },
     "execution_count": 3,
     "metadata": {},
     "output_type": "execute_result"
    }
   ],
   "source": [
    "w = Widget()\n",
    "type(w)"
   ]
  },
  {
   "cell_type": "code",
   "execution_count": 4,
   "metadata": {},
   "outputs": [
    {
     "data": {
      "text/plain": [
       "type"
      ]
     },
     "execution_count": 4,
     "metadata": {},
     "output_type": "execute_result"
    }
   ],
   "source": [
    "type(type(w))"
   ]
  },
  {
   "cell_type": "code",
   "execution_count": 5,
   "metadata": {},
   "outputs": [
    {
     "data": {
      "text/plain": [
       "['A', ' ', 'L', 'i', 's', 't']"
      ]
     },
     "execution_count": 5,
     "metadata": {},
     "output_type": "execute_result"
    }
   ],
   "source": [
    "a = list('A List')\n",
    "a"
   ]
  },
  {
   "cell_type": "code",
   "execution_count": 6,
   "metadata": {},
   "outputs": [
    {
     "data": {
      "text/plain": [
       "list"
      ]
     },
     "execution_count": 6,
     "metadata": {},
     "output_type": "execute_result"
    }
   ],
   "source": [
    "type(a)"
   ]
  },
  {
   "cell_type": "code",
   "execution_count": 7,
   "metadata": {},
   "outputs": [
    {
     "data": {
      "text/plain": [
       "type"
      ]
     },
     "execution_count": 7,
     "metadata": {},
     "output_type": "execute_result"
    }
   ],
   "source": [
    "type(type(a))"
   ]
  },
  {
   "cell_type": "code",
   "execution_count": 8,
   "metadata": {},
   "outputs": [
    {
     "data": {
      "text/plain": [
       "__main__.Widget"
      ]
     },
     "execution_count": 8,
     "metadata": {},
     "output_type": "execute_result"
    }
   ],
   "source": [
    "w.__class__\n"
   ]
  },
  {
   "cell_type": "code",
   "execution_count": 9,
   "metadata": {},
   "outputs": [
    {
     "data": {
      "text/plain": [
       "type"
      ]
     },
     "execution_count": 9,
     "metadata": {},
     "output_type": "execute_result"
    }
   ],
   "source": [
    "w.__class__.__class__"
   ]
  },
  {
   "cell_type": "markdown",
   "metadata": {},
   "source": [
    "# Class Defination:\n",
    "\n",
    "    => Default Base Class  - object\n",
    "    => Default Meta Class  - type"
   ]
  },
  {
   "cell_type": "code",
   "execution_count": 10,
   "metadata": {},
   "outputs": [],
   "source": [
    "class Widget(object, metaclass = type):\n",
    "    pass"
   ]
  },
  {
   "cell_type": "code",
   "execution_count": 13,
   "metadata": {},
   "outputs": [],
   "source": [
    "class Widget:\n",
    "    pass\n",
    "name = 'Widget'\n",
    "metaclass = type\n",
    "bases = ()\n",
    "kwargs = {}\n",
    "namespace = metaclass.__prepare__(name, bases, **kwargs)"
   ]
  },
  {
   "cell_type": "code",
   "execution_count": 14,
   "metadata": {},
   "outputs": [
    {
     "data": {
      "text/plain": [
       "type"
      ]
     },
     "execution_count": 14,
     "metadata": {},
     "output_type": "execute_result"
    }
   ],
   "source": [
    "type(Widget)"
   ]
  },
  {
   "cell_type": "code",
   "execution_count": 16,
   "metadata": {},
   "outputs": [
    {
     "data": {
      "text/plain": [
       "{}"
      ]
     },
     "execution_count": 16,
     "metadata": {},
     "output_type": "execute_result"
    }
   ],
   "source": [
    "namespace"
   ]
  },
  {
   "cell_type": "code",
   "execution_count": 17,
   "metadata": {},
   "outputs": [],
   "source": [
    "Widget = metaclass.__new__(metaclass, name, bases, namespace, **kwargs)\n",
    "metaclass.__init__(Widget, name, bases, namespace, **kwargs)"
   ]
  },
  {
   "cell_type": "code",
   "execution_count": 29,
   "metadata": {},
   "outputs": [],
   "source": [
    "class TrainingMeta(type):\n",
    "    \n",
    "    @classmethod\n",
    "    def __prepare__(mcs, name, bases, **kwargs):\n",
    "        print('TrainingMeta - __prepare__')\n",
    "        print(' mcs = {}'.format(mcs))\n",
    "        print(' name = {}'.format(name))\n",
    "        print(' bases = {}'.format(bases))\n",
    "        print(' kwargs = {}'.format(kwargs))\n",
    "        namespace = super().__prepare__(name, bases)\n",
    "        print(' namespace = {}'.format(namespace))\n",
    "        return namespace\n",
    "    \n",
    "    def __new__(mcs, name, bases, namespace, **kwargs):\n",
    "        print('TrainingMeta - __new__')\n",
    "        print(' mcs = {}'.format(mcs))\n",
    "        print(' name = {}'.format(name))\n",
    "        print(' bases = {}'.format(bases))\n",
    "        print(' namespace = {}'.format(namespace))\n",
    "        print(' kwargs = {}'.format(kwargs))\n",
    "        cls = super().__new__(mcs, name, bases, namespace)\n",
    "        print(' cls = {}'.format(cls))\n",
    "        if 'action' in namespace:\n",
    "            namespace['action']('Hai optimus , i am meta')\n",
    "        return cls\n",
    "    \n",
    "    def __init__(cls, name, bases, namespace, **kwargs):\n",
    "        print('TrainingMeta - __init__')\n",
    "        print(' cls = {}'.format(cls))\n",
    "        print(' name = {}'.format(name))\n",
    "        print(' bases = {}'.format(bases))\n",
    "        print(' namespace = {}'.format(namespace))\n",
    "        print(' kwargs = {}'.format(kwargs))\n",
    "        super().__init__(name, bases, namespace)\n",
    "        \n",
    "    def __call__(self):\n",
    "        print('TrainingMeta - __call__')\n",
    "        \n",
    "    def actionMeta():\n",
    "        print('TrainingMeta - actionMeta')"
   ]
  },
  {
   "cell_type": "code",
   "execution_count": 30,
   "metadata": {},
   "outputs": [
    {
     "name": "stdout",
     "output_type": "stream",
     "text": [
      "TrainingMeta - __prepare__\n",
      " mcs = <class '__main__.TrainingMeta'>\n",
      " name = Main\n",
      " bases = ()\n",
      " kwargs = {}\n",
      " namespace = {}\n",
      "TrainingMeta - __new__\n",
      " mcs = <class '__main__.TrainingMeta'>\n",
      " name = Main\n",
      " bases = ()\n",
      " namespace = {'__module__': '__main__', '__qualname__': 'Main', '__prepare__': <classmethod object at 0x000000B945FA9DD8>, '__new__': <function Main.__new__ at 0x000000B945F7A0D0>, '__init__': <function Main.__init__ at 0x000000B945F7A158>, '__call__': <function Main.__call__ at 0x000000B945F7A1E0>, 'action': <function Main.action at 0x000000B945F7A268>, '__classcell__': <cell at 0x000000B945F92378: empty>}\n",
      " kwargs = {}\n",
      " cls = <class '__main__.Main'>\n",
      "Hai optimus , i am meta\n",
      "TrainingMeta - __init__\n",
      " cls = <class '__main__.Main'>\n",
      " name = Main\n",
      " bases = ()\n",
      " namespace = {'__module__': '__main__', '__qualname__': 'Main', '__prepare__': <classmethod object at 0x000000B945FA9DD8>, '__new__': <function Main.__new__ at 0x000000B945F7A0D0>, '__init__': <function Main.__init__ at 0x000000B945F7A158>, '__call__': <function Main.__call__ at 0x000000B945F7A1E0>, 'action': <function Main.action at 0x000000B945F7A268>, '__classcell__': <cell at 0x000000B945F92378: TrainingMeta object at 0x000000B9449A32D8>}\n",
      " kwargs = {}\n"
     ]
    }
   ],
   "source": [
    "class Main(metaclass=TrainingMeta):\n",
    "    \n",
    "    @classmethod\n",
    "    def __prepare__(mcs, name, bases, **kwargs):\n",
    "        print('TrainingMeta - __prepare__')\n",
    "        print(' mcs = {}'.format(mcs))\n",
    "        print(' name = {}'.format(name))\n",
    "        print(' bases = {}'.format(bases))\n",
    "        print(' kwargs = {}'.format(kwargs))\n",
    "        namespace = super().__prepare__(name, bases)\n",
    "        print(' namespace = {}'.format(namespace))\n",
    "        return namespace\n",
    "    \n",
    "    def __new__(mcs, name, bases, namespace, **kwargs):\n",
    "        print('TrainingMeta - __new__')\n",
    "        print(' mcs = {}'.format(mcs))\n",
    "        print(' name = {}'.format(name))\n",
    "        print(' bases = {}'.format(bases))\n",
    "        print(' namespace = {}'.format(namespace))\n",
    "        print(' kwargs = {}'.format(kwargs))\n",
    "        cls = super().__new__(mcs, name, bases, namespace)\n",
    "        print(' cls = {}'.format(cls))\n",
    "        return cls\n",
    "    \n",
    "    def __init__(cls, name, bases, namespace, **kwargs):\n",
    "        print('TrainingMeta - __init__')\n",
    "        print(' cls = {}'.format(cls))\n",
    "        print(' name = {}'.format(name))\n",
    "        print(' bases = {}'.format(bases))\n",
    "        print(' namespace = {}'.format(namespace))\n",
    "        print(' kwargs = {}'.format(kwargs))\n",
    "        super().__init__(name, bases, namespace)\n",
    "        \n",
    "    def __call__(self):\n",
    "        print('TrainingMeta - __call__')\n",
    "        \n",
    "    def action(message):\n",
    "        print(message)\n",
    "        "
   ]
  },
  {
   "cell_type": "code",
   "execution_count": 20,
   "metadata": {},
   "outputs": [
    {
     "name": "stdout",
     "output_type": "stream",
     "text": [
      "TrainingMeta - __call__\n"
     ]
    }
   ],
   "source": [
    "m = Main()"
   ]
  },
  {
   "cell_type": "code",
   "execution_count": null,
   "metadata": {},
   "outputs": [],
   "source": []
  },
  {
   "cell_type": "code",
   "execution_count": null,
   "metadata": {},
   "outputs": [],
   "source": []
  }
 ],
 "metadata": {
  "kernelspec": {
   "display_name": "Python 3",
   "language": "python",
   "name": "python3"
  },
  "language_info": {
   "codemirror_mode": {
    "name": "ipython",
    "version": 3
   },
   "file_extension": ".py",
   "mimetype": "text/x-python",
   "name": "python",
   "nbconvert_exporter": "python",
   "pygments_lexer": "ipython3",
   "version": "3.7.3"
  }
 },
 "nbformat": 4,
 "nbformat_minor": 2
}
