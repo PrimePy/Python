{
 "cells": [
  {
   "cell_type": "markdown",
   "metadata": {},
   "source": [
    "# Advanced Flow Control:\n",
    "\n",
    "       => else clauses on loops\n",
    "       => else clauses on try blocks\n",
    "       => emulating switch statement\n",
    "       => dispatching fucntion calls on type\n",
    "  "
   ]
  },
  {
   "cell_type": "markdown",
   "metadata": {},
   "source": [
    "# Loop -else Clauses:"
   ]
  },
  {
   "cell_type": "code",
   "execution_count": 3,
   "metadata": {},
   "outputs": [
    {
     "name": "stdout",
     "output_type": "stream",
     "text": [
      "Demo\n",
      "Demo\n",
      "Demo\n",
      "Demo\n",
      "Demo\n",
      "Demo\n"
     ]
    }
   ],
   "source": [
    "def demo():\n",
    "    print('Demo')\n",
    "    \n",
    "def demo1():\n",
    "    print('Demo1')\n",
    "    \n",
    "i = 0\n",
    "while i<10:\n",
    "    demo()\n",
    "    if i == 5:\n",
    "        break\n",
    "    i +=1\n",
    "else:    \n",
    "    demo1()"
   ]
  },
  {
   "cell_type": "code",
   "execution_count": 4,
   "metadata": {},
   "outputs": [
    {
     "name": "stdout",
     "output_type": "stream",
     "text": [
      "Demo\n",
      "Demo\n",
      "Demo\n",
      "Demo\n",
      "Demo\n",
      "Demo\n",
      "Demo1\n"
     ]
    }
   ],
   "source": [
    "def demo():\n",
    "    print('Demo')\n",
    "    \n",
    "def demo1():\n",
    "    print('Demo1')\n",
    "    \n",
    "i = 0\n",
    "while i<10:\n",
    "    demo()\n",
    "    if i == 5:\n",
    "        break\n",
    "    i +=1\n",
    "demo1()"
   ]
  },
  {
   "cell_type": "markdown",
   "metadata": {},
   "source": [
    "# For loop-else:"
   ]
  },
  {
   "cell_type": "code",
   "execution_count": 3,
   "metadata": {},
   "outputs": [
    {
     "name": "stdout",
     "output_type": "stream",
     "text": [
      "Item founded\n"
     ]
    }
   ],
   "source": [
    "a = [32, 54, 34]\n",
    "for item in a:\n",
    "    if item % 12 == 0:\n",
    "        print(item)\n",
    "        break\n",
    "else:\n",
    "    print('Item founded')"
   ]
  },
  {
   "cell_type": "code",
   "execution_count": 5,
   "metadata": {},
   "outputs": [
    {
     "name": "stdout",
     "output_type": "stream",
     "text": [
      "One\n"
     ]
    }
   ],
   "source": [
    "a = {\n",
    "    1 : lambda: print('One'),\n",
    "    2 : lambda: print('Two'),\n",
    "    3 : lambda: print('Three')\n",
    "}\n",
    "\n",
    "a[1]()"
   ]
  },
  {
   "cell_type": "code",
   "execution_count": 12,
   "metadata": {},
   "outputs": [
    {
     "name": "stdout",
     "output_type": "stream",
     "text": [
      "3\n",
      "demo3\n",
      "Finished\n"
     ]
    }
   ],
   "source": [
    "def demo1():\n",
    "    print('demo1')\n",
    "    \n",
    "def demo2():\n",
    "    print('demo2')\n",
    "    \n",
    "def demo3():\n",
    "    print('demo3')\n",
    "    \n",
    "def demo4():\n",
    "    print('demo4')\n",
    "    \n",
    "def demo5():\n",
    "    print('demo5')\n",
    "    \n",
    "    \n",
    "actions = {\n",
    "    1: demo1,\n",
    "    2: demo2,\n",
    "    3: demo3,\n",
    "    4: demo4,\n",
    "    5: demo5\n",
    "}\n",
    "\n",
    "command = int(input())\n",
    "try:\n",
    "    func = actions[command]\n",
    "    func()\n",
    "except KeyError as e:\n",
    "    pass\n",
    "else:\n",
    "    print('Finished')\n"
   ]
  },
  {
   "cell_type": "markdown",
   "metadata": {},
   "source": [
    "# except-else :"
   ]
  },
  {
   "cell_type": "code",
   "execution_count": 3,
   "metadata": {},
   "outputs": [
    {
     "name": "stdout",
     "output_type": "stream",
     "text": [
      "Try block triggered\n",
      "Except else block triggered\n"
     ]
    }
   ],
   "source": [
    "try:\n",
    "    print('Try block triggered')\n",
    "except ValueError as e:\n",
    "    print('Except catch the value Error')\n",
    "else:\n",
    "    print('Except else block triggered')"
   ]
  },
  {
   "cell_type": "code",
   "execution_count": 5,
   "metadata": {},
   "outputs": [
    {
     "name": "stdout",
     "output_type": "stream",
     "text": [
      "Except catch the value Error\n"
     ]
    }
   ],
   "source": [
    "try:\n",
    "    raise ValueError('Try block triggered')\n",
    "except ValueError as e:\n",
    "    print('Except catch the value Error')\n",
    "else:\n",
    "    print('Except else block triggered')"
   ]
  },
  {
   "cell_type": "code",
   "execution_count": 7,
   "metadata": {},
   "outputs": [
    {
     "name": "stdout",
     "output_type": "stream",
     "text": [
      "Try block triggered\n",
      "Except else block triggered\n",
      "Finally block triggered\n"
     ]
    }
   ],
   "source": [
    "try:\n",
    "    print('Try block triggered')\n",
    "except ValueError as e:\n",
    "    print('Except catch the value Error')\n",
    "else:\n",
    "    print('Except else block triggered')\n",
    "finally:\n",
    "    print('Finally block triggered')"
   ]
  },
  {
   "cell_type": "markdown",
   "metadata": {},
   "source": []
  },
  {
   "cell_type": "code",
   "execution_count": 23,
   "metadata": {},
   "outputs": [],
   "source": []
  },
  {
   "cell_type": "code",
   "execution_count": 30,
   "metadata": {},
   "outputs": [],
   "source": []
  },
  {
   "cell_type": "code",
   "execution_count": null,
   "metadata": {},
   "outputs": [],
   "source": []
  },
  {
   "cell_type": "code",
   "execution_count": null,
   "metadata": {},
   "outputs": [],
   "source": []
  }
 ],
 "metadata": {
  "kernelspec": {
   "display_name": "Python 3",
   "language": "python",
   "name": "python3"
  },
  "language_info": {
   "codemirror_mode": {
    "name": "ipython",
    "version": 3
   },
   "file_extension": ".py",
   "mimetype": "text/x-python",
   "name": "python",
   "nbconvert_exporter": "python",
   "pygments_lexer": "ipython3",
   "version": "3.7.3"
  }
 },
 "nbformat": 4,
 "nbformat_minor": 2
}
