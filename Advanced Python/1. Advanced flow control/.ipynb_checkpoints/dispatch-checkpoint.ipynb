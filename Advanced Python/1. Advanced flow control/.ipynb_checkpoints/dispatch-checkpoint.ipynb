{
 "cells": [
  {
   "cell_type": "markdown",
   "metadata": {},
   "source": [
    "# Singledispatch:"
   ]
  },
  {
   "cell_type": "code",
   "execution_count": 2,
   "metadata": {},
   "outputs": [],
   "source": [
    "class Circle:\n",
    "    def __init__(self, r):\n",
    "        self._r = r\n",
    "        \n",
    "class Square:\n",
    "    def __init__(self, a):\n",
    "        self._a = a\n",
    "        \n",
    "class Rectangle:\n",
    "    def __init__(self, l,b):\n",
    "        self._l = l\n",
    "        self._b = b\n",
    "\n",
    "class Triangle:\n",
    "    def __init__(self, l, b,h):\n",
    "        self._l = l\n",
    "        self._b = b\n",
    "        self._h = h"
   ]
  },
  {
   "cell_type": "code",
   "execution_count": 3,
   "metadata": {},
   "outputs": [],
   "source": [
    "from functools import singledispatch\n",
    "from math import pi\n",
    "\n",
    "@singledispatch\n",
    "def area(shape):\n",
    "    pass\n",
    "\n",
    "@area.register(Circle)\n",
    "def _(shape):\n",
    "    return 2*pi*shape._r**2\n",
    "    \n",
    "\n",
    "@area.register(Square)\n",
    "def _(shape):\n",
    "    return shape._a**2\n",
    "    \n",
    "\n",
    "@area.register(Rectangle)\n",
    "def _(shape):\n",
    "    return shape._l*shape._b\n",
    "    \n",
    "\n",
    "@area.register(Triangle)\n",
    "def _(shape):\n",
    "    return 1/2*shape._l*shape._b*shape._h"
   ]
  },
  {
   "cell_type": "code",
   "execution_count": 4,
   "metadata": {},
   "outputs": [
    {
     "name": "stdout",
     "output_type": "stream",
     "text": [
      "Circle Area : 157.07963267948966\n",
      "Square Area : 25\n",
      "Rectangle Area : 10\n",
      "Triangle Area : 15.0\n"
     ]
    }
   ],
   "source": [
    "if __name__ == '__main__':\n",
    "    shapes = [\n",
    "        Circle(r = 5),\n",
    "        Square(a = 5),\n",
    "        Rectangle(l = 5, b = 2),\n",
    "        Triangle(l = 5, b = 2, h = 3)\n",
    "    ]\n",
    "    \n",
    "    for shape in shapes:\n",
    "        print('{} Area : {}'.format(shape.__class__.__name__,area(shape)))"
   ]
  },
  {
   "cell_type": "code",
   "execution_count": 22,
   "metadata": {},
   "outputs": [],
   "source": [
    "class Circle:\n",
    "    def __init__(self, r):\n",
    "        self._r = r\n",
    "        \n",
    "    def intersect(self, shape):\n",
    "        print('intersect starts')\n",
    "        return circle_intersect(shape, self)\n",
    "    \n",
    "@singledispatch\n",
    "def circle_intersect(shape, self):\n",
    "    print(dir(shape))\n",
    "    print(dir(square))\n",
    "\n",
    "@circle_intersect.register(Square)\n",
    "def _(shape, square):\n",
    "    pass\n",
    "        \n",
    "class Square:\n",
    "    def __init__(self, a):\n",
    "        self._a = a\n",
    "        \n",
    "class Rectangle:\n",
    "    def __init__(self, l,b):\n",
    "        self._l = l\n",
    "        self._b = b\n",
    "\n",
    "class Triangle:\n",
    "    def __init__(self, l, b,h):\n",
    "        self._l = l\n",
    "        self._b = b\n",
    "        self._h = h"
   ]
  },
  {
   "cell_type": "code",
   "execution_count": 23,
   "metadata": {},
   "outputs": [
    {
     "name": "stdout",
     "output_type": "stream",
     "text": [
      "intersect starts\n",
      "circle\n"
     ]
    }
   ],
   "source": [
    "if __name__ == '__main__':\n",
    "    shapes = [\n",
    "        Circle(r = 5),\n",
    "        Square(a = 5),\n",
    "        Rectangle(l = 5, b = 2),\n",
    "        Triangle(l = 5, b = 2, h = 3)\n",
    "    ]\n",
    "    \n",
    "    shapes[0].intersect(shapes[1])"
   ]
  },
  {
   "cell_type": "code",
   "execution_count": null,
   "metadata": {},
   "outputs": [],
   "source": []
  }
 ],
 "metadata": {
  "kernelspec": {
   "display_name": "Python 3",
   "language": "python",
   "name": "python3"
  },
  "language_info": {
   "codemirror_mode": {
    "name": "ipython",
    "version": 3
   },
   "file_extension": ".py",
   "mimetype": "text/x-python",
   "name": "python",
   "nbconvert_exporter": "python",
   "pygments_lexer": "ipython3",
   "version": "3.7.3"
  }
 },
 "nbformat": 4,
 "nbformat_minor": 2
}
