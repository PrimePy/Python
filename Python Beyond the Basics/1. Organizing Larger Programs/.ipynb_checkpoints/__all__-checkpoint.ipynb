{
 "cells": [
  {
   "cell_type": "code",
   "execution_count": 2,
   "metadata": {},
   "outputs": [
    {
     "name": "stdout",
     "output_type": "stream",
     "text": [
      "Package\n"
     ]
    }
   ],
   "source": [
    "from Package.main import *"
   ]
  },
  {
   "cell_type": "code",
   "execution_count": 3,
   "metadata": {},
   "outputs": [
    {
     "data": {
      "text/plain": [
       "{'__name__': '__main__',\n",
       " '__doc__': 'Automatically created module for IPython interactive environment',\n",
       " '__package__': None,\n",
       " '__loader__': None,\n",
       " '__spec__': None,\n",
       " '__builtin__': <module 'builtins' (built-in)>,\n",
       " '__builtins__': <module 'builtins' (built-in)>,\n",
       " '_ih': ['',\n",
       "  'from Packge.main import *',\n",
       "  'from Package.main import *',\n",
       "  'locals()'],\n",
       " '_oh': {},\n",
       " '_dh': ['C:\\\\Users\\\\Saravanakumar\\\\Python\\\\Python Beyond the Basics\\\\1. Organizing Larger Programs'],\n",
       " 'In': ['',\n",
       "  'from Packge.main import *',\n",
       "  'from Package.main import *',\n",
       "  'locals()'],\n",
       " 'Out': {},\n",
       " 'get_ipython': <bound method InteractiveShell.get_ipython of <ipykernel.zmqshell.ZMQInteractiveShell object at 0x000000B526BCE2B0>>,\n",
       " 'exit': <IPython.core.autocall.ZMQExitAutocall at 0xb528dfbac8>,\n",
       " 'quit': <IPython.core.autocall.ZMQExitAutocall at 0xb528dfbac8>,\n",
       " '_': '',\n",
       " '__': '',\n",
       " '___': '',\n",
       " '_i': 'from Package.main import *',\n",
       " '_ii': 'from Packge.main import *',\n",
       " '_iii': '',\n",
       " '_i1': 'from Packge.main import *',\n",
       " '_i2': 'from Package.main import *',\n",
       " 'register': <function Package.subpackage_one.register(name)>,\n",
       " 'getRegistry': <function Package.subpackage_one.getRegistry()>,\n",
       " 'displayTwo': <function Package.subpackage_two.displayTwo()>,\n",
       " '_i3': 'locals()'}"
      ]
     },
     "execution_count": 3,
     "metadata": {},
     "output_type": "execute_result"
    }
   ],
   "source": [
    "locals()"
   ]
  },
  {
   "cell_type": "code",
   "execution_count": 4,
   "metadata": {},
   "outputs": [],
   "source": [
    "register('optimus')\n",
    "register('prime')\n",
    "register('saravana')"
   ]
  },
  {
   "cell_type": "code",
   "execution_count": 5,
   "metadata": {},
   "outputs": [
    {
     "data": {
      "text/plain": [
       "['optimus', 'prime', 'saravana']"
      ]
     },
     "execution_count": 5,
     "metadata": {},
     "output_type": "execute_result"
    }
   ],
   "source": [
    "getRegistry()"
   ]
  },
  {
   "cell_type": "code",
   "execution_count": 6,
   "metadata": {},
   "outputs": [
    {
     "name": "stdout",
     "output_type": "stream",
     "text": [
      "display method from subpackage_two\n"
     ]
    }
   ],
   "source": [
    "displayTwo()"
   ]
  },
  {
   "cell_type": "code",
   "execution_count": 10,
   "metadata": {},
   "outputs": [],
   "source": [
    "from Package.subpackage_one import *"
   ]
  },
  {
   "cell_type": "code",
   "execution_count": 11,
   "metadata": {},
   "outputs": [
    {
     "data": {
      "text/plain": [
       "{'__name__': '__main__',\n",
       " '__doc__': 'Automatically created module for IPython interactive environment',\n",
       " '__package__': None,\n",
       " '__loader__': None,\n",
       " '__spec__': None,\n",
       " '__builtin__': <module 'builtins' (built-in)>,\n",
       " '__builtins__': <module 'builtins' (built-in)>,\n",
       " '_ih': ['',\n",
       "  'from Packge.main import *',\n",
       "  'from Package.main import *',\n",
       "  'locals()',\n",
       "  \"register('optimus')\\nregister('prime')\\nregister('saravana')\",\n",
       "  'getRegistry()',\n",
       "  'displayTwo()',\n",
       "  'displayOne()',\n",
       "  'from Package.subpackage_one import *',\n",
       "  'locals()',\n",
       "  'from Package.subpackage_one import *',\n",
       "  'locals()'],\n",
       " '_oh': {3: {...}, 5: ['optimus', 'prime', 'saravana'], 9: {...}},\n",
       " '_dh': ['C:\\\\Users\\\\Saravanakumar\\\\Python\\\\Python Beyond the Basics\\\\1. Organizing Larger Programs'],\n",
       " 'In': ['',\n",
       "  'from Packge.main import *',\n",
       "  'from Package.main import *',\n",
       "  'locals()',\n",
       "  \"register('optimus')\\nregister('prime')\\nregister('saravana')\",\n",
       "  'getRegistry()',\n",
       "  'displayTwo()',\n",
       "  'displayOne()',\n",
       "  'from Package.subpackage_one import *',\n",
       "  'locals()',\n",
       "  'from Package.subpackage_one import *',\n",
       "  'locals()'],\n",
       " 'Out': {3: {...}, 5: ['optimus', 'prime', 'saravana'], 9: {...}},\n",
       " 'get_ipython': <bound method InteractiveShell.get_ipython of <ipykernel.zmqshell.ZMQInteractiveShell object at 0x000000B526BCE2B0>>,\n",
       " 'exit': <IPython.core.autocall.ZMQExitAutocall at 0xb528dfbac8>,\n",
       " 'quit': <IPython.core.autocall.ZMQExitAutocall at 0xb528dfbac8>,\n",
       " '_': {...},\n",
       " '__': ['optimus', 'prime', 'saravana'],\n",
       " '___': {...},\n",
       " '_i': 'from Package.subpackage_one import *',\n",
       " '_ii': 'locals()',\n",
       " '_iii': 'from Package.subpackage_one import *',\n",
       " '_i1': 'from Packge.main import *',\n",
       " '_i2': 'from Package.main import *',\n",
       " 'register': <function Package.subpackage_one.register(name)>,\n",
       " 'getRegistry': <function Package.subpackage_one.getRegistry()>,\n",
       " 'displayTwo': <function Package.subpackage_two.displayTwo()>,\n",
       " '_i3': 'locals()',\n",
       " '_3': {...},\n",
       " '_i4': \"register('optimus')\\nregister('prime')\\nregister('saravana')\",\n",
       " '_i5': 'getRegistry()',\n",
       " '_5': ['optimus', 'prime', 'saravana'],\n",
       " '_i6': 'displayTwo()',\n",
       " '_i7': 'displayOne()',\n",
       " '_i8': 'from Package.subpackage_one import *',\n",
       " '_displayOne': <function Package.subpackage_one._displayOne()>,\n",
       " '_registry': ['optimus', 'prime', 'saravana'],\n",
       " '_i9': 'locals()',\n",
       " '_9': {...},\n",
       " '_i10': 'from Package.subpackage_one import *',\n",
       " '_i11': 'locals()'}"
      ]
     },
     "execution_count": 11,
     "metadata": {},
     "output_type": "execute_result"
    }
   ],
   "source": [
    "locals()"
   ]
  },
  {
   "cell_type": "code",
   "execution_count": 12,
   "metadata": {},
   "outputs": [
    {
     "data": {
      "text/plain": [
       "['optimus', 'prime', 'saravana']"
      ]
     },
     "execution_count": 12,
     "metadata": {},
     "output_type": "execute_result"
    }
   ],
   "source": [
    "_registry"
   ]
  },
  {
   "cell_type": "code",
   "execution_count": 13,
   "metadata": {},
   "outputs": [
    {
     "name": "stdout",
     "output_type": "stream",
     "text": [
      "display method from subpackage_two\n"
     ]
    }
   ],
   "source": [
    "_displayOne()"
   ]
  },
  {
   "cell_type": "code",
   "execution_count": 14,
   "metadata": {},
   "outputs": [],
   "source": [
    "from Package.subpackage_two import *"
   ]
  },
  {
   "cell_type": "code",
   "execution_count": 15,
   "metadata": {},
   "outputs": [
    {
     "data": {
      "text/plain": [
       "{'__name__': '__main__',\n",
       " '__doc__': 'Automatically created module for IPython interactive environment',\n",
       " '__package__': None,\n",
       " '__loader__': None,\n",
       " '__spec__': None,\n",
       " '__builtin__': <module 'builtins' (built-in)>,\n",
       " '__builtins__': <module 'builtins' (built-in)>,\n",
       " '_ih': ['',\n",
       "  'from Packge.main import *',\n",
       "  'from Package.main import *',\n",
       "  'locals()',\n",
       "  \"register('optimus')\\nregister('prime')\\nregister('saravana')\",\n",
       "  'getRegistry()',\n",
       "  'displayTwo()',\n",
       "  'displayOne()',\n",
       "  'from Package.subpackage_one import *',\n",
       "  'locals()',\n",
       "  'from Package.subpackage_one import *',\n",
       "  'locals()',\n",
       "  '_registry',\n",
       "  '_displayOne()',\n",
       "  'from Package.subpackage_two import *',\n",
       "  'locals()'],\n",
       " '_oh': {3: {...},\n",
       "  5: ['optimus', 'prime', 'saravana'],\n",
       "  9: {...},\n",
       "  11: {...},\n",
       "  12: ['optimus', 'prime', 'saravana']},\n",
       " '_dh': ['C:\\\\Users\\\\Saravanakumar\\\\Python\\\\Python Beyond the Basics\\\\1. Organizing Larger Programs'],\n",
       " 'In': ['',\n",
       "  'from Packge.main import *',\n",
       "  'from Package.main import *',\n",
       "  'locals()',\n",
       "  \"register('optimus')\\nregister('prime')\\nregister('saravana')\",\n",
       "  'getRegistry()',\n",
       "  'displayTwo()',\n",
       "  'displayOne()',\n",
       "  'from Package.subpackage_one import *',\n",
       "  'locals()',\n",
       "  'from Package.subpackage_one import *',\n",
       "  'locals()',\n",
       "  '_registry',\n",
       "  '_displayOne()',\n",
       "  'from Package.subpackage_two import *',\n",
       "  'locals()'],\n",
       " 'Out': {3: {...},\n",
       "  5: ['optimus', 'prime', 'saravana'],\n",
       "  9: {...},\n",
       "  11: {...},\n",
       "  12: ['optimus', 'prime', 'saravana']},\n",
       " 'get_ipython': <bound method InteractiveShell.get_ipython of <ipykernel.zmqshell.ZMQInteractiveShell object at 0x000000B526BCE2B0>>,\n",
       " 'exit': <IPython.core.autocall.ZMQExitAutocall at 0xb528dfbac8>,\n",
       " 'quit': <IPython.core.autocall.ZMQExitAutocall at 0xb528dfbac8>,\n",
       " '_': ['optimus', 'prime', 'saravana'],\n",
       " '__': {...},\n",
       " '___': {...},\n",
       " '_i': 'from Package.subpackage_two import *',\n",
       " '_ii': '_displayOne()',\n",
       " '_iii': '_registry',\n",
       " '_i1': 'from Packge.main import *',\n",
       " '_i2': 'from Package.main import *',\n",
       " 'register': <function Package.subpackage_one.register(name)>,\n",
       " 'getRegistry': <function Package.subpackage_one.getRegistry()>,\n",
       " 'displayTwo': <function Package.subpackage_two.displayTwo()>,\n",
       " '_i3': 'locals()',\n",
       " '_3': {...},\n",
       " '_i4': \"register('optimus')\\nregister('prime')\\nregister('saravana')\",\n",
       " '_i5': 'getRegistry()',\n",
       " '_5': ['optimus', 'prime', 'saravana'],\n",
       " '_i6': 'displayTwo()',\n",
       " '_i7': 'displayOne()',\n",
       " '_i8': 'from Package.subpackage_one import *',\n",
       " '_displayOne': <function Package.subpackage_one._displayOne()>,\n",
       " '_registry': ['optimus', 'prime', 'saravana'],\n",
       " '_i9': 'locals()',\n",
       " '_9': {...},\n",
       " '_i10': 'from Package.subpackage_one import *',\n",
       " '_i11': 'locals()',\n",
       " '_11': {...},\n",
       " '_i12': '_registry',\n",
       " '_12': ['optimus', 'prime', 'saravana'],\n",
       " '_i13': '_displayOne()',\n",
       " '_i14': 'from Package.subpackage_two import *',\n",
       " '_i15': 'locals()'}"
      ]
     },
     "execution_count": 15,
     "metadata": {},
     "output_type": "execute_result"
    }
   ],
   "source": [
    "locals()"
   ]
  },
  {
   "cell_type": "code",
   "execution_count": null,
   "metadata": {},
   "outputs": [],
   "source": []
  }
 ],
 "metadata": {
  "kernelspec": {
   "display_name": "Python 3",
   "language": "python",
   "name": "python3"
  },
  "language_info": {
   "codemirror_mode": {
    "name": "ipython",
    "version": 3
   },
   "file_extension": ".py",
   "mimetype": "text/x-python",
   "name": "python",
   "nbconvert_exporter": "python",
   "pygments_lexer": "ipython3",
   "version": "3.7.1"
  }
 },
 "nbformat": 4,
 "nbformat_minor": 2
}
