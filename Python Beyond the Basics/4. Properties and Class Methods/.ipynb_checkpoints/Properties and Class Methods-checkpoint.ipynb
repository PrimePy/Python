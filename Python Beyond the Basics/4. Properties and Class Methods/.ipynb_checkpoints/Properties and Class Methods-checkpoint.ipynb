{
 "cells": [
  {
   "cell_type": "markdown",
   "metadata": {},
   "source": [
    "# Instance Attribute :\n",
    "\n",
    "    =>  Instance attributes  better for application development."
   ]
  },
  {
   "cell_type": "code",
   "execution_count": 2,
   "metadata": {},
   "outputs": [],
   "source": [
    "class ShippingContainer:\n",
    "    def __init__(self, owner_code, contents):\n",
    "        self.owner_code = owner_code\n",
    "        self.contents = contents\n",
    "        "
   ]
  },
  {
   "cell_type": "code",
   "execution_count": 11,
   "metadata": {},
   "outputs": [],
   "source": [
    "shop = ShippingContainer('Optimus', 'I am from cybetron')"
   ]
  },
  {
   "cell_type": "code",
   "execution_count": 12,
   "metadata": {},
   "outputs": [
    {
     "data": {
      "text/plain": [
       "'Optimus'"
      ]
     },
     "execution_count": 12,
     "metadata": {},
     "output_type": "execute_result"
    }
   ],
   "source": [
    "shop.owner_code"
   ]
  },
  {
   "cell_type": "code",
   "execution_count": 13,
   "metadata": {},
   "outputs": [
    {
     "data": {
      "text/plain": [
       "'I am from cybetron'"
      ]
     },
     "execution_count": 13,
     "metadata": {},
     "output_type": "execute_result"
    }
   ],
   "source": [
    "shop.contents"
   ]
  },
  {
   "cell_type": "code",
   "execution_count": 16,
   "metadata": {},
   "outputs": [],
   "source": [
    "shop1 = ShippingContainer('prime', 'I am from pudukkottai')"
   ]
  },
  {
   "cell_type": "code",
   "execution_count": 17,
   "metadata": {},
   "outputs": [
    {
     "data": {
      "text/plain": [
       "'prime'"
      ]
     },
     "execution_count": 17,
     "metadata": {},
     "output_type": "execute_result"
    }
   ],
   "source": [
    "shop1.owner_code"
   ]
  },
  {
   "cell_type": "code",
   "execution_count": 20,
   "metadata": {},
   "outputs": [
    {
     "data": {
      "text/plain": [
       "'I am from pudukkottai'"
      ]
     },
     "execution_count": 20,
     "metadata": {},
     "output_type": "execute_result"
    }
   ],
   "source": [
    "shop1.contents"
   ]
  },
  {
   "cell_type": "code",
   "execution_count": 21,
   "metadata": {},
   "outputs": [
    {
     "data": {
      "text/plain": [
       "'I am from cybetron'"
      ]
     },
     "execution_count": 21,
     "metadata": {},
     "output_type": "execute_result"
    }
   ],
   "source": [
    "shop.contents"
   ]
  },
  {
   "cell_type": "markdown",
   "metadata": {},
   "source": [
    "# Class Attributes:"
   ]
  },
  {
   "cell_type": "code",
   "execution_count": 24,
   "metadata": {},
   "outputs": [],
   "source": [
    "class Demo:\n",
    "    salary = 50000.00\n",
    "    def __init__(self, name, age):\n",
    "        self.name = name\n",
    "        self.age = age\n",
    "        self.salary = Demo.salary\n",
    "        Demo.salary += 10000"
   ]
  },
  {
   "cell_type": "code",
   "execution_count": 25,
   "metadata": {},
   "outputs": [],
   "source": [
    "demo1 = Demo('optimus', 21)"
   ]
  },
  {
   "cell_type": "code",
   "execution_count": 26,
   "metadata": {},
   "outputs": [
    {
     "data": {
      "text/plain": [
       "'optimus'"
      ]
     },
     "execution_count": 26,
     "metadata": {},
     "output_type": "execute_result"
    }
   ],
   "source": [
    "demo1.name"
   ]
  },
  {
   "cell_type": "code",
   "execution_count": 27,
   "metadata": {},
   "outputs": [
    {
     "data": {
      "text/plain": [
       "21"
      ]
     },
     "execution_count": 27,
     "metadata": {},
     "output_type": "execute_result"
    }
   ],
   "source": [
    "demo1.age"
   ]
  },
  {
   "cell_type": "code",
   "execution_count": 28,
   "metadata": {},
   "outputs": [
    {
     "data": {
      "text/plain": [
       "50000.0"
      ]
     },
     "execution_count": 28,
     "metadata": {},
     "output_type": "execute_result"
    }
   ],
   "source": [
    "demo1.salary"
   ]
  },
  {
   "cell_type": "code",
   "execution_count": 29,
   "metadata": {},
   "outputs": [
    {
     "data": {
      "text/plain": [
       "60000.0"
      ]
     },
     "execution_count": 29,
     "metadata": {},
     "output_type": "execute_result"
    }
   ],
   "source": [
    "Demo.salary"
   ]
  },
  {
   "cell_type": "code",
   "execution_count": 30,
   "metadata": {},
   "outputs": [],
   "source": [
    "demo2 = Demo('saravana', 32)"
   ]
  },
  {
   "cell_type": "code",
   "execution_count": 31,
   "metadata": {},
   "outputs": [
    {
     "data": {
      "text/plain": [
       "'saravana'"
      ]
     },
     "execution_count": 31,
     "metadata": {},
     "output_type": "execute_result"
    }
   ],
   "source": [
    "demo2.name"
   ]
  },
  {
   "cell_type": "code",
   "execution_count": 32,
   "metadata": {},
   "outputs": [
    {
     "data": {
      "text/plain": [
       "60000.0"
      ]
     },
     "execution_count": 32,
     "metadata": {},
     "output_type": "execute_result"
    }
   ],
   "source": [
    "demo2.salary"
   ]
  },
  {
   "cell_type": "code",
   "execution_count": 33,
   "metadata": {},
   "outputs": [
    {
     "data": {
      "text/plain": [
       "70000.0"
      ]
     },
     "execution_count": 33,
     "metadata": {},
     "output_type": "execute_result"
    }
   ],
   "source": [
    "Demo.salary"
   ]
  },
  {
   "cell_type": "markdown",
   "metadata": {},
   "source": [
    "# Static Method: \n",
    "\n",
    "    => static method implemented the help of @staticmethod decorator"
   ]
  },
  {
   "cell_type": "code",
   "execution_count": 48,
   "metadata": {},
   "outputs": [],
   "source": [
    "class Demo:\n",
    "    salary = 50000.00\n",
    "    \n",
    "    @staticmethod\n",
    "    def getSalary():\n",
    "        result = Demo.salary\n",
    "        Demo.salary += 10000\n",
    "        return result\n",
    "         \n",
    "    def __init__(self, name, age):\n",
    "        self.name = name\n",
    "        self.age = age\n",
    "        self.salary = Demo.getSalary()"
   ]
  },
  {
   "cell_type": "code",
   "execution_count": 49,
   "metadata": {},
   "outputs": [],
   "source": [
    "d = Demo('optimus', 32)"
   ]
  },
  {
   "cell_type": "code",
   "execution_count": 50,
   "metadata": {},
   "outputs": [
    {
     "data": {
      "text/plain": [
       "'optimus'"
      ]
     },
     "execution_count": 50,
     "metadata": {},
     "output_type": "execute_result"
    }
   ],
   "source": [
    "d.name"
   ]
  },
  {
   "cell_type": "code",
   "execution_count": 51,
   "metadata": {},
   "outputs": [
    {
     "data": {
      "text/plain": [
       "32"
      ]
     },
     "execution_count": 51,
     "metadata": {},
     "output_type": "execute_result"
    }
   ],
   "source": [
    "d.age"
   ]
  },
  {
   "cell_type": "code",
   "execution_count": 52,
   "metadata": {},
   "outputs": [
    {
     "data": {
      "text/plain": [
       "50000.0"
      ]
     },
     "execution_count": 52,
     "metadata": {},
     "output_type": "execute_result"
    }
   ],
   "source": [
    "d.salary"
   ]
  },
  {
   "cell_type": "code",
   "execution_count": 53,
   "metadata": {},
   "outputs": [],
   "source": [
    "dd = Demo('prime', 23)"
   ]
  },
  {
   "cell_type": "code",
   "execution_count": 54,
   "metadata": {},
   "outputs": [
    {
     "data": {
      "text/plain": [
       "'prime'"
      ]
     },
     "execution_count": 54,
     "metadata": {},
     "output_type": "execute_result"
    }
   ],
   "source": [
    "dd.name"
   ]
  },
  {
   "cell_type": "code",
   "execution_count": 55,
   "metadata": {},
   "outputs": [
    {
     "data": {
      "text/plain": [
       "23"
      ]
     },
     "execution_count": 55,
     "metadata": {},
     "output_type": "execute_result"
    }
   ],
   "source": [
    "dd.age"
   ]
  },
  {
   "cell_type": "code",
   "execution_count": 56,
   "metadata": {},
   "outputs": [
    {
     "data": {
      "text/plain": [
       "60000.0"
      ]
     },
     "execution_count": 56,
     "metadata": {},
     "output_type": "execute_result"
    }
   ],
   "source": [
    "dd.salary"
   ]
  },
  {
   "cell_type": "code",
   "execution_count": 58,
   "metadata": {},
   "outputs": [
    {
     "data": {
      "text/plain": [
       "70000.0"
      ]
     },
     "execution_count": 58,
     "metadata": {},
     "output_type": "execute_result"
    }
   ],
   "source": [
    "Demo.salary"
   ]
  },
  {
   "cell_type": "markdown",
   "metadata": {},
   "source": [
    "# Class Method:\n",
    "\n",
    "    =>  Class method implemented as the help of @classmethod decorator"
   ]
  },
  {
   "cell_type": "code",
   "execution_count": 61,
   "metadata": {},
   "outputs": [],
   "source": [
    "class Demo:\n",
    "    salary = 50000.00\n",
    "    \n",
    "    @classmethod\n",
    "    def getSalary(cls):\n",
    "        result = cls.salary\n",
    "        cls.salary += 10000\n",
    "        return result\n",
    "         \n",
    "    def __init__(self, name, age):\n",
    "        self.name = name\n",
    "        self.age = age\n",
    "        self.salary = Demo.getSalary()"
   ]
  },
  {
   "cell_type": "code",
   "execution_count": 62,
   "metadata": {},
   "outputs": [],
   "source": [
    "d = Demo('optimus', 23)"
   ]
  },
  {
   "cell_type": "code",
   "execution_count": 63,
   "metadata": {},
   "outputs": [
    {
     "data": {
      "text/plain": [
       "50000.0"
      ]
     },
     "execution_count": 63,
     "metadata": {},
     "output_type": "execute_result"
    }
   ],
   "source": [
    "d.salary"
   ]
  },
  {
   "cell_type": "code",
   "execution_count": 64,
   "metadata": {},
   "outputs": [
    {
     "data": {
      "text/plain": [
       "60000.0"
      ]
     },
     "execution_count": 64,
     "metadata": {},
     "output_type": "execute_result"
    }
   ],
   "source": [
    "Demo.salary"
   ]
  },
  {
   "cell_type": "code",
   "execution_count": 67,
   "metadata": {},
   "outputs": [
    {
     "data": {
      "text/plain": [
       "70000.0"
      ]
     },
     "execution_count": 67,
     "metadata": {},
     "output_type": "execute_result"
    }
   ],
   "source": [
    "d1 = Demo('prime', 21)\n",
    "d1.salary"
   ]
  },
  {
   "cell_type": "code",
   "execution_count": 68,
   "metadata": {},
   "outputs": [
    {
     "data": {
      "text/plain": [
       "80000.0"
      ]
     },
     "execution_count": 68,
     "metadata": {},
     "output_type": "execute_result"
    }
   ],
   "source": [
    "Demo.salary"
   ]
  },
  {
   "cell_type": "code",
   "execution_count": 1,
   "metadata": {},
   "outputs": [],
   "source": [
    "class Demo:\n",
    "    salary = 50000.00\n",
    "    \n",
    "    @classmethod\n",
    "    def getSalary(cls):\n",
    "        result = cls.salary\n",
    "        cls.salary += 10000\n",
    "        return result\n",
    "    \n",
    "    @classmethod\n",
    "    def assignWrongName(cls, name, age):\n",
    "        return cls(name= None, age = 12)\n",
    "    \n",
    "    @classmethod\n",
    "    def assignCorrectName(cls, name, age):\n",
    "        return cls(name, age= None)\n",
    "        \n",
    "    def __init__(self, name, age):\n",
    "        self.name = name\n",
    "        self.age = age\n",
    "        self.salary = Demo.getSalary()"
   ]
  },
  {
   "cell_type": "code",
   "execution_count": 4,
   "metadata": {},
   "outputs": [],
   "source": [
    "d = Demo('optimus', 'Cybetron')"
   ]
  },
  {
   "cell_type": "code",
   "execution_count": 3,
   "metadata": {},
   "outputs": [
    {
     "data": {
      "text/plain": [
       "50000.0"
      ]
     },
     "execution_count": 3,
     "metadata": {},
     "output_type": "execute_result"
    }
   ],
   "source": [
    "d.salary"
   ]
  },
  {
   "cell_type": "code",
   "execution_count": 17,
   "metadata": {},
   "outputs": [],
   "source": [
    "dd = Demo.assignWrongName('prime', 234)"
   ]
  },
  {
   "cell_type": "code",
   "execution_count": 19,
   "metadata": {},
   "outputs": [
    {
     "name": "stdout",
     "output_type": "stream",
     "text": [
      "None\n"
     ]
    }
   ],
   "source": [
    "print(dd.name)"
   ]
  },
  {
   "cell_type": "code",
   "execution_count": 20,
   "metadata": {},
   "outputs": [
    {
     "name": "stdout",
     "output_type": "stream",
     "text": [
      "12\n"
     ]
    }
   ],
   "source": [
    "print(dd.age)"
   ]
  },
  {
   "cell_type": "code",
   "execution_count": 21,
   "metadata": {},
   "outputs": [],
   "source": [
    "dd = Demo.assignCorrectName('prime', 234)"
   ]
  },
  {
   "cell_type": "code",
   "execution_count": 22,
   "metadata": {},
   "outputs": [
    {
     "data": {
      "text/plain": [
       "'prime'"
      ]
     },
     "execution_count": 22,
     "metadata": {},
     "output_type": "execute_result"
    }
   ],
   "source": [
    "dd.name"
   ]
  },
  {
   "cell_type": "code",
   "execution_count": 23,
   "metadata": {},
   "outputs": [],
   "source": [
    "dd.age"
   ]
  },
  {
   "cell_type": "code",
   "execution_count": 31,
   "metadata": {},
   "outputs": [
    {
     "data": {
      "text/plain": [
       "110000.0"
      ]
     },
     "execution_count": 31,
     "metadata": {},
     "output_type": "execute_result"
    }
   ],
   "source": [
    "dd.salary"
   ]
  },
  {
   "cell_type": "code",
   "execution_count": 54,
   "metadata": {},
   "outputs": [],
   "source": [
    "import random\n",
    "a= ['0','1','2','3','4','5','6','7','8','9']\n",
    "class BICCodeGenerator:\n",
    "    def __init__(self):\n",
    "        pass\n",
    "    @staticmethod\n",
    "    def create(owner_code = '', serial_num = '', category_itendifier = 'U'):\n",
    "        check_digit = str(random.randint(0, 9))\n",
    "        return str(owner_code)+category_itendifier+serial_num+check_digit                             "
   ]
  },
  {
   "cell_type": "code",
   "execution_count": 55,
   "metadata": {},
   "outputs": [
    {
     "name": "stdout",
     "output_type": "stream",
     "text": [
      "123U23423421\n"
     ]
    }
   ],
   "source": [
    "print(BICCodeGenerator.create(123, '2342342'))"
   ]
  },
  {
   "cell_type": "code",
   "execution_count": 56,
   "metadata": {},
   "outputs": [
    {
     "name": "stdout",
     "output_type": "stream",
     "text": [
      "123R23423426\n"
     ]
    }
   ],
   "source": [
    "print(BICCodeGenerator.create(123,'2342342','R'))"
   ]
  },
  {
   "cell_type": "code",
   "execution_count": 65,
   "metadata": {},
   "outputs": [],
   "source": [
    "class ShippingContainer:\n",
    "    next_serial = 3303\n",
    "    \n",
    "    @staticmethod\n",
    "    def _make_bic_code(owner_code, serial):\n",
    "        return BICCodeGenerator.create(owner_code = owner_code,\n",
    "                                       serial_num = str(serial).zfill(6))\n",
    "    \n",
    "    @classmethod\n",
    "    def _get_next_serial(cls):\n",
    "        result = cls.next_serial\n",
    "        cls.next_serial += 1\n",
    "        return result\n",
    "    \n",
    "    @classmethod\n",
    "    def create_empty(cls, owner_code):\n",
    "        return cls(owner_code, age = 12)\n",
    "    \n",
    "    @classmethod\n",
    "    def Create_with_items(cls, owner_code, items):\n",
    "        return cls(owner_code, contents= list(items))\n",
    "        \n",
    "    def __init__(self, owner_code, contents):\n",
    "        self.owner_code = owner_code\n",
    "        self.contents = contents\n",
    "        self.bic = ShippingContainer._make_bic_code(owner_code = owner_code,\n",
    "            serial = ShippingContainer._get_next_serial())"
   ]
  },
  {
   "cell_type": "code",
   "execution_count": 61,
   "metadata": {},
   "outputs": [],
   "source": [
    "s = ShippingContainer(12313, 'Ice cubes')"
   ]
  },
  {
   "cell_type": "code",
   "execution_count": 28,
   "metadata": {},
   "outputs": [
    {
     "data": {
      "text/plain": [
       "12313"
      ]
     },
     "execution_count": 28,
     "metadata": {},
     "output_type": "execute_result"
    }
   ],
   "source": [
    "s.owner_code"
   ]
  },
  {
   "cell_type": "code",
   "execution_count": 29,
   "metadata": {},
   "outputs": [
    {
     "data": {
      "text/plain": [
       "'Ice cubes'"
      ]
     },
     "execution_count": 29,
     "metadata": {},
     "output_type": "execute_result"
    }
   ],
   "source": [
    "s.contents"
   ]
  },
  {
   "cell_type": "code",
   "execution_count": 62,
   "metadata": {},
   "outputs": [
    {
     "data": {
      "text/plain": [
       "'12313U0033039'"
      ]
     },
     "execution_count": 62,
     "metadata": {},
     "output_type": "execute_result"
    }
   ],
   "source": [
    "s.bic\n"
   ]
  },
  {
   "cell_type": "markdown",
   "metadata": {},
   "source": [
    "# Static Methods with inheritance:"
   ]
  },
  {
   "cell_type": "code",
   "execution_count": 66,
   "metadata": {},
   "outputs": [],
   "source": [
    "class RefrigeratorShippingContainer(ShippingContainer):\n",
    "    @staticmethod\n",
    "    def _make_bic_code(owner_code, serial):\n",
    "        return BICCodeGenerator.create(owner_code = owner_code,\n",
    "                                       serial_num = str(serial).zfill(6),\n",
    "                                      category_itendifier = 'R')\n",
    "    "
   ]
  },
  {
   "cell_type": "code",
   "execution_count": 69,
   "metadata": {},
   "outputs": [],
   "source": [
    "r = RefrigeratorShippingContainer(333, 'fish')"
   ]
  },
  {
   "cell_type": "code",
   "execution_count": 72,
   "metadata": {},
   "outputs": [
    {
     "data": {
      "text/plain": [
       "'333U0033034'"
      ]
     },
     "execution_count": 72,
     "metadata": {},
     "output_type": "execute_result"
    }
   ],
   "source": [
    "r.bic"
   ]
  },
  {
   "cell_type": "code",
   "execution_count": 73,
   "metadata": {},
   "outputs": [
    {
     "data": {
      "text/plain": [
       "'MAEU0012344'"
      ]
     },
     "execution_count": 73,
     "metadata": {},
     "output_type": "execute_result"
    }
   ],
   "source": [
    "ShippingContainer._make_bic_code('MAE', 1234)"
   ]
  },
  {
   "cell_type": "code",
   "execution_count": 71,
   "metadata": {},
   "outputs": [
    {
     "data": {
      "text/plain": [
       "'MAER0012344'"
      ]
     },
     "execution_count": 71,
     "metadata": {},
     "output_type": "execute_result"
    }
   ],
   "source": [
    "RefrigeratorShippingContainer._make_bic_code('MAE', 1234)"
   ]
  },
  {
   "cell_type": "code",
   "execution_count": 74,
   "metadata": {},
   "outputs": [],
   "source": [
    "c =  ShippingContainer('ESC', 'textiles')"
   ]
  },
  {
   "cell_type": "code",
   "execution_count": 76,
   "metadata": {},
   "outputs": [
    {
     "data": {
      "text/plain": [
       "'MAEU0012348'"
      ]
     },
     "execution_count": 76,
     "metadata": {},
     "output_type": "execute_result"
    }
   ],
   "source": [
    "c._make_bic_code('MAE', 1234)"
   ]
  },
  {
   "cell_type": "code",
   "execution_count": 77,
   "metadata": {},
   "outputs": [],
   "source": [
    "c =  RefrigeratorShippingContainer('ESC', 'pass')"
   ]
  },
  {
   "cell_type": "code",
   "execution_count": 78,
   "metadata": {},
   "outputs": [
    {
     "data": {
      "text/plain": [
       "'MAER0012346'"
      ]
     },
     "execution_count": 78,
     "metadata": {},
     "output_type": "execute_result"
    }
   ],
   "source": [
    "c._make_bic_code('MAE', 1234)"
   ]
  },
  {
   "cell_type": "code",
   "execution_count": 104,
   "metadata": {},
   "outputs": [],
   "source": [
    "class ShippingContainer:\n",
    "    next_serial = 3303\n",
    "    \n",
    "    @staticmethod\n",
    "    def _make_bic_code(owner_code, serial):\n",
    "        return BICCodeGenerator.create(owner_code = owner_code,\n",
    "                                       serial_num = str(serial).zfill(6))\n",
    "    \n",
    "    @classmethod\n",
    "    def _get_next_serial(cls):\n",
    "        result = cls.next_serial\n",
    "        cls.next_serial += 1\n",
    "        return result\n",
    "    \n",
    "    @classmethod\n",
    "    def create_empty(cls, owner_code):\n",
    "        return cls(owner_code, contents = None)\n",
    "    \n",
    "    @classmethod\n",
    "    def Create_with_items(cls, owner_code, items):\n",
    "        return cls(owner_code, contents= list(items))\n",
    "        \n",
    "    def __init__(self, owner_code, contents):\n",
    "        self.owner_code = owner_code\n",
    "        self.contents = contents\n",
    "        self.bic = self._make_bic_code(owner_code = owner_code,\n",
    "            serial = ShippingContainer._get_next_serial())"
   ]
  },
  {
   "cell_type": "code",
   "execution_count": 105,
   "metadata": {},
   "outputs": [],
   "source": [
    "class RefrigeratorShippingContainer(ShippingContainer):\n",
    "    @staticmethod\n",
    "    def _make_bic_code(owner_code, serial):\n",
    "        return BICCodeGenerator.create(owner_code = owner_code,\n",
    "                                       serial_num = str(serial).zfill(6),\n",
    "                                      category_itendifier = 'R')\n",
    "    "
   ]
  },
  {
   "cell_type": "code",
   "execution_count": 106,
   "metadata": {},
   "outputs": [],
   "source": [
    "r = RefrigeratorShippingContainer('MAE', 'fish')"
   ]
  },
  {
   "cell_type": "code",
   "execution_count": 107,
   "metadata": {},
   "outputs": [
    {
     "data": {
      "text/plain": [
       "'MAER0033030'"
      ]
     },
     "execution_count": 107,
     "metadata": {},
     "output_type": "execute_result"
    }
   ],
   "source": [
    "r.bic"
   ]
  },
  {
   "cell_type": "markdown",
   "metadata": {},
   "source": [
    "# Class methods with inheritance:"
   ]
  },
  {
   "cell_type": "code",
   "execution_count": 108,
   "metadata": {},
   "outputs": [],
   "source": [
    "r = RefrigeratorShippingContainer.create_empty('YML')"
   ]
  },
  {
   "cell_type": "code",
   "execution_count": 109,
   "metadata": {},
   "outputs": [
    {
     "data": {
      "text/plain": [
       "<__main__.RefrigeratorShippingContainer at 0xa92928748>"
      ]
     },
     "execution_count": 109,
     "metadata": {},
     "output_type": "execute_result"
    }
   ],
   "source": [
    "r"
   ]
  },
  {
   "cell_type": "code",
   "execution_count": 111,
   "metadata": {},
   "outputs": [
    {
     "data": {
      "text/plain": [
       "['ice', 'peas']"
      ]
     },
     "execution_count": 111,
     "metadata": {},
     "output_type": "execute_result"
    }
   ],
   "source": [
    "r = RefrigeratorShippingContainer.Create_with_items('YML', ['ice', 'peas'])\n",
    "r.contents"
   ]
  },
  {
   "cell_type": "code",
   "execution_count": 119,
   "metadata": {},
   "outputs": [],
   "source": [
    "class ShippingContainer:\n",
    "    next_serial = 3303\n",
    "    \n",
    "    @staticmethod\n",
    "    def _make_bic_code(owner_code, serial):\n",
    "        return BICCodeGenerator.create(owner_code = owner_code,\n",
    "                                       serial_num = str(serial).zfill(6))\n",
    "    \n",
    "    @classmethod\n",
    "    def _get_next_serial(cls):\n",
    "        result = cls.next_serial\n",
    "        cls.next_serial += 1\n",
    "        return result\n",
    "    \n",
    "    @classmethod\n",
    "    def create_empty(cls, owner_code, *args, **kwargs):\n",
    "        return cls(owner_code, contents = None, *args, **kwargs)\n",
    "    \n",
    "    @classmethod\n",
    "    def Create_with_items(cls, owner_code, items, *args, **kwargs):\n",
    "        return cls(owner_code, contents= list(items), *args, **kwargs)\n",
    "        \n",
    "    def __init__(self, owner_code, contents):\n",
    "        self.owner_code = owner_code\n",
    "        self.contents = contents\n",
    "        self.bic = self._make_bic_code(owner_code = owner_code,\n",
    "            serial = ShippingContainer._get_next_serial())\n",
    "        \n",
    "class RefrigeratorShippingContainer(ShippingContainer):\n",
    "    \n",
    "    MAX_CELSIUS = 4.0\n",
    "    \n",
    "    @staticmethod\n",
    "    def _make_bic_code(owner_code, serial):\n",
    "        return BICCodeGenerator.create(owner_code = owner_code,\n",
    "                                       serial_num = str(serial).zfill(6),\n",
    "                                      category_itendifier = 'R')\n",
    "    \n",
    "    def __init__(self, owner_code, contents, celsius):\n",
    "        super().__init__(owner_code, contents)\n",
    "        if celsius > RefrigeratorShippingContainer.MAX_CELSIUS:\n",
    "            raise ValueError('Temperature too hot!')\n",
    "        self.celsius = celsius\n",
    "    "
   ]
  },
  {
   "cell_type": "code",
   "execution_count": 123,
   "metadata": {},
   "outputs": [
    {
     "data": {
      "text/plain": [
       "['ice', 'peas']"
      ]
     },
     "execution_count": 123,
     "metadata": {},
     "output_type": "execute_result"
    }
   ],
   "source": [
    "r = RefrigeratorShippingContainer.Create_with_items('ESC', ['ice', 'peas'], celsius=2.0)\n",
    "r.contents"
   ]
  },
  {
   "cell_type": "code",
   "execution_count": 121,
   "metadata": {},
   "outputs": [
    {
     "data": {
      "text/plain": [
       "2.0"
      ]
     },
     "execution_count": 121,
     "metadata": {},
     "output_type": "execute_result"
    }
   ],
   "source": [
    "r.celsius"
   ]
  },
  {
   "cell_type": "code",
   "execution_count": 124,
   "metadata": {},
   "outputs": [
    {
     "data": {
      "text/plain": [
       "'ESCR0033049'"
      ]
     },
     "execution_count": 124,
     "metadata": {},
     "output_type": "execute_result"
    }
   ],
   "source": [
    "r.bic"
   ]
  },
  {
   "cell_type": "code",
   "execution_count": 125,
   "metadata": {},
   "outputs": [],
   "source": [
    "r.celsius = 15.0"
   ]
  },
  {
   "cell_type": "code",
   "execution_count": 126,
   "metadata": {},
   "outputs": [
    {
     "data": {
      "text/plain": [
       "15.0"
      ]
     },
     "execution_count": 126,
     "metadata": {},
     "output_type": "execute_result"
    }
   ],
   "source": [
    "r.celsius"
   ]
  },
  {
   "cell_type": "markdown",
   "metadata": {},
   "source": [
    "# Properties:"
   ]
  },
  {
   "cell_type": "code",
   "execution_count": 128,
   "metadata": {},
   "outputs": [],
   "source": [
    "class ShippingContainer:\n",
    "    next_serial = 3303\n",
    "    \n",
    "    @staticmethod\n",
    "    def _make_bic_code(owner_code, serial):\n",
    "        return BICCodeGenerator.create(owner_code = owner_code,\n",
    "                                       serial_num = str(serial).zfill(6))\n",
    "    \n",
    "    @classmethod\n",
    "    def _get_next_serial(cls):\n",
    "        result = cls.next_serial\n",
    "        cls.next_serial += 1\n",
    "        return result\n",
    "    \n",
    "    @classmethod\n",
    "    def create_empty(cls, owner_code, *args, **kwargs):\n",
    "        return cls(owner_code, contents = None, *args, **kwargs)\n",
    "    \n",
    "    @classmethod\n",
    "    def Create_with_items(cls, owner_code, items, *args, **kwargs):\n",
    "        return cls(owner_code, contents= list(items), *args, **kwargs)\n",
    "        \n",
    "    def __init__(self, owner_code, contents):\n",
    "        self.owner_code = owner_code\n",
    "        self.contents = contents\n",
    "        self.bic = self._make_bic_code(owner_code = owner_code,\n",
    "            serial = ShippingContainer._get_next_serial())\n",
    "        \n",
    "class RefrigeratorShippingContainer(ShippingContainer):\n",
    "    \n",
    "    MAX_CELSIUS = 4.0\n",
    "    \n",
    "    @staticmethod\n",
    "    def _make_bic_code(owner_code, serial):\n",
    "        return BICCodeGenerator.create(owner_code = owner_code,\n",
    "                                       serial_num = str(serial).zfill(6),\n",
    "                                      category_itendifier = 'R')\n",
    "    \n",
    "    def __init__(self, owner_code, contents, celsius):\n",
    "        super().__init__(owner_code, contents)\n",
    "        self.celsius = celsius\n",
    "    \n",
    "    @property\n",
    "    def celsius(self):\n",
    "        return self._celsius\n",
    "    \n",
    "    @celsius.setter\n",
    "    def celsius(self, celsius):\n",
    "        if celsius > RefrigeratorShippingContainer.MAX_CELSIUS:\n",
    "            raise ValueError('Temperature too hot!')\n",
    "        self._celsius = celsius"
   ]
  },
  {
   "cell_type": "code",
   "execution_count": 129,
   "metadata": {},
   "outputs": [
    {
     "data": {
      "text/plain": [
       "['ice', 'peas']"
      ]
     },
     "execution_count": 129,
     "metadata": {},
     "output_type": "execute_result"
    }
   ],
   "source": [
    "r = RefrigeratorShippingContainer.Create_with_items('ESC', ['ice', 'peas'], celsius=2.0)\n",
    "r.contents"
   ]
  },
  {
   "cell_type": "code",
   "execution_count": 130,
   "metadata": {},
   "outputs": [
    {
     "data": {
      "text/plain": [
       "'ESCR0033038'"
      ]
     },
     "execution_count": 130,
     "metadata": {},
     "output_type": "execute_result"
    }
   ],
   "source": [
    "r.bic"
   ]
  },
  {
   "cell_type": "code",
   "execution_count": 131,
   "metadata": {},
   "outputs": [
    {
     "ename": "ValueError",
     "evalue": "Temperature too hot!",
     "output_type": "error",
     "traceback": [
      "\u001b[1;31m---------------------------------------------------------------------------\u001b[0m",
      "\u001b[1;31mValueError\u001b[0m                                Traceback (most recent call last)",
      "\u001b[1;32m<ipython-input-131-6b8d862ee1a9>\u001b[0m in \u001b[0;36m<module>\u001b[1;34m\u001b[0m\n\u001b[1;32m----> 1\u001b[1;33m \u001b[0mr\u001b[0m\u001b[1;33m.\u001b[0m\u001b[0mcelsius\u001b[0m \u001b[1;33m=\u001b[0m \u001b[1;36m23.0\u001b[0m\u001b[1;33m\u001b[0m\u001b[1;33m\u001b[0m\u001b[0m\n\u001b[0m",
      "\u001b[1;32m<ipython-input-128-caa49a3a225b>\u001b[0m in \u001b[0;36mcelsius\u001b[1;34m(self, celsius)\u001b[0m\n\u001b[0;32m     48\u001b[0m     \u001b[1;32mdef\u001b[0m \u001b[0mcelsius\u001b[0m\u001b[1;33m(\u001b[0m\u001b[0mself\u001b[0m\u001b[1;33m,\u001b[0m \u001b[0mcelsius\u001b[0m\u001b[1;33m)\u001b[0m\u001b[1;33m:\u001b[0m\u001b[1;33m\u001b[0m\u001b[1;33m\u001b[0m\u001b[0m\n\u001b[0;32m     49\u001b[0m         \u001b[1;32mif\u001b[0m \u001b[0mcelsius\u001b[0m \u001b[1;33m>\u001b[0m \u001b[0mRefrigeratorShippingContainer\u001b[0m\u001b[1;33m.\u001b[0m\u001b[0mMAX_CELSIUS\u001b[0m\u001b[1;33m:\u001b[0m\u001b[1;33m\u001b[0m\u001b[1;33m\u001b[0m\u001b[0m\n\u001b[1;32m---> 50\u001b[1;33m             \u001b[1;32mraise\u001b[0m \u001b[0mValueError\u001b[0m\u001b[1;33m(\u001b[0m\u001b[1;34m'Temperature too hot!'\u001b[0m\u001b[1;33m)\u001b[0m\u001b[1;33m\u001b[0m\u001b[1;33m\u001b[0m\u001b[0m\n\u001b[0m\u001b[0;32m     51\u001b[0m         \u001b[0mself\u001b[0m\u001b[1;33m.\u001b[0m\u001b[0m_celsius\u001b[0m \u001b[1;33m=\u001b[0m \u001b[0mcelsius\u001b[0m\u001b[1;33m\u001b[0m\u001b[1;33m\u001b[0m\u001b[0m\n",
      "\u001b[1;31mValueError\u001b[0m: Temperature too hot!"
     ]
    }
   ],
   "source": [
    "r.celsius = 23.0"
   ]
  },
  {
   "cell_type": "code",
   "execution_count": 132,
   "metadata": {},
   "outputs": [],
   "source": [
    "r.celsius = 3.0"
   ]
  },
  {
   "cell_type": "code",
   "execution_count": 133,
   "metadata": {},
   "outputs": [
    {
     "data": {
      "text/plain": [
       "3.0"
      ]
     },
     "execution_count": 133,
     "metadata": {},
     "output_type": "execute_result"
    }
   ],
   "source": [
    "r.celsius"
   ]
  },
  {
   "cell_type": "code",
   "execution_count": 145,
   "metadata": {},
   "outputs": [],
   "source": [
    "class ShippingContainer:\n",
    "    \n",
    "    next_serial = 3303\n",
    "    WIDTH_FT = 12\n",
    "    HEIGHT_FT = 24\n",
    "    \n",
    "    \n",
    "    @staticmethod\n",
    "    def _make_bic_code(owner_code, serial):\n",
    "        return BICCodeGenerator.create(owner_code = owner_code,\n",
    "                                       serial_num = str(serial).zfill(6))\n",
    "    \n",
    "    @classmethod\n",
    "    def _get_next_serial(cls):\n",
    "        result = cls.next_serial\n",
    "        cls.next_serial += 1\n",
    "        return result\n",
    "    \n",
    "    @classmethod\n",
    "    def create_empty(cls, owner_code, length_ft, *args, **kwargs):\n",
    "        return cls(owner_code, length_ft, contents = None, *args, **kwargs)\n",
    "    \n",
    "    @classmethod\n",
    "    def Create_with_items(cls, owner_code, length_ft, items, *args, **kwargs):\n",
    "        return cls(owner_code, length_ft, contents= list(items), *args, **kwargs)\n",
    "        \n",
    "    def __init__(self, owner_code, length_ft, contents):\n",
    "        self.owner_code = owner_code\n",
    "        self.contents = contents\n",
    "        self.length_ft = length_ft\n",
    "        self.bic = self._make_bic_code(owner_code = owner_code,\n",
    "            serial = ShippingContainer._get_next_serial())\n",
    "        \n",
    "    @property\n",
    "    def volume(self):\n",
    "        return ShippingContainer.WIDTH_FT * ShippingContainer.HEIGHT_FT * self.length_ft\n",
    "        \n",
    "class RefrigeratorShippingContainer(ShippingContainer):\n",
    "    \n",
    "    MAX_CELSIUS = 4.0\n",
    "    \n",
    "    @staticmethod\n",
    "    def _make_bic_code(owner_code, serial):\n",
    "        return BICCodeGenerator.create(owner_code = owner_code,\n",
    "                                       serial_num = str(serial).zfill(6),\n",
    "                                      category_itendifier = 'R')\n",
    "    \n",
    "    def __init__(self, owner_code, length_ft, contents, celsius):\n",
    "        super().__init__(owner_code, length_ft, contents)\n",
    "        self.celsius = celsius\n",
    "    \n",
    "    @property\n",
    "    def celsius(self):\n",
    "        return self._celsius\n",
    "    \n",
    "    @celsius.setter\n",
    "    def celsius(self, celsius):\n",
    "        if celsius > RefrigeratorShippingContainer.MAX_CELSIUS:\n",
    "            raise ValueError('Temperature too hot!')\n",
    "        self._celsius = celsius\n",
    "        \n",
    "    @property\n",
    "    def volume(self):\n",
    "        return  super().volume - RefrigeratorShippingContainer.VOLUME_FT\n",
    "    "
   ]
  },
  {
   "cell_type": "code",
   "execution_count": 140,
   "metadata": {},
   "outputs": [
    {
     "data": {
      "text/plain": [
       "5760"
      ]
     },
     "execution_count": 140,
     "metadata": {},
     "output_type": "execute_result"
    }
   ],
   "source": [
    "r = ShippingContainer.create_empty('SSS', length_ft=20)\n",
    "r.volume"
   ]
  },
  {
   "cell_type": "code",
   "execution_count": 142,
   "metadata": {},
   "outputs": [],
   "source": [
    "r = RefrigeratorShippingContainer.create_empty('SSS', length_ft=40, celsius = 3.0)"
   ]
  },
  {
   "cell_type": "code",
   "execution_count": 143,
   "metadata": {},
   "outputs": [
    {
     "data": {
      "text/plain": [
       "11520"
      ]
     },
     "execution_count": 143,
     "metadata": {},
     "output_type": "execute_result"
    }
   ],
   "source": [
    "r.volume"
   ]
  },
  {
   "cell_type": "code",
   "execution_count": 146,
   "metadata": {},
   "outputs": [
    {
     "ename": "NameError",
     "evalue": "name 'celsius' is not defined",
     "output_type": "error",
     "traceback": [
      "\u001b[1;31m---------------------------------------------------------------------------\u001b[0m",
      "\u001b[1;31mNameError\u001b[0m                                 Traceback (most recent call last)",
      "\u001b[1;32m<ipython-input-146-d6751b3ecd35>\u001b[0m in \u001b[0;36m<module>\u001b[1;34m\u001b[0m\n\u001b[0;32m     64\u001b[0m         \u001b[1;32mreturn\u001b[0m  \u001b[0msuper\u001b[0m\u001b[1;33m(\u001b[0m\u001b[1;33m)\u001b[0m\u001b[1;33m.\u001b[0m\u001b[0mvolume\u001b[0m \u001b[1;33m-\u001b[0m \u001b[0mRefrigeratorShippingContainer\u001b[0m\u001b[1;33m.\u001b[0m\u001b[0mVOLUME_FT\u001b[0m\u001b[1;33m\u001b[0m\u001b[1;33m\u001b[0m\u001b[0m\n\u001b[0;32m     65\u001b[0m \u001b[1;33m\u001b[0m\u001b[0m\n\u001b[1;32m---> 66\u001b[1;33m \u001b[1;32mclass\u001b[0m \u001b[0mHeatedRefrigeratorShippingContainer\u001b[0m\u001b[1;33m(\u001b[0m\u001b[0mRefrigeratorShippingContainer\u001b[0m\u001b[1;33m)\u001b[0m\u001b[1;33m:\u001b[0m\u001b[1;33m\u001b[0m\u001b[1;33m\u001b[0m\u001b[0m\n\u001b[0m\u001b[0;32m     67\u001b[0m \u001b[1;33m\u001b[0m\u001b[0m\n\u001b[0;32m     68\u001b[0m     \u001b[0mMIN_CELSIUS\u001b[0m \u001b[1;33m=\u001b[0m \u001b[1;33m-\u001b[0m\u001b[1;36m20.0\u001b[0m\u001b[1;33m\u001b[0m\u001b[1;33m\u001b[0m\u001b[0m\n",
      "\u001b[1;32m<ipython-input-146-d6751b3ecd35>\u001b[0m in \u001b[0;36mHeatedRefrigeratorShippingContainer\u001b[1;34m()\u001b[0m\n\u001b[0;32m     68\u001b[0m     \u001b[0mMIN_CELSIUS\u001b[0m \u001b[1;33m=\u001b[0m \u001b[1;33m-\u001b[0m\u001b[1;36m20.0\u001b[0m\u001b[1;33m\u001b[0m\u001b[1;33m\u001b[0m\u001b[0m\n\u001b[0;32m     69\u001b[0m \u001b[1;33m\u001b[0m\u001b[0m\n\u001b[1;32m---> 70\u001b[1;33m     \u001b[1;33m@\u001b[0m\u001b[0mcelsius\u001b[0m\u001b[1;33m.\u001b[0m\u001b[0msetter\u001b[0m\u001b[1;33m\u001b[0m\u001b[1;33m\u001b[0m\u001b[0m\n\u001b[0m\u001b[0;32m     71\u001b[0m     \u001b[1;32mdef\u001b[0m \u001b[0mcelsius\u001b[0m\u001b[1;33m(\u001b[0m\u001b[0mself\u001b[0m\u001b[1;33m,\u001b[0m \u001b[0mcelsius\u001b[0m\u001b[1;33m)\u001b[0m\u001b[1;33m:\u001b[0m\u001b[1;33m\u001b[0m\u001b[1;33m\u001b[0m\u001b[0m\n\u001b[0;32m     72\u001b[0m         \u001b[1;32mif\u001b[0m \u001b[0mcelsius\u001b[0m \u001b[1;33m>\u001b[0m \u001b[0mHeatedRefrigeratorShippingContainer\u001b[0m\u001b[1;33m.\u001b[0m\u001b[0mMIN_CELSIUS\u001b[0m \u001b[1;32mor\u001b[0m \u001b[0mcelsius\u001b[0m\u001b[1;33m<\u001b[0m\u001b[0mRefrigeratorShippingContainer\u001b[0m\u001b[1;33m.\u001b[0m\u001b[0mMAX_CELSIUS\u001b[0m\u001b[1;33m:\u001b[0m\u001b[1;33m\u001b[0m\u001b[1;33m\u001b[0m\u001b[0m\n",
      "\u001b[1;31mNameError\u001b[0m: name 'celsius' is not defined"
     ]
    }
   ],
   "source": [
    "class ShippingContainer:\n",
    "    \n",
    "    next_serial = 3303\n",
    "    WIDTH_FT = 12\n",
    "    HEIGHT_FT = 24\n",
    "    \n",
    "    \n",
    "    @staticmethod\n",
    "    def _make_bic_code(owner_code, serial):\n",
    "        return BICCodeGenerator.create(owner_code = owner_code,\n",
    "                                       serial_num = str(serial).zfill(6))\n",
    "    \n",
    "    @classmethod\n",
    "    def _get_next_serial(cls):\n",
    "        result = cls.next_serial\n",
    "        cls.next_serial += 1\n",
    "        return result\n",
    "    \n",
    "    @classmethod\n",
    "    def create_empty(cls, owner_code, length_ft, *args, **kwargs):\n",
    "        return cls(owner_code, length_ft, contents = None, *args, **kwargs)\n",
    "    \n",
    "    @classmethod\n",
    "    def Create_with_items(cls, owner_code, length_ft, items, *args, **kwargs):\n",
    "        return cls(owner_code, length_ft, contents= list(items), *args, **kwargs)\n",
    "        \n",
    "    def __init__(self, owner_code, length_ft, contents):\n",
    "        self.owner_code = owner_code\n",
    "        self.contents = contents\n",
    "        self.length_ft = length_ft\n",
    "        self.bic = self._make_bic_code(owner_code = owner_code,\n",
    "            serial = ShippingContainer._get_next_serial())\n",
    "        \n",
    "    @property\n",
    "    def volume(self):\n",
    "        return ShippingContainer.WIDTH_FT * ShippingContainer.HEIGHT_FT * self.length_ft\n",
    "        \n",
    "class RefrigeratorShippingContainer(ShippingContainer):\n",
    "    \n",
    "    MAX_CELSIUS = 4.0\n",
    "    \n",
    "    @staticmethod\n",
    "    def _make_bic_code(owner_code, serial):\n",
    "        return BICCodeGenerator.create(owner_code = owner_code,\n",
    "                                       serial_num = str(serial).zfill(6),\n",
    "                                      category_itendifier = 'R')\n",
    "    \n",
    "    def __init__(self, owner_code, length_ft, contents, celsius):\n",
    "        super().__init__(owner_code, length_ft, contents)\n",
    "        self.celsius = celsius\n",
    "    \n",
    "    @property\n",
    "    def celsius(self):\n",
    "        return self._celsius\n",
    "    \n",
    "    @celsius.setter\n",
    "    def celsius(self, celsius):\n",
    "        if celsius > RefrigeratorShippingContainer.MAX_CELSIUS:\n",
    "            raise ValueError('Temperature too hot!')\n",
    "        self._celsius = celsius\n",
    "        \n",
    "    @property\n",
    "    def volume(self):\n",
    "        return  super().volume - RefrigeratorShippingContainer.VOLUME_FT\n",
    "\n",
    "class HeatedRefrigeratorShippingContainer(RefrigeratorShippingContainer):\n",
    "    \n",
    "    MIN_CELSIUS = -20.0\n",
    "    \n",
    "    @RefrigeratorShippingContainer.celsius.setter\n",
    "    def celsius(self, celsius):\n",
    "        if celsius > HeatedRefrigeratorShippingContainer.MIN_CELSIUS or celsius<RefrigeratorShippingContainer.MAX_CELSIUS:\n",
    "            raise ValueError('Temperature out of range!')\n",
    "        self._celsius = celsius\n",
    "        "
   ]
  },
  {
   "cell_type": "code",
   "execution_count": null,
   "metadata": {},
   "outputs": [],
   "source": []
  }
 ],
 "metadata": {
  "kernelspec": {
   "display_name": "Python 3",
   "language": "python",
   "name": "python3"
  },
  "language_info": {
   "codemirror_mode": {
    "name": "ipython",
    "version": 3
   },
   "file_extension": ".py",
   "mimetype": "text/x-python",
   "name": "python",
   "nbconvert_exporter": "python",
   "pygments_lexer": "ipython3",
   "version": "3.7.1"
  }
 },
 "nbformat": 4,
 "nbformat_minor": 2
}
