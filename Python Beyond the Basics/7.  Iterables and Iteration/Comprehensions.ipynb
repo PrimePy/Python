{
 "cells": [
  {
   "cell_type": "markdown",
   "metadata": {},
   "source": [
    "# Comprehensions:"
   ]
  },
  {
   "cell_type": "code",
   "execution_count": 1,
   "metadata": {},
   "outputs": [
    {
     "data": {
      "text/plain": [
       "[0, 1, 2, 3, 4, 5, 6, 7, 8, 9]"
      ]
     },
     "execution_count": 1,
     "metadata": {},
     "output_type": "execute_result"
    }
   ],
   "source": [
    "d = [i for i in range(10)]\n",
    "d"
   ]
  },
  {
   "cell_type": "code",
   "execution_count": 3,
   "metadata": {},
   "outputs": [
    {
     "data": {
      "text/plain": [
       "{0: 0, 1: 2, 2: 4, 3: 6, 4: 8, 5: 10, 6: 12, 7: 14, 8: 16, 9: 18}"
      ]
     },
     "execution_count": 3,
     "metadata": {},
     "output_type": "execute_result"
    }
   ],
   "source": [
    "d = {i: i*2 for i in range(10)}\n",
    "d"
   ]
  },
  {
   "cell_type": "code",
   "execution_count": 7,
   "metadata": {},
   "outputs": [
    {
     "data": {
      "text/plain": [
       "[(0, 0, 0), (0, 0, 1), (0, 0, 2), (0, 1, 0), (0, 1, 1), (0, 1, 2)]"
      ]
     },
     "execution_count": 7,
     "metadata": {},
     "output_type": "execute_result"
    }
   ],
   "source": [
    "d = [(x,y,z) for x in range(1) for y in range(2) for z in range(3)]\n",
    "d"
   ]
  },
  {
   "cell_type": "code",
   "execution_count": 9,
   "metadata": {},
   "outputs": [
    {
     "data": {
      "text/plain": [
       "[(0, 0, 0), (0, 0, 1), (0, 0, 2), (0, 1, 0), (0, 1, 1), (0, 1, 2)]"
      ]
     },
     "execution_count": 9,
     "metadata": {},
     "output_type": "execute_result"
    }
   ],
   "source": [
    "d = []\n",
    "for x in range(1):\n",
    "    for y in range(2):\n",
    "        for z in range(3):\n",
    "            d.append((x,y,z))\n",
    "d"
   ]
  },
  {
   "cell_type": "code",
   "execution_count": 14,
   "metadata": {},
   "outputs": [
    {
     "data": {
      "text/plain": [
       "[1.0,\n",
       " 1.02,\n",
       " 1.0,\n",
       " 1.0196078431372548,\n",
       " 1.0,\n",
       " 1.0192307692307692,\n",
       " 1.0,\n",
       " 1.0188679245283019,\n",
       " 1.0,\n",
       " 1.0185185185185186,\n",
       " 1.0,\n",
       " 1.018181818181818,\n",
       " 1.0,\n",
       " 1.0178571428571428,\n",
       " 1.0,\n",
       " 1.0175438596491229,\n",
       " 1.0,\n",
       " 1.0172413793103448,\n",
       " 1.0,\n",
       " 1.0169491525423728,\n",
       " 1.0,\n",
       " 1.0166666666666666,\n",
       " 1.0,\n",
       " 1.0163934426229508,\n",
       " 1.0,\n",
       " 1.0161290322580645,\n",
       " 1.0,\n",
       " 1.0158730158730158,\n",
       " 1.0,\n",
       " 1.015625,\n",
       " 1.0,\n",
       " 1.0153846153846153,\n",
       " 1.0,\n",
       " 1.0151515151515151,\n",
       " 1.0,\n",
       " 1.0149253731343284,\n",
       " 1.0,\n",
       " 1.0147058823529411,\n",
       " 1.0,\n",
       " 1.0144927536231885,\n",
       " 1.0,\n",
       " 1.0142857142857142,\n",
       " 1.0,\n",
       " 1.0140845070422535,\n",
       " 1.0,\n",
       " 1.0138888888888888,\n",
       " 1.0,\n",
       " 1.0136986301369864,\n",
       " 1.0,\n",
       " 1.0135135135135136,\n",
       " 1.0,\n",
       " 1.0133333333333334,\n",
       " 1.0,\n",
       " 1.013157894736842,\n",
       " 1.0,\n",
       " 1.0129870129870129,\n",
       " 1.0,\n",
       " 1.0128205128205128,\n",
       " 1.0,\n",
       " 1.0126582278481013,\n",
       " 1.0,\n",
       " 1.0125,\n",
       " 1.0,\n",
       " 1.0123456790123457,\n",
       " 1.0,\n",
       " 1.0121951219512195,\n",
       " 1.0,\n",
       " 1.0120481927710843,\n",
       " 1.0,\n",
       " 1.0119047619047619,\n",
       " 1.0,\n",
       " 1.011764705882353,\n",
       " 1.0,\n",
       " 1.0116279069767442,\n",
       " 1.0,\n",
       " 1.0114942528735633,\n",
       " 1.0,\n",
       " 1.0113636363636365,\n",
       " 1.0,\n",
       " 1.0112359550561798,\n",
       " 1.0,\n",
       " 1.011111111111111,\n",
       " 1.0,\n",
       " 1.010989010989011,\n",
       " 1.0,\n",
       " 1.0108695652173914,\n",
       " 1.0,\n",
       " 1.010752688172043,\n",
       " 1.0,\n",
       " 1.0106382978723405,\n",
       " 1.0,\n",
       " 1.0105263157894737,\n",
       " 1.0,\n",
       " 1.0104166666666667,\n",
       " 1.0,\n",
       " 1.0103092783505154,\n",
       " 1.0,\n",
       " 1.010204081632653]"
      ]
     },
     "execution_count": 14,
     "metadata": {},
     "output_type": "execute_result"
    }
   ],
   "source": [
    "[x/ (x-y)\n",
    " for x in range(100)\n",
    " if x>50\n",
    " for y in range(2)\n",
    " if (x-y)!=0]"
   ]
  },
  {
   "cell_type": "code",
   "execution_count": 15,
   "metadata": {},
   "outputs": [
    {
     "data": {
      "text/plain": [
       "[(1, 0),\n",
       " (2, 0),\n",
       " (2, 1),\n",
       " (3, 0),\n",
       " (3, 1),\n",
       " (3, 2),\n",
       " (4, 0),\n",
       " (4, 1),\n",
       " (4, 2),\n",
       " (4, 3)]"
      ]
     },
     "execution_count": 15,
     "metadata": {},
     "output_type": "execute_result"
    }
   ],
   "source": [
    "[(x,y) for x in range(5) for y in range(x)]"
   ]
  },
  {
   "cell_type": "markdown",
   "metadata": {},
   "source": [
    "# Nested Comprehensions:"
   ]
  },
  {
   "cell_type": "code",
   "execution_count": 16,
   "metadata": {},
   "outputs": [
    {
     "data": {
      "text/plain": [
       "[[1, 2, 3, 4, 5, 6, 7, 8, 9, 10],\n",
       " [2, 4, 6, 8, 10, 12, 14, 16, 18, 20],\n",
       " [3, 6, 9, 12, 15, 18, 21, 24, 27, 30],\n",
       " [4, 8, 12, 16, 20, 24, 28, 32, 36, 40],\n",
       " [5, 10, 15, 20, 25, 30, 35, 40, 45, 50],\n",
       " [6, 12, 18, 24, 30, 36, 42, 48, 54, 60],\n",
       " [7, 14, 21, 28, 35, 42, 49, 56, 63, 70],\n",
       " [8, 16, 24, 32, 40, 48, 56, 64, 72, 80],\n",
       " [9, 18, 27, 36, 45, 54, 63, 72, 81, 90],\n",
       " [10, 20, 30, 40, 50, 60, 70, 80, 90, 100]]"
      ]
     },
     "execution_count": 16,
     "metadata": {},
     "output_type": "execute_result"
    }
   ],
   "source": [
    "[[i*j for i in range(1,11)] for j in range(1,11)]"
   ]
  },
  {
   "cell_type": "code",
   "execution_count": null,
   "metadata": {},
   "outputs": [],
   "source": []
  }
 ],
 "metadata": {
  "kernelspec": {
   "display_name": "Python 3",
   "language": "python",
   "name": "python3"
  },
  "language_info": {
   "codemirror_mode": {
    "name": "ipython",
    "version": 3
   },
   "file_extension": ".py",
   "mimetype": "text/x-python",
   "name": "python",
   "nbconvert_exporter": "python",
   "pygments_lexer": "ipython3",
   "version": "3.7.3"
  }
 },
 "nbformat": 4,
 "nbformat_minor": 2
}
