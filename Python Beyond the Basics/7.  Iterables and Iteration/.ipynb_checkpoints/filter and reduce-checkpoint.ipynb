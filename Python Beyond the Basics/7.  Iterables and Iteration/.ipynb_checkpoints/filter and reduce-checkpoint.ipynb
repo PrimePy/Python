{
 "cells": [
  {
   "cell_type": "markdown",
   "metadata": {},
   "source": [
    "# filter():\n",
    "\n",
    "    => each elements in a sequence, contstruct new sequence with the elements for which the fucntions return True"
   ]
  },
  {
   "cell_type": "code",
   "execution_count": 3,
   "metadata": {},
   "outputs": [],
   "source": [
    "def is_odd(num):\n",
    "    return True if num % 2 !=0 else False  "
   ]
  },
  {
   "cell_type": "code",
   "execution_count": 4,
   "metadata": {},
   "outputs": [
    {
     "data": {
      "text/plain": [
       "[1, 3, 5]"
      ]
     },
     "execution_count": 4,
     "metadata": {},
     "output_type": "execute_result"
    }
   ],
   "source": [
    "list(filter(is_odd, [1,2,3,4,5,6]))"
   ]
  },
  {
   "cell_type": "code",
   "execution_count": 6,
   "metadata": {},
   "outputs": [
    {
     "data": {
      "text/plain": [
       "[1, 3, 5, 6]"
      ]
     },
     "execution_count": 6,
     "metadata": {},
     "output_type": "execute_result"
    }
   ],
   "source": [
    "list(filter(lambda x: x>0, [1,-2,3,-4,5,6]))"
   ]
  },
  {
   "cell_type": "markdown",
   "metadata": {},
   "source": [
    "# Note : \n",
    "\n",
    "    => Filter remove the none values"
   ]
  },
  {
   "cell_type": "code",
   "execution_count": 9,
   "metadata": {},
   "outputs": [
    {
     "data": {
      "text/plain": [
       "['hello', 3, 'optimus']"
      ]
     },
     "execution_count": 9,
     "metadata": {},
     "output_type": "execute_result"
    }
   ],
   "source": [
    "list(filter(None, ['', 0, {}, [], 'hello', 3, 'optimus']))"
   ]
  },
  {
   "cell_type": "markdown",
   "metadata": {},
   "source": [
    "# fucntools.reduce()\n",
    "    \n",
    "        => Apply paticular fucntion in each element of the sequence, reduce them single value"
   ]
  },
  {
   "cell_type": "code",
   "execution_count": 2,
   "metadata": {},
   "outputs": [
    {
     "data": {
      "text/plain": [
       "15"
      ]
     },
     "execution_count": 2,
     "metadata": {},
     "output_type": "execute_result"
    }
   ],
   "source": [
    "from functools import reduce\n",
    "sumList = reduce(lambda x, y: x+y, [1,2,3,4,5])\n",
    "sumList"
   ]
  },
  {
   "cell_type": "markdown",
   "metadata": {},
   "source": [
    "# Combination map() and reduce()"
   ]
  },
  {
   "cell_type": "code",
   "execution_count": 6,
   "metadata": {},
   "outputs": [
    {
     "data": {
      "text/plain": [
       "{'i': 3,\n",
       " 'am': 3,\n",
       " 'optimus': 2,\n",
       " 'prime.': 2,\n",
       " 'very': 2,\n",
       " 'much': 2,\n",
       " 'interested': 2,\n",
       " 'in': 2,\n",
       " 'python.python': 2,\n",
       " 'is': 2,\n",
       " 'a': 2,\n",
       " 'awesome': 2,\n",
       " 'programming': 2,\n",
       " 'language.': 2}"
      ]
     },
     "execution_count": 6,
     "metadata": {},
     "output_type": "execute_result"
    }
   ],
   "source": [
    "def wordCounter(line):\n",
    "    words = {}\n",
    "    for word in line.split():\n",
    "        words[word] = words.get(word, 0) + 1\n",
    "    return words\n",
    "\n",
    "def combine(d1, d2):\n",
    "    for word, val in d2.items():\n",
    "        d1[word] = d1.get(word, 0) +  val\n",
    "    return d1\n",
    "\n",
    "lines = [\n",
    "    'i am optimus prime. i am very much interested in python.python is a awesome programming language.',\n",
    "    'i am optimus prime. i am very much interested in python.python is a awesome programming language.'\n",
    "]\n",
    "\n",
    "w = reduce(combine, map(wordCounter, lines))\n",
    "w"
   ]
  },
  {
   "cell_type": "code",
   "execution_count": null,
   "metadata": {},
   "outputs": [],
   "source": []
  }
 ],
 "metadata": {
  "kernelspec": {
   "display_name": "Python 3",
   "language": "python",
   "name": "python3"
  },
  "language_info": {
   "codemirror_mode": {
    "name": "ipython",
    "version": 3
   },
   "file_extension": ".py",
   "mimetype": "text/x-python",
   "name": "python",
   "nbconvert_exporter": "python",
   "pygments_lexer": "ipython3",
   "version": "3.7.3"
  }
 },
 "nbformat": 4,
 "nbformat_minor": 2
}
