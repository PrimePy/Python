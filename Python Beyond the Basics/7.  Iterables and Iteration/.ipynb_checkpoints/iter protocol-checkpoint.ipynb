{
 "cells": [
  {
   "cell_type": "markdown",
   "metadata": {},
   "source": [
    "# Alternative of iterable protocol"
   ]
  },
  {
   "cell_type": "code",
   "execution_count": 4,
   "metadata": {},
   "outputs": [
    {
     "ename": "TypeError",
     "evalue": "'AlternateIterable' object is not iterable",
     "output_type": "error",
     "traceback": [
      "\u001b[1;31m---------------------------------------------------------------------------\u001b[0m",
      "\u001b[1;31mTypeError\u001b[0m                                 Traceback (most recent call last)",
      "\u001b[1;32m<ipython-input-4-375dd419bd05>\u001b[0m in \u001b[0;36m<module>\u001b[1;34m\u001b[0m\n\u001b[0;32m      6\u001b[0m         \u001b[1;32mreturn\u001b[0m \u001b[0mself\u001b[0m\u001b[1;33m.\u001b[0m\u001b[0mdata\u001b[0m\u001b[1;33m[\u001b[0m\u001b[0midx\u001b[0m\u001b[1;33m]\u001b[0m\u001b[1;33m\u001b[0m\u001b[1;33m\u001b[0m\u001b[0m\n\u001b[0;32m      7\u001b[0m \u001b[1;33m\u001b[0m\u001b[0m\n\u001b[1;32m----> 8\u001b[1;33m \u001b[1;33m[\u001b[0m\u001b[0mi\u001b[0m \u001b[1;32mfor\u001b[0m \u001b[0mi\u001b[0m \u001b[1;32min\u001b[0m \u001b[0mAlternateIterable\u001b[0m\u001b[1;33m(\u001b[0m\u001b[1;33m)\u001b[0m\u001b[1;33m]\u001b[0m\u001b[1;33m\u001b[0m\u001b[1;33m\u001b[0m\u001b[0m\n\u001b[0m",
      "\u001b[1;31mTypeError\u001b[0m: 'AlternateIterable' object is not iterable"
     ]
    }
   ],
   "source": [
    "class AlternateIterable:\n",
    "    def __init__(self):\n",
    "        self.data = [1,2,3,4]\n",
    "    \n",
    "    def __getitem_(self, idx):\n",
    "        return self.data[idx]\n",
    "    \n",
    "[i for i in AlternateIterable()]"
   ]
  },
  {
   "cell_type": "markdown",
   "metadata": {},
   "source": [
    "# Extended iter():"
   ]
  },
  {
   "cell_type": "code",
   "execution_count": 7,
   "metadata": {},
   "outputs": [
    {
     "name": "stdout",
     "output_type": "stream",
     "text": [
      "i\n",
      "am\n",
      "optimus\n",
      "prime.\n"
     ]
    }
   ],
   "source": [
    "with open('demo.txt', 'rt') as f:\n",
    "    for line in iter(lambda : f.readline().strip(), 'end'):\n",
    "        print(line)\n",
    "    "
   ]
  },
  {
   "cell_type": "markdown",
   "metadata": {},
   "source": [
    "# Sample Application:"
   ]
  },
  {
   "cell_type": "code",
   "execution_count": 13,
   "metadata": {},
   "outputs": [],
   "source": [
    "import random\n",
    "import itertools\n",
    "import datetime\n",
    "class Sensor:\n",
    "    \n",
    "    def __iter__(self):\n",
    "        return self\n",
    "    \n",
    "    def __next__(self):\n",
    "        return random.random()\n",
    "\n",
    "s= Sensor()\n",
    "timestamps = iter(datetime.datetime.now, None)\n"
   ]
  },
  {
   "cell_type": "code",
   "execution_count": 16,
   "metadata": {},
   "outputs": [
    {
     "name": "stdout",
     "output_type": "stream",
     "text": [
      "2019-07-23 21:05:38.738246 0.8968718673894541\n",
      "2019-07-23 21:05:39.739022 0.04559780298459459\n",
      "2019-07-23 21:05:40.739050 0.7561528158242491\n",
      "2019-07-23 21:05:41.739079 0.8246142557981292\n",
      "2019-07-23 21:05:42.739107 0.5559330370983235\n",
      "2019-07-23 21:05:43.739136 0.4663496289629624\n",
      "2019-07-23 21:05:44.739208 0.7921984388418009\n",
      "2019-07-23 21:05:45.739237 0.8770636807686227\n",
      "2019-07-23 21:05:46.739266 0.7627178984785433\n",
      "2019-07-23 21:05:47.739914 0.6297530800245417\n"
     ]
    }
   ],
   "source": [
    "import time\n",
    "\n",
    "for stamp, val in itertools.islice(zip(timestamps,s), 10):\n",
    "    print(stamp, val)\n",
    "    time.sleep(1)"
   ]
  },
  {
   "cell_type": "code",
   "execution_count": null,
   "metadata": {},
   "outputs": [],
   "source": []
  }
 ],
 "metadata": {
  "kernelspec": {
   "display_name": "Python 3",
   "language": "python",
   "name": "python3"
  },
  "language_info": {
   "codemirror_mode": {
    "name": "ipython",
    "version": 3
   },
   "file_extension": ".py",
   "mimetype": "text/x-python",
   "name": "python",
   "nbconvert_exporter": "python",
   "pygments_lexer": "ipython3",
   "version": "3.7.3"
  }
 },
 "nbformat": 4,
 "nbformat_minor": 2
}
