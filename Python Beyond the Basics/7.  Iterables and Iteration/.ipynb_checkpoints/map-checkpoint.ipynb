{
 "cells": [
  {
   "cell_type": "markdown",
   "metadata": {},
   "source": [
    "# map():\n",
    "\n",
    "    => Apply every element in a sequence , produce new sequence\n",
    "   "
   ]
  },
  {
   "cell_type": "code",
   "execution_count": 2,
   "metadata": {},
   "outputs": [
    {
     "data": {
      "text/plain": [
       "[73,\n",
       " 32,\n",
       " 97,\n",
       " 109,\n",
       " 32,\n",
       " 111,\n",
       " 112,\n",
       " 116,\n",
       " 105,\n",
       " 109,\n",
       " 117,\n",
       " 115,\n",
       " 32,\n",
       " 112,\n",
       " 114,\n",
       " 105,\n",
       " 109,\n",
       " 101]"
      ]
     },
     "execution_count": 2,
     "metadata": {},
     "output_type": "execute_result"
    }
   ],
   "source": [
    "list(map(ord, 'I am optimus prime'))"
   ]
  },
  {
   "cell_type": "code",
   "execution_count": 14,
   "metadata": {},
   "outputs": [],
   "source": [
    "class Validate:\n",
    "    def __init__(self):\n",
    "        self._enabled = True\n",
    "    def __call__(self,f):\n",
    "        def validate(*args, **kwargs):\n",
    "            if self._enabled:\n",
    "                print('Calling : {}'.format(f))\n",
    "            return f(*args, **kwargs)\n",
    "        return validate\n"
   ]
  },
  {
   "cell_type": "code",
   "execution_count": 21,
   "metadata": {},
   "outputs": [],
   "source": [
    "a = map(Validate()(ord), 'I am optimus pirme')"
   ]
  },
  {
   "cell_type": "code",
   "execution_count": 17,
   "metadata": {},
   "outputs": [
    {
     "name": "stdout",
     "output_type": "stream",
     "text": [
      "Calling : <built-in function ord>\n"
     ]
    },
    {
     "data": {
      "text/plain": [
       "73"
      ]
     },
     "execution_count": 17,
     "metadata": {},
     "output_type": "execute_result"
    }
   ],
   "source": [
    "next(a)"
   ]
  },
  {
   "cell_type": "code",
   "execution_count": 19,
   "metadata": {},
   "outputs": [
    {
     "name": "stdout",
     "output_type": "stream",
     "text": [
      "Calling : <built-in function ord>\n"
     ]
    },
    {
     "data": {
      "text/plain": [
       "32"
      ]
     },
     "execution_count": 19,
     "metadata": {},
     "output_type": "execute_result"
    }
   ],
   "source": [
    "next(a)"
   ]
  },
  {
   "cell_type": "code",
   "execution_count": 22,
   "metadata": {},
   "outputs": [
    {
     "name": "stdout",
     "output_type": "stream",
     "text": [
      "Calling : <built-in function ord>\n",
      "Calling : <built-in function ord>\n",
      "Calling : <built-in function ord>\n",
      "Calling : <built-in function ord>\n",
      "Calling : <built-in function ord>\n",
      "Calling : <built-in function ord>\n",
      "Calling : <built-in function ord>\n",
      "Calling : <built-in function ord>\n",
      "Calling : <built-in function ord>\n",
      "Calling : <built-in function ord>\n",
      "Calling : <built-in function ord>\n",
      "Calling : <built-in function ord>\n",
      "Calling : <built-in function ord>\n",
      "Calling : <built-in function ord>\n",
      "Calling : <built-in function ord>\n",
      "Calling : <built-in function ord>\n",
      "Calling : <built-in function ord>\n",
      "Calling : <built-in function ord>\n"
     ]
    },
    {
     "data": {
      "text/plain": [
       "[73,\n",
       " 32,\n",
       " 97,\n",
       " 109,\n",
       " 32,\n",
       " 111,\n",
       " 112,\n",
       " 116,\n",
       " 105,\n",
       " 109,\n",
       " 117,\n",
       " 115,\n",
       " 32,\n",
       " 112,\n",
       " 105,\n",
       " 114,\n",
       " 109,\n",
       " 101]"
      ]
     },
     "execution_count": 22,
     "metadata": {},
     "output_type": "execute_result"
    }
   ],
   "source": [
    "list(map(Validate()(ord), 'I am optimus pirme'))"
   ]
  },
  {
   "cell_type": "code",
   "execution_count": 23,
   "metadata": {},
   "outputs": [
    {
     "name": "stdout",
     "output_type": "stream",
     "text": [
      "Calling : <built-in function ord>\n",
      "73\n",
      "Calling : <built-in function ord>\n",
      "32\n",
      "Calling : <built-in function ord>\n",
      "97\n",
      "Calling : <built-in function ord>\n",
      "109\n",
      "Calling : <built-in function ord>\n",
      "32\n",
      "Calling : <built-in function ord>\n",
      "112\n",
      "Calling : <built-in function ord>\n",
      "114\n",
      "Calling : <built-in function ord>\n",
      "105\n",
      "Calling : <built-in function ord>\n",
      "109\n",
      "Calling : <built-in function ord>\n",
      "101\n"
     ]
    }
   ],
   "source": [
    "for data in map(Validate()(ord), 'I am prime'):\n",
    "    print(data)"
   ]
  },
  {
   "cell_type": "code",
   "execution_count": null,
   "metadata": {},
   "outputs": [],
   "source": []
  }
 ],
 "metadata": {
  "kernelspec": {
   "display_name": "Python 3",
   "language": "python",
   "name": "python3"
  },
  "language_info": {
   "codemirror_mode": {
    "name": "ipython",
    "version": 3
   },
   "file_extension": ".py",
   "mimetype": "text/x-python",
   "name": "python",
   "nbconvert_exporter": "python",
   "pygments_lexer": "ipython3",
   "version": "3.7.3"
  }
 },
 "nbformat": 4,
 "nbformat_minor": 2
}
