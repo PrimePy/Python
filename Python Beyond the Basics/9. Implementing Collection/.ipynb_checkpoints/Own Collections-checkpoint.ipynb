{
 "cells": [
  {
   "cell_type": "markdown",
   "metadata": {},
   "source": [
    "# SortedSet:\n",
    "\n",
    "    => It is similar as regular set\n",
    "    \n",
    "   **Differences**:\n",
    "    \n",
    "    => It is store the values in sorted order\n",
    "    => It is support sequence protocol"
   ]
  },
  {
   "cell_type": "code",
   "execution_count": 1,
   "metadata": {},
   "outputs": [],
   "source": [
    "class SortedSet:\n",
    "    def __init__(self, items):\n",
    "        self._items = items"
   ]
  },
  {
   "cell_type": "code",
   "execution_count": 7,
   "metadata": {},
   "outputs": [
    {
     "name": "stderr",
     "output_type": "stream",
     "text": [
      "E\n",
      "======================================================================\n",
      "ERROR: C:\\Users\\Saravanakumar\\AppData\\Roaming\\jupyter\\runtime\\kernel-6db617c8-7e58-4301-8bfc-e8d7f457e068 (unittest.loader._FailedTest)\n",
      "----------------------------------------------------------------------\n",
      "AttributeError: module '__main__' has no attribute 'C:\\Users\\Saravanakumar\\AppData\\Roaming\\jupyter\\runtime\\kernel-6db617c8-7e58-4301-8bfc-e8d7f457e068'\n",
      "\n",
      "----------------------------------------------------------------------\n",
      "Ran 1 test in 0.003s\n",
      "\n",
      "FAILED (errors=1)\n"
     ]
    },
    {
     "ename": "SystemExit",
     "evalue": "True",
     "output_type": "error",
     "traceback": [
      "An exception has occurred, use %tb to see the full traceback.\n",
      "\u001b[1;31mSystemExit\u001b[0m\u001b[1;31m:\u001b[0m True\n"
     ]
    },
    {
     "name": "stderr",
     "output_type": "stream",
     "text": [
      "F:\\SOFTWARES\\Conda\\lib\\site-packages\\IPython\\core\\interactiveshell.py:3304: UserWarning: To exit: use 'exit', 'quit', or Ctrl-D.\n",
      "  warn(\"To exit: use 'exit', 'quit', or Ctrl-D.\", stacklevel=1)\n"
     ]
    }
   ],
   "source": [
    "import unittest\n",
    "\n",
    "class TestConstrcution(unittest.TestCase):\n",
    "    \n",
    "    def test_empty(self):\n",
    "        s = SortedSet([12,12,12])\n",
    "        \n",
    "\n",
    "unittest.main()\n",
    "    "
   ]
  },
  {
   "cell_type": "markdown",
   "metadata": {},
   "source": [
    "# Container Protocol:\n",
    "\n",
    "    => in and not in operator"
   ]
  },
  {
   "cell_type": "code",
   "execution_count": 1,
   "metadata": {},
   "outputs": [],
   "source": [
    "class SortedSet():\n",
    "    \n",
    "    def __init__(self, items):\n",
    "        self._items = sorted(set(items)) if items else []\n",
    "        \n",
    "    def __repr__(self):\n",
    "        return 'SortedSet({})'.format(repr(self._items))\n",
    "    \n",
    "    def __rmul__(self, rhs):\n",
    "        return self * rhs\n",
    "    \n",
    "    def dis(self):\n",
    "        return self"
   ]
  },
  {
   "cell_type": "code",
   "execution_count": 2,
   "metadata": {},
   "outputs": [
    {
     "data": {
      "text/plain": [
       "SortedSet([3, 12, 21, 213])"
      ]
     },
     "execution_count": 2,
     "metadata": {},
     "output_type": "execute_result"
    }
   ],
   "source": [
    "s = SortedSet([12,3,12,3,213,21])\n",
    "s.dis()"
   ]
  },
  {
   "cell_type": "code",
   "execution_count": null,
   "metadata": {},
   "outputs": [],
   "source": []
  }
 ],
 "metadata": {
  "kernelspec": {
   "display_name": "Python 3",
   "language": "python",
   "name": "python3"
  },
  "language_info": {
   "codemirror_mode": {
    "name": "ipython",
    "version": 3
   },
   "file_extension": ".py",
   "mimetype": "text/x-python",
   "name": "python",
   "nbconvert_exporter": "python",
   "pygments_lexer": "ipython3",
   "version": "3.7.3"
  }
 },
 "nbformat": 4,
 "nbformat_minor": 2
}
